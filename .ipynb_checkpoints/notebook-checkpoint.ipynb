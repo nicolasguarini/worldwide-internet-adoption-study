{
 "cells": [
  {
   "cell_type": "markdown",
   "id": "4f2893c3",
   "metadata": {},
   "source": [
    "# Internet adoption around the world\n",
    "This project is based on a study about the Internet adoption around the world and how the price, speed and country's development affects this data."
   ]
  },
  {
   "cell_type": "markdown",
   "id": "5d5bd473",
   "metadata": {},
   "source": [
    "## Importing the libraries\n",
    "The first thing to do is importing the modules and making sure that they are installed correctly into our envirorment."
   ]
  },
  {
   "cell_type": "code",
   "execution_count": 14,
   "id": "93a69e91",
   "metadata": {},
   "outputs": [],
   "source": [
    "#Uncomment the lines below if the following modules are not installed on your envirorment\n",
    "#!pip install matplotlib\n",
    "#!pip install pandas\n",
    "#!pip install plotly\n",
    "#!pip install seaborn\n",
    "\n",
    "import os\n",
    "import pandas as pd\n",
    "import matplotlib.pyplot as plt\n",
    "import plotly.express as px"
   ]
  },
  {
   "cell_type": "markdown",
   "id": "8573cd72",
   "metadata": {},
   "source": [
    "## Project structure\n"
   ]
  },
  {
   "cell_type": "markdown",
   "id": "d156054c",
   "metadata": {},
   "source": [
    "The `datasets/` folder contains the following files."
   ]
  },
  {
   "cell_type": "code",
   "execution_count": 2,
   "id": "4c472bd9",
   "metadata": {
    "scrolled": false
   },
   "outputs": [
    {
     "data": {
      "text/plain": [
       "['GDP2021.csv',\n",
       " 'HDR2020.csv',\n",
       " 'worldwide internet prices in 2022 - IN 2022.csv',\n",
       " 'worldwide internet speed in 2022 - avg speed.csv',\n",
       " 'worldwide internet users - users.csv']"
      ]
     },
     "execution_count": 2,
     "metadata": {},
     "output_type": "execute_result"
    }
   ],
   "source": [
    "os.listdir(\"datasets\")"
   ]
  },
  {
   "cell_type": "markdown",
   "id": "1e666bc1",
   "metadata": {},
   "source": [
    "Datasets used for this projects:\n",
    "- `worldwide internet prices in 2022 - IN 2022.csv`: Contains informations about the price, plans available, and the price of most expensive and cheapest 1 GB for every country\n",
    "- `worldwide internet speed in 2022 - avg speed.csv`: Contains the average speed in Mbit per second for every country\n",
    "- `worldwide internet users - users.csv`: Contains the number of internet users and the total population for every country\n",
    "- `GDP2021.csv`: Contains the GDP (Gross Domestic Product) per capita for every country. This index measures a country's economic output per person and is calculated by dividing the GDP of a country by its population.\n",
    "- `HDR2020.csv`: Contains the HDI (Human Development Index) for every country. This index is a summary measure of average achievement in key dimensions of human development."
   ]
  },
  {
   "cell_type": "markdown",
   "id": "03081ab4",
   "metadata": {},
   "source": [
    "Sources:\n",
    "- Worldwide internet data in 2022: https://www.kaggle.com/datasets/ramjasmaurya/1-gb-internet-price\n",
    "- HDI (Human Development Index) 2019: https://hdr.undp.org/data-center/documentation-and-downloads\n",
    "- GDP per capita (in USD): https://data.worldbank.org/indicator/NY.GDP.PCAP.CD\n"
   ]
  },
  {
   "cell_type": "markdown",
   "id": "b58f4b62",
   "metadata": {},
   "source": [
    "## Data cleaning\n",
    "The datasets just presented contain a lot of data, however, we will not need all of them and some of them are not consistent, so we have to face a data cleaning process, removing the columns that we do not need and managing null or non-consistent values."
   ]
  },
  {
   "cell_type": "code",
   "execution_count": 3,
   "id": "43d630f7",
   "metadata": {},
   "outputs": [],
   "source": [
    "data_folder = \"datasets\""
   ]
  },
  {
   "cell_type": "markdown",
   "id": "3b37d0ee",
   "metadata": {},
   "source": [
    "### `GDP2021.csv` cleaning"
   ]
  },
  {
   "cell_type": "markdown",
   "id": "f78e2df0",
   "metadata": {},
   "source": [
    "First we import the dataset and initialize the DataFrame."
   ]
  },
  {
   "cell_type": "code",
   "execution_count": 4,
   "id": "ea118326",
   "metadata": {},
   "outputs": [
    {
     "data": {
      "text/html": [
       "<div>\n",
       "<style scoped>\n",
       "    .dataframe tbody tr th:only-of-type {\n",
       "        vertical-align: middle;\n",
       "    }\n",
       "\n",
       "    .dataframe tbody tr th {\n",
       "        vertical-align: top;\n",
       "    }\n",
       "\n",
       "    .dataframe thead th {\n",
       "        text-align: right;\n",
       "    }\n",
       "</style>\n",
       "<table border=\"1\" class=\"dataframe\">\n",
       "  <thead>\n",
       "    <tr style=\"text-align: right;\">\n",
       "      <th></th>\n",
       "      <th>Country Name</th>\n",
       "      <th>Country Code</th>\n",
       "      <th>Indicator Name</th>\n",
       "      <th>Indicator Code</th>\n",
       "      <th>1960</th>\n",
       "      <th>1961</th>\n",
       "      <th>1962</th>\n",
       "      <th>1963</th>\n",
       "      <th>1964</th>\n",
       "      <th>1965</th>\n",
       "      <th>...</th>\n",
       "      <th>2013</th>\n",
       "      <th>2014</th>\n",
       "      <th>2015</th>\n",
       "      <th>2016</th>\n",
       "      <th>2017</th>\n",
       "      <th>2018</th>\n",
       "      <th>2019</th>\n",
       "      <th>2020</th>\n",
       "      <th>2021</th>\n",
       "      <th>Unnamed: 66</th>\n",
       "    </tr>\n",
       "  </thead>\n",
       "  <tbody>\n",
       "    <tr>\n",
       "      <th>0</th>\n",
       "      <td>Aruba</td>\n",
       "      <td>ABW</td>\n",
       "      <td>GDP per capita (current US$)</td>\n",
       "      <td>NY.GDP.PCAP.CD</td>\n",
       "      <td>NaN</td>\n",
       "      <td>NaN</td>\n",
       "      <td>NaN</td>\n",
       "      <td>NaN</td>\n",
       "      <td>NaN</td>\n",
       "      <td>NaN</td>\n",
       "      <td>...</td>\n",
       "      <td>26442.426801</td>\n",
       "      <td>26895.057167</td>\n",
       "      <td>28399.050131</td>\n",
       "      <td>28453.715565</td>\n",
       "      <td>29348.418969</td>\n",
       "      <td>30253.714235</td>\n",
       "      <td>31135.884356</td>\n",
       "      <td>23384.298791</td>\n",
       "      <td>NaN</td>\n",
       "      <td>NaN</td>\n",
       "    </tr>\n",
       "    <tr>\n",
       "      <th>1</th>\n",
       "      <td>Africa Eastern and Southern</td>\n",
       "      <td>AFE</td>\n",
       "      <td>GDP per capita (current US$)</td>\n",
       "      <td>NY.GDP.PCAP.CD</td>\n",
       "      <td>162.726325</td>\n",
       "      <td>162.555968</td>\n",
       "      <td>172.271022</td>\n",
       "      <td>199.784916</td>\n",
       "      <td>180.228774</td>\n",
       "      <td>199.517228</td>\n",
       "      <td>...</td>\n",
       "      <td>1748.905594</td>\n",
       "      <td>1736.242220</td>\n",
       "      <td>1556.316469</td>\n",
       "      <td>1446.533624</td>\n",
       "      <td>1629.404273</td>\n",
       "      <td>1541.031661</td>\n",
       "      <td>1511.309259</td>\n",
       "      <td>1360.878645</td>\n",
       "      <td>1557.722682</td>\n",
       "      <td>NaN</td>\n",
       "    </tr>\n",
       "    <tr>\n",
       "      <th>2</th>\n",
       "      <td>Afghanistan</td>\n",
       "      <td>AFG</td>\n",
       "      <td>GDP per capita (current US$)</td>\n",
       "      <td>NY.GDP.PCAP.CD</td>\n",
       "      <td>59.773234</td>\n",
       "      <td>59.860900</td>\n",
       "      <td>58.458009</td>\n",
       "      <td>78.706429</td>\n",
       "      <td>82.095307</td>\n",
       "      <td>101.108325</td>\n",
       "      <td>...</td>\n",
       "      <td>624.315455</td>\n",
       "      <td>614.223342</td>\n",
       "      <td>556.007221</td>\n",
       "      <td>512.012778</td>\n",
       "      <td>516.679862</td>\n",
       "      <td>485.668419</td>\n",
       "      <td>494.179350</td>\n",
       "      <td>516.747871</td>\n",
       "      <td>NaN</td>\n",
       "      <td>NaN</td>\n",
       "    </tr>\n",
       "    <tr>\n",
       "      <th>3</th>\n",
       "      <td>Africa Western and Central</td>\n",
       "      <td>AFW</td>\n",
       "      <td>GDP per capita (current US$)</td>\n",
       "      <td>NY.GDP.PCAP.CD</td>\n",
       "      <td>107.930722</td>\n",
       "      <td>113.080062</td>\n",
       "      <td>118.829461</td>\n",
       "      <td>123.441089</td>\n",
       "      <td>131.852423</td>\n",
       "      <td>138.524029</td>\n",
       "      <td>...</td>\n",
       "      <td>2157.494584</td>\n",
       "      <td>2212.914095</td>\n",
       "      <td>1894.322115</td>\n",
       "      <td>1673.843681</td>\n",
       "      <td>1613.490478</td>\n",
       "      <td>1704.135698</td>\n",
       "      <td>1777.852822</td>\n",
       "      <td>1709.764129</td>\n",
       "      <td>1774.921218</td>\n",
       "      <td>NaN</td>\n",
       "    </tr>\n",
       "    <tr>\n",
       "      <th>4</th>\n",
       "      <td>Angola</td>\n",
       "      <td>AGO</td>\n",
       "      <td>GDP per capita (current US$)</td>\n",
       "      <td>NY.GDP.PCAP.CD</td>\n",
       "      <td>NaN</td>\n",
       "      <td>NaN</td>\n",
       "      <td>NaN</td>\n",
       "      <td>NaN</td>\n",
       "      <td>NaN</td>\n",
       "      <td>NaN</td>\n",
       "      <td>...</td>\n",
       "      <td>5127.717243</td>\n",
       "      <td>5094.112329</td>\n",
       "      <td>3127.890598</td>\n",
       "      <td>1728.023754</td>\n",
       "      <td>2313.220584</td>\n",
       "      <td>2524.942483</td>\n",
       "      <td>2177.799015</td>\n",
       "      <td>1631.431691</td>\n",
       "      <td>2137.909393</td>\n",
       "      <td>NaN</td>\n",
       "    </tr>\n",
       "    <tr>\n",
       "      <th>...</th>\n",
       "      <td>...</td>\n",
       "      <td>...</td>\n",
       "      <td>...</td>\n",
       "      <td>...</td>\n",
       "      <td>...</td>\n",
       "      <td>...</td>\n",
       "      <td>...</td>\n",
       "      <td>...</td>\n",
       "      <td>...</td>\n",
       "      <td>...</td>\n",
       "      <td>...</td>\n",
       "      <td>...</td>\n",
       "      <td>...</td>\n",
       "      <td>...</td>\n",
       "      <td>...</td>\n",
       "      <td>...</td>\n",
       "      <td>...</td>\n",
       "      <td>...</td>\n",
       "      <td>...</td>\n",
       "      <td>...</td>\n",
       "      <td>...</td>\n",
       "    </tr>\n",
       "    <tr>\n",
       "      <th>261</th>\n",
       "      <td>Kosovo</td>\n",
       "      <td>XKX</td>\n",
       "      <td>GDP per capita (current US$)</td>\n",
       "      <td>NY.GDP.PCAP.CD</td>\n",
       "      <td>NaN</td>\n",
       "      <td>NaN</td>\n",
       "      <td>NaN</td>\n",
       "      <td>NaN</td>\n",
       "      <td>NaN</td>\n",
       "      <td>NaN</td>\n",
       "      <td>...</td>\n",
       "      <td>3704.784221</td>\n",
       "      <td>3902.676013</td>\n",
       "      <td>3520.766449</td>\n",
       "      <td>3759.560246</td>\n",
       "      <td>4009.380987</td>\n",
       "      <td>4384.048892</td>\n",
       "      <td>4416.108358</td>\n",
       "      <td>4310.811183</td>\n",
       "      <td>4986.582469</td>\n",
       "      <td>NaN</td>\n",
       "    </tr>\n",
       "    <tr>\n",
       "      <th>262</th>\n",
       "      <td>Yemen, Rep.</td>\n",
       "      <td>YEM</td>\n",
       "      <td>GDP per capita (current US$)</td>\n",
       "      <td>NY.GDP.PCAP.CD</td>\n",
       "      <td>NaN</td>\n",
       "      <td>NaN</td>\n",
       "      <td>NaN</td>\n",
       "      <td>NaN</td>\n",
       "      <td>NaN</td>\n",
       "      <td>NaN</td>\n",
       "      <td>...</td>\n",
       "      <td>1607.152173</td>\n",
       "      <td>1674.002572</td>\n",
       "      <td>1601.807163</td>\n",
       "      <td>1152.738019</td>\n",
       "      <td>964.340344</td>\n",
       "      <td>758.145949</td>\n",
       "      <td>750.554583</td>\n",
       "      <td>631.681490</td>\n",
       "      <td>690.759273</td>\n",
       "      <td>NaN</td>\n",
       "    </tr>\n",
       "    <tr>\n",
       "      <th>263</th>\n",
       "      <td>South Africa</td>\n",
       "      <td>ZAF</td>\n",
       "      <td>GDP per capita (current US$)</td>\n",
       "      <td>NY.GDP.PCAP.CD</td>\n",
       "      <td>511.618737</td>\n",
       "      <td>526.461750</td>\n",
       "      <td>546.261935</td>\n",
       "      <td>589.160461</td>\n",
       "      <td>632.716104</td>\n",
       "      <td>674.186433</td>\n",
       "      <td>...</td>\n",
       "      <td>7467.079185</td>\n",
       "      <td>6988.808739</td>\n",
       "      <td>6259.839681</td>\n",
       "      <td>5756.965741</td>\n",
       "      <td>6690.939847</td>\n",
       "      <td>7005.095413</td>\n",
       "      <td>6624.761865</td>\n",
       "      <td>5655.867654</td>\n",
       "      <td>6994.211654</td>\n",
       "      <td>NaN</td>\n",
       "    </tr>\n",
       "    <tr>\n",
       "      <th>264</th>\n",
       "      <td>Zambia</td>\n",
       "      <td>ZMB</td>\n",
       "      <td>GDP per capita (current US$)</td>\n",
       "      <td>NY.GDP.PCAP.CD</td>\n",
       "      <td>232.188564</td>\n",
       "      <td>220.042067</td>\n",
       "      <td>212.578449</td>\n",
       "      <td>213.896759</td>\n",
       "      <td>242.384473</td>\n",
       "      <td>303.281740</td>\n",
       "      <td>...</td>\n",
       "      <td>1878.346811</td>\n",
       "      <td>1762.427817</td>\n",
       "      <td>1338.290927</td>\n",
       "      <td>1280.806543</td>\n",
       "      <td>1535.196574</td>\n",
       "      <td>1516.368371</td>\n",
       "      <td>1305.001031</td>\n",
       "      <td>985.132436</td>\n",
       "      <td>1120.630171</td>\n",
       "      <td>NaN</td>\n",
       "    </tr>\n",
       "    <tr>\n",
       "      <th>265</th>\n",
       "      <td>Zimbabwe</td>\n",
       "      <td>ZWE</td>\n",
       "      <td>GDP per capita (current US$)</td>\n",
       "      <td>NY.GDP.PCAP.CD</td>\n",
       "      <td>278.813847</td>\n",
       "      <td>280.828663</td>\n",
       "      <td>276.688233</td>\n",
       "      <td>277.479715</td>\n",
       "      <td>281.558896</td>\n",
       "      <td>293.308788</td>\n",
       "      <td>...</td>\n",
       "      <td>1429.998461</td>\n",
       "      <td>1434.896277</td>\n",
       "      <td>1445.069702</td>\n",
       "      <td>1464.588957</td>\n",
       "      <td>1235.189032</td>\n",
       "      <td>1254.642265</td>\n",
       "      <td>1316.740657</td>\n",
       "      <td>1214.509820</td>\n",
       "      <td>1737.173977</td>\n",
       "      <td>NaN</td>\n",
       "    </tr>\n",
       "  </tbody>\n",
       "</table>\n",
       "<p>266 rows × 67 columns</p>\n",
       "</div>"
      ],
      "text/plain": [
       "                    Country Name Country Code                Indicator Name  \\\n",
       "0                          Aruba          ABW  GDP per capita (current US$)   \n",
       "1    Africa Eastern and Southern          AFE  GDP per capita (current US$)   \n",
       "2                    Afghanistan          AFG  GDP per capita (current US$)   \n",
       "3     Africa Western and Central          AFW  GDP per capita (current US$)   \n",
       "4                         Angola          AGO  GDP per capita (current US$)   \n",
       "..                           ...          ...                           ...   \n",
       "261                       Kosovo          XKX  GDP per capita (current US$)   \n",
       "262                  Yemen, Rep.          YEM  GDP per capita (current US$)   \n",
       "263                 South Africa          ZAF  GDP per capita (current US$)   \n",
       "264                       Zambia          ZMB  GDP per capita (current US$)   \n",
       "265                     Zimbabwe          ZWE  GDP per capita (current US$)   \n",
       "\n",
       "     Indicator Code        1960        1961        1962        1963  \\\n",
       "0    NY.GDP.PCAP.CD         NaN         NaN         NaN         NaN   \n",
       "1    NY.GDP.PCAP.CD  162.726325  162.555968  172.271022  199.784916   \n",
       "2    NY.GDP.PCAP.CD   59.773234   59.860900   58.458009   78.706429   \n",
       "3    NY.GDP.PCAP.CD  107.930722  113.080062  118.829461  123.441089   \n",
       "4    NY.GDP.PCAP.CD         NaN         NaN         NaN         NaN   \n",
       "..              ...         ...         ...         ...         ...   \n",
       "261  NY.GDP.PCAP.CD         NaN         NaN         NaN         NaN   \n",
       "262  NY.GDP.PCAP.CD         NaN         NaN         NaN         NaN   \n",
       "263  NY.GDP.PCAP.CD  511.618737  526.461750  546.261935  589.160461   \n",
       "264  NY.GDP.PCAP.CD  232.188564  220.042067  212.578449  213.896759   \n",
       "265  NY.GDP.PCAP.CD  278.813847  280.828663  276.688233  277.479715   \n",
       "\n",
       "           1964        1965  ...          2013          2014          2015  \\\n",
       "0           NaN         NaN  ...  26442.426801  26895.057167  28399.050131   \n",
       "1    180.228774  199.517228  ...   1748.905594   1736.242220   1556.316469   \n",
       "2     82.095307  101.108325  ...    624.315455    614.223342    556.007221   \n",
       "3    131.852423  138.524029  ...   2157.494584   2212.914095   1894.322115   \n",
       "4           NaN         NaN  ...   5127.717243   5094.112329   3127.890598   \n",
       "..          ...         ...  ...           ...           ...           ...   \n",
       "261         NaN         NaN  ...   3704.784221   3902.676013   3520.766449   \n",
       "262         NaN         NaN  ...   1607.152173   1674.002572   1601.807163   \n",
       "263  632.716104  674.186433  ...   7467.079185   6988.808739   6259.839681   \n",
       "264  242.384473  303.281740  ...   1878.346811   1762.427817   1338.290927   \n",
       "265  281.558896  293.308788  ...   1429.998461   1434.896277   1445.069702   \n",
       "\n",
       "             2016          2017          2018          2019          2020  \\\n",
       "0    28453.715565  29348.418969  30253.714235  31135.884356  23384.298791   \n",
       "1     1446.533624   1629.404273   1541.031661   1511.309259   1360.878645   \n",
       "2      512.012778    516.679862    485.668419    494.179350    516.747871   \n",
       "3     1673.843681   1613.490478   1704.135698   1777.852822   1709.764129   \n",
       "4     1728.023754   2313.220584   2524.942483   2177.799015   1631.431691   \n",
       "..            ...           ...           ...           ...           ...   \n",
       "261   3759.560246   4009.380987   4384.048892   4416.108358   4310.811183   \n",
       "262   1152.738019    964.340344    758.145949    750.554583    631.681490   \n",
       "263   5756.965741   6690.939847   7005.095413   6624.761865   5655.867654   \n",
       "264   1280.806543   1535.196574   1516.368371   1305.001031    985.132436   \n",
       "265   1464.588957   1235.189032   1254.642265   1316.740657   1214.509820   \n",
       "\n",
       "            2021  Unnamed: 66  \n",
       "0            NaN          NaN  \n",
       "1    1557.722682          NaN  \n",
       "2            NaN          NaN  \n",
       "3    1774.921218          NaN  \n",
       "4    2137.909393          NaN  \n",
       "..           ...          ...  \n",
       "261  4986.582469          NaN  \n",
       "262   690.759273          NaN  \n",
       "263  6994.211654          NaN  \n",
       "264  1120.630171          NaN  \n",
       "265  1737.173977          NaN  \n",
       "\n",
       "[266 rows x 67 columns]"
      ]
     },
     "execution_count": 4,
     "metadata": {},
     "output_type": "execute_result"
    }
   ],
   "source": [
    "df_gdp = pd.read_csv(os.path.join(data_folder, \"GDP2021.csv\"))\n",
    "df_gdp"
   ]
  },
  {
   "cell_type": "markdown",
   "id": "52648c74",
   "metadata": {},
   "source": [
    "As we can see, the dataset contains the data for each country from 1960 to today, for what we have to do we are enough data on the GDP per capita of the year 2020 (we do not choose those of 2021 due to the fact that different countries have null values )"
   ]
  },
  {
   "cell_type": "code",
   "execution_count": 5,
   "id": "b3262e9f",
   "metadata": {},
   "outputs": [
    {
     "data": {
      "text/html": [
       "<div>\n",
       "<style scoped>\n",
       "    .dataframe tbody tr th:only-of-type {\n",
       "        vertical-align: middle;\n",
       "    }\n",
       "\n",
       "    .dataframe tbody tr th {\n",
       "        vertical-align: top;\n",
       "    }\n",
       "\n",
       "    .dataframe thead th {\n",
       "        text-align: right;\n",
       "    }\n",
       "</style>\n",
       "<table border=\"1\" class=\"dataframe\">\n",
       "  <thead>\n",
       "    <tr style=\"text-align: right;\">\n",
       "      <th></th>\n",
       "      <th>Country Name</th>\n",
       "      <th>Country Code</th>\n",
       "      <th>2020</th>\n",
       "    </tr>\n",
       "  </thead>\n",
       "  <tbody>\n",
       "    <tr>\n",
       "      <th>0</th>\n",
       "      <td>Aruba</td>\n",
       "      <td>ABW</td>\n",
       "      <td>23384.298791</td>\n",
       "    </tr>\n",
       "    <tr>\n",
       "      <th>1</th>\n",
       "      <td>Africa Eastern and Southern</td>\n",
       "      <td>AFE</td>\n",
       "      <td>1360.878645</td>\n",
       "    </tr>\n",
       "    <tr>\n",
       "      <th>2</th>\n",
       "      <td>Afghanistan</td>\n",
       "      <td>AFG</td>\n",
       "      <td>516.747871</td>\n",
       "    </tr>\n",
       "    <tr>\n",
       "      <th>3</th>\n",
       "      <td>Africa Western and Central</td>\n",
       "      <td>AFW</td>\n",
       "      <td>1709.764129</td>\n",
       "    </tr>\n",
       "    <tr>\n",
       "      <th>4</th>\n",
       "      <td>Angola</td>\n",
       "      <td>AGO</td>\n",
       "      <td>1631.431691</td>\n",
       "    </tr>\n",
       "    <tr>\n",
       "      <th>...</th>\n",
       "      <td>...</td>\n",
       "      <td>...</td>\n",
       "      <td>...</td>\n",
       "    </tr>\n",
       "    <tr>\n",
       "      <th>261</th>\n",
       "      <td>Kosovo</td>\n",
       "      <td>XKX</td>\n",
       "      <td>4310.811183</td>\n",
       "    </tr>\n",
       "    <tr>\n",
       "      <th>262</th>\n",
       "      <td>Yemen, Rep.</td>\n",
       "      <td>YEM</td>\n",
       "      <td>631.681490</td>\n",
       "    </tr>\n",
       "    <tr>\n",
       "      <th>263</th>\n",
       "      <td>South Africa</td>\n",
       "      <td>ZAF</td>\n",
       "      <td>5655.867654</td>\n",
       "    </tr>\n",
       "    <tr>\n",
       "      <th>264</th>\n",
       "      <td>Zambia</td>\n",
       "      <td>ZMB</td>\n",
       "      <td>985.132436</td>\n",
       "    </tr>\n",
       "    <tr>\n",
       "      <th>265</th>\n",
       "      <td>Zimbabwe</td>\n",
       "      <td>ZWE</td>\n",
       "      <td>1214.509820</td>\n",
       "    </tr>\n",
       "  </tbody>\n",
       "</table>\n",
       "<p>266 rows × 3 columns</p>\n",
       "</div>"
      ],
      "text/plain": [
       "                    Country Name Country Code          2020\n",
       "0                          Aruba          ABW  23384.298791\n",
       "1    Africa Eastern and Southern          AFE   1360.878645\n",
       "2                    Afghanistan          AFG    516.747871\n",
       "3     Africa Western and Central          AFW   1709.764129\n",
       "4                         Angola          AGO   1631.431691\n",
       "..                           ...          ...           ...\n",
       "261                       Kosovo          XKX   4310.811183\n",
       "262                  Yemen, Rep.          YEM    631.681490\n",
       "263                 South Africa          ZAF   5655.867654\n",
       "264                       Zambia          ZMB    985.132436\n",
       "265                     Zimbabwe          ZWE   1214.509820\n",
       "\n",
       "[266 rows x 3 columns]"
      ]
     },
     "execution_count": 5,
     "metadata": {},
     "output_type": "execute_result"
    }
   ],
   "source": [
    "df_gdp2020 = df_gdp[[\"Country Name\", \"Country Code\", \"2020\"]]\n",
    "df_gdp2020"
   ]
  },
  {
   "cell_type": "markdown",
   "id": "11e9ec4f",
   "metadata": {},
   "source": [
    "Let's rename the columns now."
   ]
  },
  {
   "cell_type": "code",
   "execution_count": 6,
   "id": "61f90c61",
   "metadata": {},
   "outputs": [
    {
     "data": {
      "text/html": [
       "<div>\n",
       "<style scoped>\n",
       "    .dataframe tbody tr th:only-of-type {\n",
       "        vertical-align: middle;\n",
       "    }\n",
       "\n",
       "    .dataframe tbody tr th {\n",
       "        vertical-align: top;\n",
       "    }\n",
       "\n",
       "    .dataframe thead th {\n",
       "        text-align: right;\n",
       "    }\n",
       "</style>\n",
       "<table border=\"1\" class=\"dataframe\">\n",
       "  <thead>\n",
       "    <tr style=\"text-align: right;\">\n",
       "      <th></th>\n",
       "      <th>Country Name</th>\n",
       "      <th>Country Code</th>\n",
       "      <th>GDP</th>\n",
       "    </tr>\n",
       "  </thead>\n",
       "  <tbody>\n",
       "    <tr>\n",
       "      <th>0</th>\n",
       "      <td>Aruba</td>\n",
       "      <td>ABW</td>\n",
       "      <td>23384.298791</td>\n",
       "    </tr>\n",
       "    <tr>\n",
       "      <th>1</th>\n",
       "      <td>Africa Eastern and Southern</td>\n",
       "      <td>AFE</td>\n",
       "      <td>1360.878645</td>\n",
       "    </tr>\n",
       "    <tr>\n",
       "      <th>2</th>\n",
       "      <td>Afghanistan</td>\n",
       "      <td>AFG</td>\n",
       "      <td>516.747871</td>\n",
       "    </tr>\n",
       "    <tr>\n",
       "      <th>3</th>\n",
       "      <td>Africa Western and Central</td>\n",
       "      <td>AFW</td>\n",
       "      <td>1709.764129</td>\n",
       "    </tr>\n",
       "    <tr>\n",
       "      <th>4</th>\n",
       "      <td>Angola</td>\n",
       "      <td>AGO</td>\n",
       "      <td>1631.431691</td>\n",
       "    </tr>\n",
       "    <tr>\n",
       "      <th>...</th>\n",
       "      <td>...</td>\n",
       "      <td>...</td>\n",
       "      <td>...</td>\n",
       "    </tr>\n",
       "    <tr>\n",
       "      <th>261</th>\n",
       "      <td>Kosovo</td>\n",
       "      <td>XKX</td>\n",
       "      <td>4310.811183</td>\n",
       "    </tr>\n",
       "    <tr>\n",
       "      <th>262</th>\n",
       "      <td>Yemen, Rep.</td>\n",
       "      <td>YEM</td>\n",
       "      <td>631.681490</td>\n",
       "    </tr>\n",
       "    <tr>\n",
       "      <th>263</th>\n",
       "      <td>South Africa</td>\n",
       "      <td>ZAF</td>\n",
       "      <td>5655.867654</td>\n",
       "    </tr>\n",
       "    <tr>\n",
       "      <th>264</th>\n",
       "      <td>Zambia</td>\n",
       "      <td>ZMB</td>\n",
       "      <td>985.132436</td>\n",
       "    </tr>\n",
       "    <tr>\n",
       "      <th>265</th>\n",
       "      <td>Zimbabwe</td>\n",
       "      <td>ZWE</td>\n",
       "      <td>1214.509820</td>\n",
       "    </tr>\n",
       "  </tbody>\n",
       "</table>\n",
       "<p>266 rows × 3 columns</p>\n",
       "</div>"
      ],
      "text/plain": [
       "                    Country Name Country Code           GDP\n",
       "0                          Aruba          ABW  23384.298791\n",
       "1    Africa Eastern and Southern          AFE   1360.878645\n",
       "2                    Afghanistan          AFG    516.747871\n",
       "3     Africa Western and Central          AFW   1709.764129\n",
       "4                         Angola          AGO   1631.431691\n",
       "..                           ...          ...           ...\n",
       "261                       Kosovo          XKX   4310.811183\n",
       "262                  Yemen, Rep.          YEM    631.681490\n",
       "263                 South Africa          ZAF   5655.867654\n",
       "264                       Zambia          ZMB    985.132436\n",
       "265                     Zimbabwe          ZWE   1214.509820\n",
       "\n",
       "[266 rows x 3 columns]"
      ]
     },
     "execution_count": 6,
     "metadata": {},
     "output_type": "execute_result"
    }
   ],
   "source": [
    "df_gdp2020 = df_gdp2020.rename(columns={\n",
    "    \"2020\": \"GDP\"\n",
    "}, copy=True, inplace=False)\n",
    "df_gdp2020"
   ]
  },
  {
   "cell_type": "markdown",
   "id": "f08a254e",
   "metadata": {},
   "source": [
    "Cleaning the data."
   ]
  },
  {
   "cell_type": "code",
   "execution_count": 7,
   "id": "e1b33cbf",
   "metadata": {},
   "outputs": [
    {
     "name": "stdout",
     "output_type": "stream",
     "text": [
      "<class 'pandas.core.frame.DataFrame'>\n",
      "Int64Index: 251 entries, 0 to 265\n",
      "Data columns (total 3 columns):\n",
      " #   Column        Non-Null Count  Dtype  \n",
      "---  ------        --------------  -----  \n",
      " 0   Country Name  251 non-null    object \n",
      " 1   Country Code  251 non-null    object \n",
      " 2   GDP           251 non-null    float64\n",
      "dtypes: float64(1), object(2)\n",
      "memory usage: 7.8+ KB\n"
     ]
    }
   ],
   "source": [
    "df_gdp2020 = df_gdp2020.loc[df_gdp2020[\"GDP\"].notna()]\n",
    "df_gdp2020.info()"
   ]
  },
  {
   "cell_type": "markdown",
   "id": "b77c20e3",
   "metadata": {},
   "source": [
    "### `HDR2020.csv` cleaning"
   ]
  },
  {
   "cell_type": "markdown",
   "id": "6998d8dc",
   "metadata": {},
   "source": [
    "Importing the dataset into a pandas DataFrame."
   ]
  },
  {
   "cell_type": "code",
   "execution_count": 8,
   "id": "84ccb440",
   "metadata": {},
   "outputs": [
    {
     "data": {
      "text/html": [
       "<div>\n",
       "<style scoped>\n",
       "    .dataframe tbody tr th:only-of-type {\n",
       "        vertical-align: middle;\n",
       "    }\n",
       "\n",
       "    .dataframe tbody tr th {\n",
       "        vertical-align: top;\n",
       "    }\n",
       "\n",
       "    .dataframe thead th {\n",
       "        text-align: right;\n",
       "    }\n",
       "</style>\n",
       "<table border=\"1\" class=\"dataframe\">\n",
       "  <thead>\n",
       "    <tr style=\"text-align: right;\">\n",
       "      <th></th>\n",
       "      <th>iso3</th>\n",
       "      <th>country</th>\n",
       "      <th>hdicode</th>\n",
       "      <th>region</th>\n",
       "      <th>hdi_rank_2019</th>\n",
       "      <th>hdi_1990</th>\n",
       "      <th>hdi_1991</th>\n",
       "      <th>hdi_1992</th>\n",
       "      <th>hdi_1993</th>\n",
       "      <th>hdi_1994</th>\n",
       "      <th>...</th>\n",
       "      <th>gnipc_2010</th>\n",
       "      <th>gnipc_2011</th>\n",
       "      <th>gnipc_2012</th>\n",
       "      <th>gnipc_2013</th>\n",
       "      <th>gnipc_2014</th>\n",
       "      <th>gnipc_2015</th>\n",
       "      <th>gnipc_2016</th>\n",
       "      <th>gnipc_2017</th>\n",
       "      <th>gnipc_2018</th>\n",
       "      <th>gnipc_2019</th>\n",
       "    </tr>\n",
       "  </thead>\n",
       "  <tbody>\n",
       "    <tr>\n",
       "      <th>0</th>\n",
       "      <td>AFG</td>\n",
       "      <td>Afghanistan</td>\n",
       "      <td>Low</td>\n",
       "      <td>SA</td>\n",
       "      <td>169.0</td>\n",
       "      <td>0.302</td>\n",
       "      <td>0.307</td>\n",
       "      <td>0.316</td>\n",
       "      <td>0.312</td>\n",
       "      <td>0.307</td>\n",
       "      <td>...</td>\n",
       "      <td>1917.394944</td>\n",
       "      <td>2013.614084</td>\n",
       "      <td>2164.641446</td>\n",
       "      <td>2229.906554</td>\n",
       "      <td>2214.414390</td>\n",
       "      <td>2128.161886</td>\n",
       "      <td>2134.866156</td>\n",
       "      <td>2229.657978</td>\n",
       "      <td>2217.175808</td>\n",
       "      <td>2229.362021</td>\n",
       "    </tr>\n",
       "    <tr>\n",
       "      <th>1</th>\n",
       "      <td>AGO</td>\n",
       "      <td>Angola</td>\n",
       "      <td>Medium</td>\n",
       "      <td>SSA</td>\n",
       "      <td>148.0</td>\n",
       "      <td>NaN</td>\n",
       "      <td>NaN</td>\n",
       "      <td>NaN</td>\n",
       "      <td>NaN</td>\n",
       "      <td>NaN</td>\n",
       "      <td>...</td>\n",
       "      <td>6913.160589</td>\n",
       "      <td>6887.003763</td>\n",
       "      <td>7282.049679</td>\n",
       "      <td>7478.856252</td>\n",
       "      <td>7704.367840</td>\n",
       "      <td>7652.152491</td>\n",
       "      <td>7189.031576</td>\n",
       "      <td>6861.580571</td>\n",
       "      <td>6360.551085</td>\n",
       "      <td>6104.054640</td>\n",
       "    </tr>\n",
       "    <tr>\n",
       "      <th>2</th>\n",
       "      <td>ALB</td>\n",
       "      <td>Albania</td>\n",
       "      <td>High</td>\n",
       "      <td>ECA</td>\n",
       "      <td>69.0</td>\n",
       "      <td>0.650</td>\n",
       "      <td>0.631</td>\n",
       "      <td>0.615</td>\n",
       "      <td>0.618</td>\n",
       "      <td>0.624</td>\n",
       "      <td>...</td>\n",
       "      <td>10774.721800</td>\n",
       "      <td>11237.447160</td>\n",
       "      <td>11365.140100</td>\n",
       "      <td>11806.357820</td>\n",
       "      <td>11951.262990</td>\n",
       "      <td>12273.472790</td>\n",
       "      <td>12753.307240</td>\n",
       "      <td>13071.095440</td>\n",
       "      <td>13636.864160</td>\n",
       "      <td>13998.299890</td>\n",
       "    </tr>\n",
       "    <tr>\n",
       "      <th>3</th>\n",
       "      <td>AND</td>\n",
       "      <td>Andorra</td>\n",
       "      <td>Very High</td>\n",
       "      <td>NaN</td>\n",
       "      <td>36.0</td>\n",
       "      <td>NaN</td>\n",
       "      <td>NaN</td>\n",
       "      <td>NaN</td>\n",
       "      <td>NaN</td>\n",
       "      <td>NaN</td>\n",
       "      <td>...</td>\n",
       "      <td>49261.522250</td>\n",
       "      <td>47366.246500</td>\n",
       "      <td>47347.415550</td>\n",
       "      <td>48486.415270</td>\n",
       "      <td>50567.869660</td>\n",
       "      <td>51779.832310</td>\n",
       "      <td>53245.151100</td>\n",
       "      <td>54371.344670</td>\n",
       "      <td>55253.539290</td>\n",
       "      <td>56000.303360</td>\n",
       "    </tr>\n",
       "    <tr>\n",
       "      <th>4</th>\n",
       "      <td>ARE</td>\n",
       "      <td>United Arab Emirates</td>\n",
       "      <td>Very High</td>\n",
       "      <td>AS</td>\n",
       "      <td>31.0</td>\n",
       "      <td>0.723</td>\n",
       "      <td>0.735</td>\n",
       "      <td>0.738</td>\n",
       "      <td>0.745</td>\n",
       "      <td>0.755</td>\n",
       "      <td>...</td>\n",
       "      <td>54911.286620</td>\n",
       "      <td>56152.974740</td>\n",
       "      <td>57447.350900</td>\n",
       "      <td>60007.280900</td>\n",
       "      <td>62499.797840</td>\n",
       "      <td>65528.562580</td>\n",
       "      <td>66881.303340</td>\n",
       "      <td>67667.529860</td>\n",
       "      <td>67195.144070</td>\n",
       "      <td>67462.095300</td>\n",
       "    </tr>\n",
       "    <tr>\n",
       "      <th>...</th>\n",
       "      <td>...</td>\n",
       "      <td>...</td>\n",
       "      <td>...</td>\n",
       "      <td>...</td>\n",
       "      <td>...</td>\n",
       "      <td>...</td>\n",
       "      <td>...</td>\n",
       "      <td>...</td>\n",
       "      <td>...</td>\n",
       "      <td>...</td>\n",
       "      <td>...</td>\n",
       "      <td>...</td>\n",
       "      <td>...</td>\n",
       "      <td>...</td>\n",
       "      <td>...</td>\n",
       "      <td>...</td>\n",
       "      <td>...</td>\n",
       "      <td>...</td>\n",
       "      <td>...</td>\n",
       "      <td>...</td>\n",
       "      <td>...</td>\n",
       "    </tr>\n",
       "    <tr>\n",
       "      <th>201</th>\n",
       "      <td>NaN</td>\n",
       "      <td>Europe and Central Asia</td>\n",
       "      <td>NaN</td>\n",
       "      <td>NaN</td>\n",
       "      <td>NaN</td>\n",
       "      <td>0.662</td>\n",
       "      <td>0.660</td>\n",
       "      <td>0.655</td>\n",
       "      <td>0.652</td>\n",
       "      <td>0.647</td>\n",
       "      <td>...</td>\n",
       "      <td>13569.467840</td>\n",
       "      <td>14428.049910</td>\n",
       "      <td>14874.924620</td>\n",
       "      <td>15673.049410</td>\n",
       "      <td>16106.237260</td>\n",
       "      <td>16405.601040</td>\n",
       "      <td>16586.066320</td>\n",
       "      <td>17304.570200</td>\n",
       "      <td>17681.471150</td>\n",
       "      <td>17939.260030</td>\n",
       "    </tr>\n",
       "    <tr>\n",
       "      <th>202</th>\n",
       "      <td>NaN</td>\n",
       "      <td>Latin America and the Caribbean</td>\n",
       "      <td>NaN</td>\n",
       "      <td>NaN</td>\n",
       "      <td>NaN</td>\n",
       "      <td>0.632</td>\n",
       "      <td>0.637</td>\n",
       "      <td>0.643</td>\n",
       "      <td>0.648</td>\n",
       "      <td>0.654</td>\n",
       "      <td>...</td>\n",
       "      <td>14347.224160</td>\n",
       "      <td>14840.565630</td>\n",
       "      <td>15107.901270</td>\n",
       "      <td>15406.644950</td>\n",
       "      <td>15461.446390</td>\n",
       "      <td>15376.018970</td>\n",
       "      <td>15081.796980</td>\n",
       "      <td>15099.754830</td>\n",
       "      <td>15009.505790</td>\n",
       "      <td>14811.914690</td>\n",
       "    </tr>\n",
       "    <tr>\n",
       "      <th>203</th>\n",
       "      <td>NaN</td>\n",
       "      <td>South Asia</td>\n",
       "      <td>NaN</td>\n",
       "      <td>NaN</td>\n",
       "      <td>NaN</td>\n",
       "      <td>0.437</td>\n",
       "      <td>0.443</td>\n",
       "      <td>0.450</td>\n",
       "      <td>0.456</td>\n",
       "      <td>0.462</td>\n",
       "      <td>...</td>\n",
       "      <td>4485.441685</td>\n",
       "      <td>4646.120434</td>\n",
       "      <td>4755.925801</td>\n",
       "      <td>4939.747501</td>\n",
       "      <td>5200.584183</td>\n",
       "      <td>5466.463904</td>\n",
       "      <td>5806.167594</td>\n",
       "      <td>6141.201410</td>\n",
       "      <td>6368.240926</td>\n",
       "      <td>6531.552457</td>\n",
       "    </tr>\n",
       "    <tr>\n",
       "      <th>204</th>\n",
       "      <td>NaN</td>\n",
       "      <td>Sub-Saharan Africa</td>\n",
       "      <td>NaN</td>\n",
       "      <td>NaN</td>\n",
       "      <td>NaN</td>\n",
       "      <td>0.404</td>\n",
       "      <td>0.406</td>\n",
       "      <td>0.406</td>\n",
       "      <td>0.408</td>\n",
       "      <td>0.409</td>\n",
       "      <td>...</td>\n",
       "      <td>3322.968341</td>\n",
       "      <td>3393.581592</td>\n",
       "      <td>3468.250329</td>\n",
       "      <td>3572.503098</td>\n",
       "      <td>3675.644359</td>\n",
       "      <td>3719.488811</td>\n",
       "      <td>3676.551383</td>\n",
       "      <td>3673.065762</td>\n",
       "      <td>3669.296934</td>\n",
       "      <td>3685.644365</td>\n",
       "    </tr>\n",
       "    <tr>\n",
       "      <th>205</th>\n",
       "      <td>NaN</td>\n",
       "      <td>World</td>\n",
       "      <td>NaN</td>\n",
       "      <td>NaN</td>\n",
       "      <td>NaN</td>\n",
       "      <td>0.601</td>\n",
       "      <td>0.604</td>\n",
       "      <td>0.605</td>\n",
       "      <td>0.611</td>\n",
       "      <td>0.615</td>\n",
       "      <td>...</td>\n",
       "      <td>13870.163650</td>\n",
       "      <td>14206.799790</td>\n",
       "      <td>14515.826380</td>\n",
       "      <td>14764.309860</td>\n",
       "      <td>15085.333590</td>\n",
       "      <td>15390.076900</td>\n",
       "      <td>15675.621260</td>\n",
       "      <td>16095.680240</td>\n",
       "      <td>16454.252460</td>\n",
       "      <td>16733.822570</td>\n",
       "    </tr>\n",
       "  </tbody>\n",
       "</table>\n",
       "<p>206 rows × 155 columns</p>\n",
       "</div>"
      ],
      "text/plain": [
       "    iso3                          country    hdicode region  hdi_rank_2019  \\\n",
       "0    AFG                      Afghanistan        Low     SA          169.0   \n",
       "1    AGO                           Angola     Medium    SSA          148.0   \n",
       "2    ALB                          Albania       High    ECA           69.0   \n",
       "3    AND                          Andorra  Very High    NaN           36.0   \n",
       "4    ARE             United Arab Emirates  Very High     AS           31.0   \n",
       "..   ...                              ...        ...    ...            ...   \n",
       "201  NaN          Europe and Central Asia        NaN    NaN            NaN   \n",
       "202  NaN  Latin America and the Caribbean        NaN    NaN            NaN   \n",
       "203  NaN                       South Asia        NaN    NaN            NaN   \n",
       "204  NaN               Sub-Saharan Africa        NaN    NaN            NaN   \n",
       "205  NaN                            World        NaN    NaN            NaN   \n",
       "\n",
       "     hdi_1990  hdi_1991  hdi_1992  hdi_1993  hdi_1994  ...    gnipc_2010  \\\n",
       "0       0.302     0.307     0.316     0.312     0.307  ...   1917.394944   \n",
       "1         NaN       NaN       NaN       NaN       NaN  ...   6913.160589   \n",
       "2       0.650     0.631     0.615     0.618     0.624  ...  10774.721800   \n",
       "3         NaN       NaN       NaN       NaN       NaN  ...  49261.522250   \n",
       "4       0.723     0.735     0.738     0.745     0.755  ...  54911.286620   \n",
       "..        ...       ...       ...       ...       ...  ...           ...   \n",
       "201     0.662     0.660     0.655     0.652     0.647  ...  13569.467840   \n",
       "202     0.632     0.637     0.643     0.648     0.654  ...  14347.224160   \n",
       "203     0.437     0.443     0.450     0.456     0.462  ...   4485.441685   \n",
       "204     0.404     0.406     0.406     0.408     0.409  ...   3322.968341   \n",
       "205     0.601     0.604     0.605     0.611     0.615  ...  13870.163650   \n",
       "\n",
       "       gnipc_2011    gnipc_2012    gnipc_2013    gnipc_2014    gnipc_2015  \\\n",
       "0     2013.614084   2164.641446   2229.906554   2214.414390   2128.161886   \n",
       "1     6887.003763   7282.049679   7478.856252   7704.367840   7652.152491   \n",
       "2    11237.447160  11365.140100  11806.357820  11951.262990  12273.472790   \n",
       "3    47366.246500  47347.415550  48486.415270  50567.869660  51779.832310   \n",
       "4    56152.974740  57447.350900  60007.280900  62499.797840  65528.562580   \n",
       "..            ...           ...           ...           ...           ...   \n",
       "201  14428.049910  14874.924620  15673.049410  16106.237260  16405.601040   \n",
       "202  14840.565630  15107.901270  15406.644950  15461.446390  15376.018970   \n",
       "203   4646.120434   4755.925801   4939.747501   5200.584183   5466.463904   \n",
       "204   3393.581592   3468.250329   3572.503098   3675.644359   3719.488811   \n",
       "205  14206.799790  14515.826380  14764.309860  15085.333590  15390.076900   \n",
       "\n",
       "       gnipc_2016    gnipc_2017    gnipc_2018    gnipc_2019  \n",
       "0     2134.866156   2229.657978   2217.175808   2229.362021  \n",
       "1     7189.031576   6861.580571   6360.551085   6104.054640  \n",
       "2    12753.307240  13071.095440  13636.864160  13998.299890  \n",
       "3    53245.151100  54371.344670  55253.539290  56000.303360  \n",
       "4    66881.303340  67667.529860  67195.144070  67462.095300  \n",
       "..            ...           ...           ...           ...  \n",
       "201  16586.066320  17304.570200  17681.471150  17939.260030  \n",
       "202  15081.796980  15099.754830  15009.505790  14811.914690  \n",
       "203   5806.167594   6141.201410   6368.240926   6531.552457  \n",
       "204   3676.551383   3673.065762   3669.296934   3685.644365  \n",
       "205  15675.621260  16095.680240  16454.252460  16733.822570  \n",
       "\n",
       "[206 rows x 155 columns]"
      ]
     },
     "execution_count": 8,
     "metadata": {},
     "output_type": "execute_result"
    }
   ],
   "source": [
    "df_hdi = pd.read_csv(os.path.join(data_folder, \"HDR2020.csv\"))\n",
    "df_hdi"
   ]
  },
  {
   "cell_type": "markdown",
   "id": "9b6741f1",
   "metadata": {},
   "source": [
    "The dataset also contains information about regions and other subsets of states, which we do not need, so we exclude them and take only the HDI of the countries in 2019 (the most recent year)"
   ]
  },
  {
   "cell_type": "code",
   "execution_count": 9,
   "id": "e7d1d33d",
   "metadata": {},
   "outputs": [
    {
     "data": {
      "text/html": [
       "<div>\n",
       "<style scoped>\n",
       "    .dataframe tbody tr th:only-of-type {\n",
       "        vertical-align: middle;\n",
       "    }\n",
       "\n",
       "    .dataframe tbody tr th {\n",
       "        vertical-align: top;\n",
       "    }\n",
       "\n",
       "    .dataframe thead th {\n",
       "        text-align: right;\n",
       "    }\n",
       "</style>\n",
       "<table border=\"1\" class=\"dataframe\">\n",
       "  <thead>\n",
       "    <tr style=\"text-align: right;\">\n",
       "      <th></th>\n",
       "      <th>country</th>\n",
       "      <th>hdi_2019</th>\n",
       "    </tr>\n",
       "  </thead>\n",
       "  <tbody>\n",
       "    <tr>\n",
       "      <th>0</th>\n",
       "      <td>Afghanistan</td>\n",
       "      <td>0.511</td>\n",
       "    </tr>\n",
       "    <tr>\n",
       "      <th>1</th>\n",
       "      <td>Angola</td>\n",
       "      <td>0.581</td>\n",
       "    </tr>\n",
       "    <tr>\n",
       "      <th>2</th>\n",
       "      <td>Albania</td>\n",
       "      <td>0.795</td>\n",
       "    </tr>\n",
       "    <tr>\n",
       "      <th>3</th>\n",
       "      <td>Andorra</td>\n",
       "      <td>0.868</td>\n",
       "    </tr>\n",
       "    <tr>\n",
       "      <th>4</th>\n",
       "      <td>United Arab Emirates</td>\n",
       "      <td>0.890</td>\n",
       "    </tr>\n",
       "    <tr>\n",
       "      <th>...</th>\n",
       "      <td>...</td>\n",
       "      <td>...</td>\n",
       "    </tr>\n",
       "    <tr>\n",
       "      <th>190</th>\n",
       "      <td>Samoa</td>\n",
       "      <td>0.715</td>\n",
       "    </tr>\n",
       "    <tr>\n",
       "      <th>191</th>\n",
       "      <td>Yemen</td>\n",
       "      <td>0.470</td>\n",
       "    </tr>\n",
       "    <tr>\n",
       "      <th>192</th>\n",
       "      <td>South Africa</td>\n",
       "      <td>0.709</td>\n",
       "    </tr>\n",
       "    <tr>\n",
       "      <th>193</th>\n",
       "      <td>Zambia</td>\n",
       "      <td>0.584</td>\n",
       "    </tr>\n",
       "    <tr>\n",
       "      <th>194</th>\n",
       "      <td>Zimbabwe</td>\n",
       "      <td>0.571</td>\n",
       "    </tr>\n",
       "  </tbody>\n",
       "</table>\n",
       "<p>195 rows × 2 columns</p>\n",
       "</div>"
      ],
      "text/plain": [
       "                  country  hdi_2019\n",
       "0             Afghanistan     0.511\n",
       "1                  Angola     0.581\n",
       "2                 Albania     0.795\n",
       "3                 Andorra     0.868\n",
       "4    United Arab Emirates     0.890\n",
       "..                    ...       ...\n",
       "190                 Samoa     0.715\n",
       "191                 Yemen     0.470\n",
       "192          South Africa     0.709\n",
       "193                Zambia     0.584\n",
       "194              Zimbabwe     0.571\n",
       "\n",
       "[195 rows x 2 columns]"
      ]
     },
     "execution_count": 9,
     "metadata": {},
     "output_type": "execute_result"
    }
   ],
   "source": [
    "df_hdi2019 = df_hdi.loc[df_hdi[\"iso3\"].notna()][[\"country\", \"hdi_2019\"]]\n",
    "df_hdi2019\n"
   ]
  },
  {
   "cell_type": "markdown",
   "id": "f0105b4f",
   "metadata": {},
   "source": [
    "Now we rename the columns."
   ]
  },
  {
   "cell_type": "code",
   "execution_count": 10,
   "id": "b1b004bf",
   "metadata": {},
   "outputs": [
    {
     "data": {
      "text/html": [
       "<div>\n",
       "<style scoped>\n",
       "    .dataframe tbody tr th:only-of-type {\n",
       "        vertical-align: middle;\n",
       "    }\n",
       "\n",
       "    .dataframe tbody tr th {\n",
       "        vertical-align: top;\n",
       "    }\n",
       "\n",
       "    .dataframe thead th {\n",
       "        text-align: right;\n",
       "    }\n",
       "</style>\n",
       "<table border=\"1\" class=\"dataframe\">\n",
       "  <thead>\n",
       "    <tr style=\"text-align: right;\">\n",
       "      <th></th>\n",
       "      <th>Country Name</th>\n",
       "      <th>HDI</th>\n",
       "    </tr>\n",
       "  </thead>\n",
       "  <tbody>\n",
       "    <tr>\n",
       "      <th>0</th>\n",
       "      <td>Afghanistan</td>\n",
       "      <td>0.511</td>\n",
       "    </tr>\n",
       "    <tr>\n",
       "      <th>1</th>\n",
       "      <td>Angola</td>\n",
       "      <td>0.581</td>\n",
       "    </tr>\n",
       "    <tr>\n",
       "      <th>2</th>\n",
       "      <td>Albania</td>\n",
       "      <td>0.795</td>\n",
       "    </tr>\n",
       "    <tr>\n",
       "      <th>3</th>\n",
       "      <td>Andorra</td>\n",
       "      <td>0.868</td>\n",
       "    </tr>\n",
       "    <tr>\n",
       "      <th>4</th>\n",
       "      <td>United Arab Emirates</td>\n",
       "      <td>0.890</td>\n",
       "    </tr>\n",
       "    <tr>\n",
       "      <th>...</th>\n",
       "      <td>...</td>\n",
       "      <td>...</td>\n",
       "    </tr>\n",
       "    <tr>\n",
       "      <th>190</th>\n",
       "      <td>Samoa</td>\n",
       "      <td>0.715</td>\n",
       "    </tr>\n",
       "    <tr>\n",
       "      <th>191</th>\n",
       "      <td>Yemen</td>\n",
       "      <td>0.470</td>\n",
       "    </tr>\n",
       "    <tr>\n",
       "      <th>192</th>\n",
       "      <td>South Africa</td>\n",
       "      <td>0.709</td>\n",
       "    </tr>\n",
       "    <tr>\n",
       "      <th>193</th>\n",
       "      <td>Zambia</td>\n",
       "      <td>0.584</td>\n",
       "    </tr>\n",
       "    <tr>\n",
       "      <th>194</th>\n",
       "      <td>Zimbabwe</td>\n",
       "      <td>0.571</td>\n",
       "    </tr>\n",
       "  </tbody>\n",
       "</table>\n",
       "<p>195 rows × 2 columns</p>\n",
       "</div>"
      ],
      "text/plain": [
       "             Country Name    HDI\n",
       "0             Afghanistan  0.511\n",
       "1                  Angola  0.581\n",
       "2                 Albania  0.795\n",
       "3                 Andorra  0.868\n",
       "4    United Arab Emirates  0.890\n",
       "..                    ...    ...\n",
       "190                 Samoa  0.715\n",
       "191                 Yemen  0.470\n",
       "192          South Africa  0.709\n",
       "193                Zambia  0.584\n",
       "194              Zimbabwe  0.571\n",
       "\n",
       "[195 rows x 2 columns]"
      ]
     },
     "execution_count": 10,
     "metadata": {},
     "output_type": "execute_result"
    }
   ],
   "source": [
    "df_hdi2019 = df_hdi2019.rename(columns={\n",
    "    \"country\": \"Country Name\",\n",
    "    \"hdi_2019\": \"HDI\"\n",
    "}, copy=True, inplace=False)\n",
    "df_hdi2019"
   ]
  },
  {
   "cell_type": "markdown",
   "id": "0f26efc2",
   "metadata": {},
   "source": [
    "Cleaning the data."
   ]
  },
  {
   "cell_type": "code",
   "execution_count": 11,
   "id": "0514aa7e",
   "metadata": {},
   "outputs": [
    {
     "name": "stdout",
     "output_type": "stream",
     "text": [
      "<class 'pandas.core.frame.DataFrame'>\n",
      "Int64Index: 189 entries, 0 to 194\n",
      "Data columns (total 2 columns):\n",
      " #   Column        Non-Null Count  Dtype  \n",
      "---  ------        --------------  -----  \n",
      " 0   Country Name  189 non-null    object \n",
      " 1   HDI           189 non-null    float64\n",
      "dtypes: float64(1), object(1)\n",
      "memory usage: 4.4+ KB\n"
     ]
    }
   ],
   "source": [
    "df_hdi2019 = df_hdi2019.loc[df_hdi2019[\"HDI\"].notna()]\n",
    "df_hdi2019.info()\n"
   ]
  },
  {
   "cell_type": "markdown",
   "id": "7a5504dc",
   "metadata": {},
   "source": [
    "### `worldwide internet prices in 2022 - IN 2022.csv` cleaning"
   ]
  },
  {
   "cell_type": "markdown",
   "id": "c5dcf01c",
   "metadata": {},
   "source": [
    "Importing the dataset into a pandas DataFrame."
   ]
  },
  {
   "cell_type": "code",
   "execution_count": 12,
   "id": "c8837483",
   "metadata": {},
   "outputs": [
    {
     "data": {
      "text/html": [
       "<div>\n",
       "<style scoped>\n",
       "    .dataframe tbody tr th:only-of-type {\n",
       "        vertical-align: middle;\n",
       "    }\n",
       "\n",
       "    .dataframe tbody tr th {\n",
       "        vertical-align: top;\n",
       "    }\n",
       "\n",
       "    .dataframe thead th {\n",
       "        text-align: right;\n",
       "    }\n",
       "</style>\n",
       "<table border=\"1\" class=\"dataframe\">\n",
       "  <thead>\n",
       "    <tr style=\"text-align: right;\">\n",
       "      <th></th>\n",
       "      <th>Country code</th>\n",
       "      <th>Name</th>\n",
       "      <th>Continental region</th>\n",
       "      <th>NO. OF Internet Plans</th>\n",
       "      <th>Average price of 1GB (USD)</th>\n",
       "      <th>Cheapest 1GB for 30 days (USD)</th>\n",
       "      <th>Most expensive 1GB (USD)</th>\n",
       "      <th>Average price of 1GB (USD  at the start of 2021)</th>\n",
       "      <th>Average price of 1GB (USD – at start of 2020)</th>\n",
       "    </tr>\n",
       "  </thead>\n",
       "  <tbody>\n",
       "    <tr>\n",
       "      <th>0</th>\n",
       "      <td>IL</td>\n",
       "      <td>Israel</td>\n",
       "      <td>NEAR EAST</td>\n",
       "      <td>27.0</td>\n",
       "      <td>$0.05</td>\n",
       "      <td>$0.02</td>\n",
       "      <td>$20.95</td>\n",
       "      <td>$0.11</td>\n",
       "      <td>$0.90</td>\n",
       "    </tr>\n",
       "    <tr>\n",
       "      <th>1</th>\n",
       "      <td>KG</td>\n",
       "      <td>Kyrgyzstan</td>\n",
       "      <td>CIS (FORMER USSR)</td>\n",
       "      <td>20.0</td>\n",
       "      <td>$0.15</td>\n",
       "      <td>$0.10</td>\n",
       "      <td>$7.08</td>\n",
       "      <td>$0.21</td>\n",
       "      <td>$0.27</td>\n",
       "    </tr>\n",
       "    <tr>\n",
       "      <th>2</th>\n",
       "      <td>FJ</td>\n",
       "      <td>Fiji</td>\n",
       "      <td>OCEANIA</td>\n",
       "      <td>18.0</td>\n",
       "      <td>$0.19</td>\n",
       "      <td>$0.05</td>\n",
       "      <td>$0.85</td>\n",
       "      <td>$0.59</td>\n",
       "      <td>$3.57</td>\n",
       "    </tr>\n",
       "    <tr>\n",
       "      <th>3</th>\n",
       "      <td>IT</td>\n",
       "      <td>Italy</td>\n",
       "      <td>WESTERN EUROPE</td>\n",
       "      <td>29.0</td>\n",
       "      <td>$0.27</td>\n",
       "      <td>$0.09</td>\n",
       "      <td>$3.54</td>\n",
       "      <td>$0.43</td>\n",
       "      <td>$1.73</td>\n",
       "    </tr>\n",
       "    <tr>\n",
       "      <th>4</th>\n",
       "      <td>SD</td>\n",
       "      <td>Sudan</td>\n",
       "      <td>SUB-SAHARAN AFRICA</td>\n",
       "      <td>33.0</td>\n",
       "      <td>$0.27</td>\n",
       "      <td>$0.03</td>\n",
       "      <td>$0.92</td>\n",
       "      <td>$0.63</td>\n",
       "      <td>$0.68</td>\n",
       "    </tr>\n",
       "    <tr>\n",
       "      <th>...</th>\n",
       "      <td>...</td>\n",
       "      <td>...</td>\n",
       "      <td>...</td>\n",
       "      <td>...</td>\n",
       "      <td>...</td>\n",
       "      <td>...</td>\n",
       "      <td>...</td>\n",
       "      <td>...</td>\n",
       "      <td>...</td>\n",
       "    </tr>\n",
       "    <tr>\n",
       "      <th>237</th>\n",
       "      <td>VA</td>\n",
       "      <td>Vatican City (Holy See)</td>\n",
       "      <td>Europe</td>\n",
       "      <td>NaN</td>\n",
       "      <td>NO PROVIDERS</td>\n",
       "      <td>NaN</td>\n",
       "      <td>NaN</td>\n",
       "      <td>NaN</td>\n",
       "      <td>NaN</td>\n",
       "    </tr>\n",
       "    <tr>\n",
       "      <th>238</th>\n",
       "      <td>VE</td>\n",
       "      <td>Venezuela</td>\n",
       "      <td>SOUTH AMERICA</td>\n",
       "      <td>NaN</td>\n",
       "      <td>HYPERINFLATION</td>\n",
       "      <td>NaN</td>\n",
       "      <td>NaN</td>\n",
       "      <td>NaN</td>\n",
       "      <td>NaN</td>\n",
       "    </tr>\n",
       "    <tr>\n",
       "      <th>239</th>\n",
       "      <td>WF</td>\n",
       "      <td>Wallis and Futuna</td>\n",
       "      <td>OCEANIA</td>\n",
       "      <td>NaN</td>\n",
       "      <td>NO PROVIDERS</td>\n",
       "      <td>NaN</td>\n",
       "      <td>NaN</td>\n",
       "      <td>NaN</td>\n",
       "      <td>NaN</td>\n",
       "    </tr>\n",
       "    <tr>\n",
       "      <th>240</th>\n",
       "      <td>CD</td>\n",
       "      <td>Congo (Democratic Republic of)</td>\n",
       "      <td>SUB-SAHARAN AFRICA</td>\n",
       "      <td>NaN</td>\n",
       "      <td>Prices listed in non-convertible 'units'</td>\n",
       "      <td>NaN</td>\n",
       "      <td>NaN</td>\n",
       "      <td>NaN</td>\n",
       "      <td>NaN</td>\n",
       "    </tr>\n",
       "    <tr>\n",
       "      <th>241</th>\n",
       "      <td>ZW</td>\n",
       "      <td>Zimbabwe</td>\n",
       "      <td>SUB-SAHARAN AFRICA</td>\n",
       "      <td>NaN</td>\n",
       "      <td>UNRELIABLE EXCHANGE RATES</td>\n",
       "      <td>NaN</td>\n",
       "      <td>NaN</td>\n",
       "      <td>NaN</td>\n",
       "      <td>NaN</td>\n",
       "    </tr>\n",
       "  </tbody>\n",
       "</table>\n",
       "<p>242 rows × 9 columns</p>\n",
       "</div>"
      ],
      "text/plain": [
       "    Country code                            Name  Continental region  \\\n",
       "0             IL                          Israel           NEAR EAST   \n",
       "1             KG                      Kyrgyzstan   CIS (FORMER USSR)   \n",
       "2             FJ                            Fiji             OCEANIA   \n",
       "3             IT                           Italy      WESTERN EUROPE   \n",
       "4             SD                           Sudan  SUB-SAHARAN AFRICA   \n",
       "..           ...                             ...                 ...   \n",
       "237           VA         Vatican City (Holy See)              Europe   \n",
       "238           VE                       Venezuela       SOUTH AMERICA   \n",
       "239           WF               Wallis and Futuna             OCEANIA   \n",
       "240           CD  Congo (Democratic Republic of)  SUB-SAHARAN AFRICA   \n",
       "241           ZW                        Zimbabwe  SUB-SAHARAN AFRICA   \n",
       "\n",
       "     NO. OF Internet Plans                 Average price of 1GB (USD)  \\\n",
       "0                      27.0                                     $0.05   \n",
       "1                      20.0                                     $0.15   \n",
       "2                      18.0                                     $0.19   \n",
       "3                      29.0                                     $0.27   \n",
       "4                      33.0                                     $0.27   \n",
       "..                      ...                                       ...   \n",
       "237                     NaN                              NO PROVIDERS   \n",
       "238                     NaN                            HYPERINFLATION   \n",
       "239                     NaN                              NO PROVIDERS   \n",
       "240                     NaN  Prices listed in non-convertible 'units'   \n",
       "241                     NaN                 UNRELIABLE EXCHANGE RATES   \n",
       "\n",
       "    Cheapest 1GB for 30 days (USD) Most expensive 1GB (USD)  \\\n",
       "0                            $0.02                   $20.95   \n",
       "1                            $0.10                    $7.08   \n",
       "2                            $0.05                    $0.85   \n",
       "3                            $0.09                    $3.54   \n",
       "4                            $0.03                    $0.92   \n",
       "..                             ...                      ...   \n",
       "237                            NaN                      NaN   \n",
       "238                            NaN                      NaN   \n",
       "239                            NaN                      NaN   \n",
       "240                            NaN                      NaN   \n",
       "241                            NaN                      NaN   \n",
       "\n",
       "    Average price of 1GB (USD  at the start of 2021)  \\\n",
       "0                                              $0.11   \n",
       "1                                              $0.21   \n",
       "2                                              $0.59   \n",
       "3                                              $0.43   \n",
       "4                                              $0.63   \n",
       "..                                               ...   \n",
       "237                                              NaN   \n",
       "238                                              NaN   \n",
       "239                                              NaN   \n",
       "240                                              NaN   \n",
       "241                                              NaN   \n",
       "\n",
       "    Average price of 1GB (USD – at start of 2020)  \n",
       "0                                           $0.90  \n",
       "1                                           $0.27  \n",
       "2                                           $3.57  \n",
       "3                                           $1.73  \n",
       "4                                           $0.68  \n",
       "..                                            ...  \n",
       "237                                           NaN  \n",
       "238                                           NaN  \n",
       "239                                           NaN  \n",
       "240                                           NaN  \n",
       "241                                           NaN  \n",
       "\n",
       "[242 rows x 9 columns]"
      ]
     },
     "execution_count": 12,
     "metadata": {},
     "output_type": "execute_result"
    }
   ],
   "source": [
    "df_prices = pd.read_csv(os.path.join(data_folder, \"worldwide internet prices in 2022 - IN 2022.csv\"))\n",
    "df_prices"
   ]
  },
  {
   "cell_type": "markdown",
   "id": "4932d55c",
   "metadata": {},
   "source": [
    "Selecting the columns that we need for our study."
   ]
  },
  {
   "cell_type": "code",
   "execution_count": 13,
   "id": "55904845",
   "metadata": {},
   "outputs": [
    {
     "data": {
      "text/html": [
       "<div>\n",
       "<style scoped>\n",
       "    .dataframe tbody tr th:only-of-type {\n",
       "        vertical-align: middle;\n",
       "    }\n",
       "\n",
       "    .dataframe tbody tr th {\n",
       "        vertical-align: top;\n",
       "    }\n",
       "\n",
       "    .dataframe thead th {\n",
       "        text-align: right;\n",
       "    }\n",
       "</style>\n",
       "<table border=\"1\" class=\"dataframe\">\n",
       "  <thead>\n",
       "    <tr style=\"text-align: right;\">\n",
       "      <th></th>\n",
       "      <th>Name</th>\n",
       "      <th>Average price of 1GB (USD)</th>\n",
       "      <th>NO. OF Internet Plans</th>\n",
       "    </tr>\n",
       "  </thead>\n",
       "  <tbody>\n",
       "    <tr>\n",
       "      <th>0</th>\n",
       "      <td>Israel</td>\n",
       "      <td>$0.05</td>\n",
       "      <td>27.0</td>\n",
       "    </tr>\n",
       "    <tr>\n",
       "      <th>1</th>\n",
       "      <td>Kyrgyzstan</td>\n",
       "      <td>$0.15</td>\n",
       "      <td>20.0</td>\n",
       "    </tr>\n",
       "    <tr>\n",
       "      <th>2</th>\n",
       "      <td>Fiji</td>\n",
       "      <td>$0.19</td>\n",
       "      <td>18.0</td>\n",
       "    </tr>\n",
       "    <tr>\n",
       "      <th>3</th>\n",
       "      <td>Italy</td>\n",
       "      <td>$0.27</td>\n",
       "      <td>29.0</td>\n",
       "    </tr>\n",
       "    <tr>\n",
       "      <th>4</th>\n",
       "      <td>Sudan</td>\n",
       "      <td>$0.27</td>\n",
       "      <td>33.0</td>\n",
       "    </tr>\n",
       "    <tr>\n",
       "      <th>...</th>\n",
       "      <td>...</td>\n",
       "      <td>...</td>\n",
       "      <td>...</td>\n",
       "    </tr>\n",
       "    <tr>\n",
       "      <th>237</th>\n",
       "      <td>Vatican City (Holy See)</td>\n",
       "      <td>NO PROVIDERS</td>\n",
       "      <td>NaN</td>\n",
       "    </tr>\n",
       "    <tr>\n",
       "      <th>238</th>\n",
       "      <td>Venezuela</td>\n",
       "      <td>HYPERINFLATION</td>\n",
       "      <td>NaN</td>\n",
       "    </tr>\n",
       "    <tr>\n",
       "      <th>239</th>\n",
       "      <td>Wallis and Futuna</td>\n",
       "      <td>NO PROVIDERS</td>\n",
       "      <td>NaN</td>\n",
       "    </tr>\n",
       "    <tr>\n",
       "      <th>240</th>\n",
       "      <td>Congo (Democratic Republic of)</td>\n",
       "      <td>Prices listed in non-convertible 'units'</td>\n",
       "      <td>NaN</td>\n",
       "    </tr>\n",
       "    <tr>\n",
       "      <th>241</th>\n",
       "      <td>Zimbabwe</td>\n",
       "      <td>UNRELIABLE EXCHANGE RATES</td>\n",
       "      <td>NaN</td>\n",
       "    </tr>\n",
       "  </tbody>\n",
       "</table>\n",
       "<p>242 rows × 3 columns</p>\n",
       "</div>"
      ],
      "text/plain": [
       "                               Name                Average price of 1GB (USD)  \\\n",
       "0                            Israel                                     $0.05   \n",
       "1                        Kyrgyzstan                                     $0.15   \n",
       "2                              Fiji                                     $0.19   \n",
       "3                             Italy                                     $0.27   \n",
       "4                             Sudan                                     $0.27   \n",
       "..                              ...                                       ...   \n",
       "237         Vatican City (Holy See)                              NO PROVIDERS   \n",
       "238                       Venezuela                            HYPERINFLATION   \n",
       "239               Wallis and Futuna                              NO PROVIDERS   \n",
       "240  Congo (Democratic Republic of)  Prices listed in non-convertible 'units'   \n",
       "241                        Zimbabwe                 UNRELIABLE EXCHANGE RATES   \n",
       "\n",
       "     NO. OF Internet Plans   \n",
       "0                      27.0  \n",
       "1                      20.0  \n",
       "2                      18.0  \n",
       "3                      29.0  \n",
       "4                      33.0  \n",
       "..                      ...  \n",
       "237                     NaN  \n",
       "238                     NaN  \n",
       "239                     NaN  \n",
       "240                     NaN  \n",
       "241                     NaN  \n",
       "\n",
       "[242 rows x 3 columns]"
      ]
     },
     "execution_count": 13,
     "metadata": {},
     "output_type": "execute_result"
    }
   ],
   "source": [
    "df_prices = df_prices[[\"Name\", \"Average price of 1GB (USD)\", \"NO. OF Internet Plans \"]]\n",
    "df_prices"
   ]
  },
  {
   "cell_type": "markdown",
   "id": "2575364d",
   "metadata": {},
   "source": [
    "Renaming the colunms."
   ]
  },
  {
   "cell_type": "code",
   "execution_count": 14,
   "id": "ba747bcf",
   "metadata": {},
   "outputs": [
    {
     "data": {
      "text/html": [
       "<div>\n",
       "<style scoped>\n",
       "    .dataframe tbody tr th:only-of-type {\n",
       "        vertical-align: middle;\n",
       "    }\n",
       "\n",
       "    .dataframe tbody tr th {\n",
       "        vertical-align: top;\n",
       "    }\n",
       "\n",
       "    .dataframe thead th {\n",
       "        text-align: right;\n",
       "    }\n",
       "</style>\n",
       "<table border=\"1\" class=\"dataframe\">\n",
       "  <thead>\n",
       "    <tr style=\"text-align: right;\">\n",
       "      <th></th>\n",
       "      <th>Country Name</th>\n",
       "      <th>Average price of 1GB</th>\n",
       "      <th>Number of plans</th>\n",
       "    </tr>\n",
       "  </thead>\n",
       "  <tbody>\n",
       "    <tr>\n",
       "      <th>0</th>\n",
       "      <td>Israel</td>\n",
       "      <td>$0.05</td>\n",
       "      <td>27.0</td>\n",
       "    </tr>\n",
       "    <tr>\n",
       "      <th>1</th>\n",
       "      <td>Kyrgyzstan</td>\n",
       "      <td>$0.15</td>\n",
       "      <td>20.0</td>\n",
       "    </tr>\n",
       "    <tr>\n",
       "      <th>2</th>\n",
       "      <td>Fiji</td>\n",
       "      <td>$0.19</td>\n",
       "      <td>18.0</td>\n",
       "    </tr>\n",
       "    <tr>\n",
       "      <th>3</th>\n",
       "      <td>Italy</td>\n",
       "      <td>$0.27</td>\n",
       "      <td>29.0</td>\n",
       "    </tr>\n",
       "    <tr>\n",
       "      <th>4</th>\n",
       "      <td>Sudan</td>\n",
       "      <td>$0.27</td>\n",
       "      <td>33.0</td>\n",
       "    </tr>\n",
       "    <tr>\n",
       "      <th>...</th>\n",
       "      <td>...</td>\n",
       "      <td>...</td>\n",
       "      <td>...</td>\n",
       "    </tr>\n",
       "    <tr>\n",
       "      <th>237</th>\n",
       "      <td>Vatican City (Holy See)</td>\n",
       "      <td>NO PROVIDERS</td>\n",
       "      <td>NaN</td>\n",
       "    </tr>\n",
       "    <tr>\n",
       "      <th>238</th>\n",
       "      <td>Venezuela</td>\n",
       "      <td>HYPERINFLATION</td>\n",
       "      <td>NaN</td>\n",
       "    </tr>\n",
       "    <tr>\n",
       "      <th>239</th>\n",
       "      <td>Wallis and Futuna</td>\n",
       "      <td>NO PROVIDERS</td>\n",
       "      <td>NaN</td>\n",
       "    </tr>\n",
       "    <tr>\n",
       "      <th>240</th>\n",
       "      <td>Congo (Democratic Republic of)</td>\n",
       "      <td>Prices listed in non-convertible 'units'</td>\n",
       "      <td>NaN</td>\n",
       "    </tr>\n",
       "    <tr>\n",
       "      <th>241</th>\n",
       "      <td>Zimbabwe</td>\n",
       "      <td>UNRELIABLE EXCHANGE RATES</td>\n",
       "      <td>NaN</td>\n",
       "    </tr>\n",
       "  </tbody>\n",
       "</table>\n",
       "<p>242 rows × 3 columns</p>\n",
       "</div>"
      ],
      "text/plain": [
       "                       Country Name                      Average price of 1GB  \\\n",
       "0                            Israel                                     $0.05   \n",
       "1                        Kyrgyzstan                                     $0.15   \n",
       "2                              Fiji                                     $0.19   \n",
       "3                             Italy                                     $0.27   \n",
       "4                             Sudan                                     $0.27   \n",
       "..                              ...                                       ...   \n",
       "237         Vatican City (Holy See)                              NO PROVIDERS   \n",
       "238                       Venezuela                            HYPERINFLATION   \n",
       "239               Wallis and Futuna                              NO PROVIDERS   \n",
       "240  Congo (Democratic Republic of)  Prices listed in non-convertible 'units'   \n",
       "241                        Zimbabwe                 UNRELIABLE EXCHANGE RATES   \n",
       "\n",
       "     Number of plans  \n",
       "0               27.0  \n",
       "1               20.0  \n",
       "2               18.0  \n",
       "3               29.0  \n",
       "4               33.0  \n",
       "..               ...  \n",
       "237              NaN  \n",
       "238              NaN  \n",
       "239              NaN  \n",
       "240              NaN  \n",
       "241              NaN  \n",
       "\n",
       "[242 rows x 3 columns]"
      ]
     },
     "execution_count": 14,
     "metadata": {},
     "output_type": "execute_result"
    }
   ],
   "source": [
    "df_prices = df_prices.rename(columns={\n",
    "    \"Name\": \"Country Name\",\n",
    "    \"Average price of 1GB (USD)\": \"Average price of 1GB\",\n",
    "    \"NO. OF Internet Plans \": \"Number of plans\"\n",
    "}, copy=True, inplace=False)\n",
    "df_prices"
   ]
  },
  {
   "cell_type": "markdown",
   "id": "09991226",
   "metadata": {},
   "source": [
    "We need to get rid of the dollar sign '`$`' in order to convert the price value to numeric. For doing that we use regular expressions."
   ]
  },
  {
   "cell_type": "code",
   "execution_count": 16,
   "id": "562cc14a",
   "metadata": {},
   "outputs": [
    {
     "name": "stdout",
     "output_type": "stream",
     "text": [
      "<class 'pandas.core.frame.DataFrame'>\n",
      "Index: 231 entries, 0 to Average price of 1GB\n",
      "Data columns (total 3 columns):\n",
      " #   Column                Non-Null Count  Dtype  \n",
      "---  ------                --------------  -----  \n",
      " 0   Country Name          230 non-null    object \n",
      " 1   Average price of 1GB  230 non-null    float64\n",
      " 2   Number of plans       230 non-null    float64\n",
      "dtypes: float64(2), object(1)\n",
      "memory usage: 7.2+ KB\n"
     ]
    }
   ],
   "source": [
    "df_prices = df_prices.loc[df_prices[\"Number of plans\"].notna()]\n",
    "df_prices.loc[\"Average price of 1GB\"] = df_prices[\"Average price of 1GB\"].replace('[\\$,]', '', regex=True).astype(float)\n",
    "df_prices.info()"
   ]
  },
  {
   "cell_type": "markdown",
   "id": "0e875df3",
   "metadata": {},
   "source": [
    "### `worldwide internet speed in 2022 - avg speed.csv` cleaning"
   ]
  },
  {
   "cell_type": "markdown",
   "id": "2fe4001d",
   "metadata": {},
   "source": [
    "Importing the dataset into a pandas DataFrame."
   ]
  },
  {
   "cell_type": "code",
   "execution_count": 17,
   "id": "29de7532",
   "metadata": {},
   "outputs": [
    {
     "data": {
      "text/html": [
       "<div>\n",
       "<style scoped>\n",
       "    .dataframe tbody tr th:only-of-type {\n",
       "        vertical-align: middle;\n",
       "    }\n",
       "\n",
       "    .dataframe tbody tr th {\n",
       "        vertical-align: top;\n",
       "    }\n",
       "\n",
       "    .dataframe thead th {\n",
       "        text-align: right;\n",
       "    }\n",
       "</style>\n",
       "<table border=\"1\" class=\"dataframe\">\n",
       "  <thead>\n",
       "    <tr style=\"text-align: right;\">\n",
       "      <th></th>\n",
       "      <th>Country</th>\n",
       "      <th>Avg \\n(Mbit/s)Ookla</th>\n",
       "    </tr>\n",
       "  </thead>\n",
       "  <tbody>\n",
       "    <tr>\n",
       "      <th>0</th>\n",
       "      <td>Canada</td>\n",
       "      <td>75.18</td>\n",
       "    </tr>\n",
       "    <tr>\n",
       "      <th>1</th>\n",
       "      <td>South Korea</td>\n",
       "      <td>117.95</td>\n",
       "    </tr>\n",
       "    <tr>\n",
       "      <th>2</th>\n",
       "      <td>Netherlands</td>\n",
       "      <td>108.33</td>\n",
       "    </tr>\n",
       "    <tr>\n",
       "      <th>3</th>\n",
       "      <td>Japan</td>\n",
       "      <td>44.05</td>\n",
       "    </tr>\n",
       "    <tr>\n",
       "      <th>4</th>\n",
       "      <td>Norway</td>\n",
       "      <td>134.73</td>\n",
       "    </tr>\n",
       "    <tr>\n",
       "      <th>...</th>\n",
       "      <td>...</td>\n",
       "      <td>...</td>\n",
       "    </tr>\n",
       "    <tr>\n",
       "      <th>139</th>\n",
       "      <td>Sudan</td>\n",
       "      <td>9.50</td>\n",
       "    </tr>\n",
       "    <tr>\n",
       "      <th>140</th>\n",
       "      <td>Cuba</td>\n",
       "      <td>9.10</td>\n",
       "    </tr>\n",
       "    <tr>\n",
       "      <th>141</th>\n",
       "      <td>Tajikistan</td>\n",
       "      <td>7.05</td>\n",
       "    </tr>\n",
       "    <tr>\n",
       "      <th>142</th>\n",
       "      <td>Venezuela</td>\n",
       "      <td>5.68</td>\n",
       "    </tr>\n",
       "    <tr>\n",
       "      <th>143</th>\n",
       "      <td>Palestine</td>\n",
       "      <td>4.89</td>\n",
       "    </tr>\n",
       "  </tbody>\n",
       "</table>\n",
       "<p>144 rows × 2 columns</p>\n",
       "</div>"
      ],
      "text/plain": [
       "         Country  Avg \\n(Mbit/s)Ookla\n",
       "0         Canada                75.18\n",
       "1    South Korea               117.95\n",
       "2    Netherlands               108.33\n",
       "3          Japan                44.05\n",
       "4         Norway               134.73\n",
       "..           ...                  ...\n",
       "139        Sudan                 9.50\n",
       "140         Cuba                 9.10\n",
       "141   Tajikistan                 7.05\n",
       "142    Venezuela                 5.68\n",
       "143    Palestine                 4.89\n",
       "\n",
       "[144 rows x 2 columns]"
      ]
     },
     "execution_count": 17,
     "metadata": {},
     "output_type": "execute_result"
    }
   ],
   "source": [
    "df_speeds = pd.read_csv(os.path.join(data_folder, \"worldwide internet speed in 2022 - avg speed.csv\"))\n",
    "df_speeds"
   ]
  },
  {
   "cell_type": "markdown",
   "id": "cbb12036",
   "metadata": {},
   "source": [
    "Renaming the columns."
   ]
  },
  {
   "cell_type": "code",
   "execution_count": 18,
   "id": "9f3b1c07",
   "metadata": {},
   "outputs": [
    {
     "data": {
      "text/html": [
       "<div>\n",
       "<style scoped>\n",
       "    .dataframe tbody tr th:only-of-type {\n",
       "        vertical-align: middle;\n",
       "    }\n",
       "\n",
       "    .dataframe tbody tr th {\n",
       "        vertical-align: top;\n",
       "    }\n",
       "\n",
       "    .dataframe thead th {\n",
       "        text-align: right;\n",
       "    }\n",
       "</style>\n",
       "<table border=\"1\" class=\"dataframe\">\n",
       "  <thead>\n",
       "    <tr style=\"text-align: right;\">\n",
       "      <th></th>\n",
       "      <th>Country Name</th>\n",
       "      <th>Average speed</th>\n",
       "    </tr>\n",
       "  </thead>\n",
       "  <tbody>\n",
       "    <tr>\n",
       "      <th>0</th>\n",
       "      <td>Canada</td>\n",
       "      <td>75.18</td>\n",
       "    </tr>\n",
       "    <tr>\n",
       "      <th>1</th>\n",
       "      <td>South Korea</td>\n",
       "      <td>117.95</td>\n",
       "    </tr>\n",
       "    <tr>\n",
       "      <th>2</th>\n",
       "      <td>Netherlands</td>\n",
       "      <td>108.33</td>\n",
       "    </tr>\n",
       "    <tr>\n",
       "      <th>3</th>\n",
       "      <td>Japan</td>\n",
       "      <td>44.05</td>\n",
       "    </tr>\n",
       "    <tr>\n",
       "      <th>4</th>\n",
       "      <td>Norway</td>\n",
       "      <td>134.73</td>\n",
       "    </tr>\n",
       "    <tr>\n",
       "      <th>...</th>\n",
       "      <td>...</td>\n",
       "      <td>...</td>\n",
       "    </tr>\n",
       "    <tr>\n",
       "      <th>139</th>\n",
       "      <td>Sudan</td>\n",
       "      <td>9.50</td>\n",
       "    </tr>\n",
       "    <tr>\n",
       "      <th>140</th>\n",
       "      <td>Cuba</td>\n",
       "      <td>9.10</td>\n",
       "    </tr>\n",
       "    <tr>\n",
       "      <th>141</th>\n",
       "      <td>Tajikistan</td>\n",
       "      <td>7.05</td>\n",
       "    </tr>\n",
       "    <tr>\n",
       "      <th>142</th>\n",
       "      <td>Venezuela</td>\n",
       "      <td>5.68</td>\n",
       "    </tr>\n",
       "    <tr>\n",
       "      <th>143</th>\n",
       "      <td>Palestine</td>\n",
       "      <td>4.89</td>\n",
       "    </tr>\n",
       "  </tbody>\n",
       "</table>\n",
       "<p>144 rows × 2 columns</p>\n",
       "</div>"
      ],
      "text/plain": [
       "    Country Name  Average speed\n",
       "0         Canada          75.18\n",
       "1    South Korea         117.95\n",
       "2    Netherlands         108.33\n",
       "3          Japan          44.05\n",
       "4         Norway         134.73\n",
       "..           ...            ...\n",
       "139        Sudan           9.50\n",
       "140         Cuba           9.10\n",
       "141   Tajikistan           7.05\n",
       "142    Venezuela           5.68\n",
       "143    Palestine           4.89\n",
       "\n",
       "[144 rows x 2 columns]"
      ]
     },
     "execution_count": 18,
     "metadata": {},
     "output_type": "execute_result"
    }
   ],
   "source": [
    "df_speeds = df_speeds.rename(columns={\n",
    "    \"Country\": \"Country Name\",\n",
    "    \"Avg \\n(Mbit/s)Ookla\": \"Average speed\"\n",
    "}, copy=True, inplace=False)\n",
    "df_speeds"
   ]
  },
  {
   "cell_type": "markdown",
   "id": "92b5bbef",
   "metadata": {},
   "source": [
    "Cleaning the data."
   ]
  },
  {
   "cell_type": "code",
   "execution_count": 19,
   "id": "559a6ad0",
   "metadata": {},
   "outputs": [
    {
     "name": "stdout",
     "output_type": "stream",
     "text": [
      "<class 'pandas.core.frame.DataFrame'>\n",
      "Int64Index: 143 entries, 0 to 143\n",
      "Data columns (total 2 columns):\n",
      " #   Column         Non-Null Count  Dtype  \n",
      "---  ------         --------------  -----  \n",
      " 0   Country Name   143 non-null    object \n",
      " 1   Average speed  143 non-null    float64\n",
      "dtypes: float64(1), object(1)\n",
      "memory usage: 3.4+ KB\n"
     ]
    }
   ],
   "source": [
    "df_speeds = df_speeds.loc[df_speeds[\"Average speed\"].notna()]\n",
    "df_speeds.info()"
   ]
  },
  {
   "cell_type": "markdown",
   "id": "0133a8e1",
   "metadata": {},
   "source": [
    "### `worldwide internet users - users.csv` cleaning"
   ]
  },
  {
   "cell_type": "markdown",
   "id": "00db6360",
   "metadata": {},
   "source": [
    "Importing the dataset into pandas DataFrame."
   ]
  },
  {
   "cell_type": "code",
   "execution_count": 20,
   "id": "3776dedc",
   "metadata": {},
   "outputs": [
    {
     "data": {
      "text/html": [
       "<div>\n",
       "<style scoped>\n",
       "    .dataframe tbody tr th:only-of-type {\n",
       "        vertical-align: middle;\n",
       "    }\n",
       "\n",
       "    .dataframe tbody tr th {\n",
       "        vertical-align: top;\n",
       "    }\n",
       "\n",
       "    .dataframe thead th {\n",
       "        text-align: right;\n",
       "    }\n",
       "</style>\n",
       "<table border=\"1\" class=\"dataframe\">\n",
       "  <thead>\n",
       "    <tr style=\"text-align: right;\">\n",
       "      <th></th>\n",
       "      <th>Country or area</th>\n",
       "      <th>Subregion</th>\n",
       "      <th>Region</th>\n",
       "      <th>Internet users</th>\n",
       "      <th>Population</th>\n",
       "    </tr>\n",
       "  </thead>\n",
       "  <tbody>\n",
       "    <tr>\n",
       "      <th>0</th>\n",
       "      <td>China</td>\n",
       "      <td>Eastern Asia</td>\n",
       "      <td>Asia</td>\n",
       "      <td>1010740000</td>\n",
       "      <td>1.427648e+09</td>\n",
       "    </tr>\n",
       "    <tr>\n",
       "      <th>1</th>\n",
       "      <td>India</td>\n",
       "      <td>Southern Asia</td>\n",
       "      <td>Asia</td>\n",
       "      <td>833710000</td>\n",
       "      <td>1.352642e+09</td>\n",
       "    </tr>\n",
       "    <tr>\n",
       "      <th>2</th>\n",
       "      <td>United States</td>\n",
       "      <td>Northern America</td>\n",
       "      <td>Americas</td>\n",
       "      <td>312320000</td>\n",
       "      <td>3.270963e+08</td>\n",
       "    </tr>\n",
       "    <tr>\n",
       "      <th>3</th>\n",
       "      <td>Indonesia</td>\n",
       "      <td>South-eastern Asia</td>\n",
       "      <td>Asia</td>\n",
       "      <td>196000000</td>\n",
       "      <td>2.676705e+08</td>\n",
       "    </tr>\n",
       "    <tr>\n",
       "      <th>4</th>\n",
       "      <td>Brazil</td>\n",
       "      <td>South America</td>\n",
       "      <td>Americas</td>\n",
       "      <td>160010801</td>\n",
       "      <td>2.094693e+08</td>\n",
       "    </tr>\n",
       "    <tr>\n",
       "      <th>...</th>\n",
       "      <td>...</td>\n",
       "      <td>...</td>\n",
       "      <td>...</td>\n",
       "      <td>...</td>\n",
       "      <td>...</td>\n",
       "    </tr>\n",
       "    <tr>\n",
       "      <th>209</th>\n",
       "      <td>Saint Helena, Ascension and Tristan da Cunha</td>\n",
       "      <td>Western Africa</td>\n",
       "      <td>Africa</td>\n",
       "      <td>2906</td>\n",
       "      <td>6.035000e+03</td>\n",
       "    </tr>\n",
       "    <tr>\n",
       "      <th>210</th>\n",
       "      <td>Falkland Islands</td>\n",
       "      <td>South America</td>\n",
       "      <td>Americas</td>\n",
       "      <td>2881</td>\n",
       "      <td>3.234000e+03</td>\n",
       "    </tr>\n",
       "    <tr>\n",
       "      <th>211</th>\n",
       "      <td>Montserrat</td>\n",
       "      <td>Caribbean</td>\n",
       "      <td>Americas</td>\n",
       "      <td>2833</td>\n",
       "      <td>4.993000e+03</td>\n",
       "    </tr>\n",
       "    <tr>\n",
       "      <th>212</th>\n",
       "      <td>Wallis and Futuna</td>\n",
       "      <td>Polynesia</td>\n",
       "      <td>Oceania</td>\n",
       "      <td>1383</td>\n",
       "      <td>1.166100e+04</td>\n",
       "    </tr>\n",
       "    <tr>\n",
       "      <th>213</th>\n",
       "      <td>Niue</td>\n",
       "      <td>Polynesia</td>\n",
       "      <td>Oceania</td>\n",
       "      <td>1034</td>\n",
       "      <td>1.620000e+03</td>\n",
       "    </tr>\n",
       "  </tbody>\n",
       "</table>\n",
       "<p>214 rows × 5 columns</p>\n",
       "</div>"
      ],
      "text/plain": [
       "                                  Country or area           Subregion  \\\n",
       "0                                           China        Eastern Asia   \n",
       "1                                           India       Southern Asia   \n",
       "2                                   United States    Northern America   \n",
       "3                                       Indonesia  South-eastern Asia   \n",
       "4                                          Brazil       South America   \n",
       "..                                            ...                 ...   \n",
       "209  Saint Helena, Ascension and Tristan da Cunha      Western Africa   \n",
       "210                              Falkland Islands       South America   \n",
       "211                                    Montserrat           Caribbean   \n",
       "212                             Wallis and Futuna           Polynesia   \n",
       "213                                          Niue           Polynesia   \n",
       "\n",
       "       Region  Internet users    Population  \n",
       "0        Asia      1010740000  1.427648e+09  \n",
       "1        Asia       833710000  1.352642e+09  \n",
       "2    Americas       312320000  3.270963e+08  \n",
       "3        Asia       196000000  2.676705e+08  \n",
       "4    Americas       160010801  2.094693e+08  \n",
       "..        ...             ...           ...  \n",
       "209    Africa            2906  6.035000e+03  \n",
       "210  Americas            2881  3.234000e+03  \n",
       "211  Americas            2833  4.993000e+03  \n",
       "212   Oceania            1383  1.166100e+04  \n",
       "213   Oceania            1034  1.620000e+03  \n",
       "\n",
       "[214 rows x 5 columns]"
      ]
     },
     "execution_count": 20,
     "metadata": {},
     "output_type": "execute_result"
    }
   ],
   "source": [
    "df_users = pd.read_csv(os.path.join(data_folder, \"worldwide internet users - users.csv\"), thousands=\",\")\n",
    "df_users"
   ]
  },
  {
   "cell_type": "markdown",
   "id": "5e7ae7a0",
   "metadata": {},
   "source": [
    "Selecting the columns that we need for our study."
   ]
  },
  {
   "cell_type": "code",
   "execution_count": 21,
   "id": "75f71e78",
   "metadata": {},
   "outputs": [
    {
     "data": {
      "text/html": [
       "<div>\n",
       "<style scoped>\n",
       "    .dataframe tbody tr th:only-of-type {\n",
       "        vertical-align: middle;\n",
       "    }\n",
       "\n",
       "    .dataframe tbody tr th {\n",
       "        vertical-align: top;\n",
       "    }\n",
       "\n",
       "    .dataframe thead th {\n",
       "        text-align: right;\n",
       "    }\n",
       "</style>\n",
       "<table border=\"1\" class=\"dataframe\">\n",
       "  <thead>\n",
       "    <tr style=\"text-align: right;\">\n",
       "      <th></th>\n",
       "      <th>Country or area</th>\n",
       "      <th>Internet users</th>\n",
       "      <th>Population</th>\n",
       "    </tr>\n",
       "  </thead>\n",
       "  <tbody>\n",
       "    <tr>\n",
       "      <th>0</th>\n",
       "      <td>China</td>\n",
       "      <td>1010740000</td>\n",
       "      <td>1.427648e+09</td>\n",
       "    </tr>\n",
       "    <tr>\n",
       "      <th>1</th>\n",
       "      <td>India</td>\n",
       "      <td>833710000</td>\n",
       "      <td>1.352642e+09</td>\n",
       "    </tr>\n",
       "    <tr>\n",
       "      <th>2</th>\n",
       "      <td>United States</td>\n",
       "      <td>312320000</td>\n",
       "      <td>3.270963e+08</td>\n",
       "    </tr>\n",
       "    <tr>\n",
       "      <th>3</th>\n",
       "      <td>Indonesia</td>\n",
       "      <td>196000000</td>\n",
       "      <td>2.676705e+08</td>\n",
       "    </tr>\n",
       "    <tr>\n",
       "      <th>4</th>\n",
       "      <td>Brazil</td>\n",
       "      <td>160010801</td>\n",
       "      <td>2.094693e+08</td>\n",
       "    </tr>\n",
       "    <tr>\n",
       "      <th>...</th>\n",
       "      <td>...</td>\n",
       "      <td>...</td>\n",
       "      <td>...</td>\n",
       "    </tr>\n",
       "    <tr>\n",
       "      <th>209</th>\n",
       "      <td>Saint Helena, Ascension and Tristan da Cunha</td>\n",
       "      <td>2906</td>\n",
       "      <td>6.035000e+03</td>\n",
       "    </tr>\n",
       "    <tr>\n",
       "      <th>210</th>\n",
       "      <td>Falkland Islands</td>\n",
       "      <td>2881</td>\n",
       "      <td>3.234000e+03</td>\n",
       "    </tr>\n",
       "    <tr>\n",
       "      <th>211</th>\n",
       "      <td>Montserrat</td>\n",
       "      <td>2833</td>\n",
       "      <td>4.993000e+03</td>\n",
       "    </tr>\n",
       "    <tr>\n",
       "      <th>212</th>\n",
       "      <td>Wallis and Futuna</td>\n",
       "      <td>1383</td>\n",
       "      <td>1.166100e+04</td>\n",
       "    </tr>\n",
       "    <tr>\n",
       "      <th>213</th>\n",
       "      <td>Niue</td>\n",
       "      <td>1034</td>\n",
       "      <td>1.620000e+03</td>\n",
       "    </tr>\n",
       "  </tbody>\n",
       "</table>\n",
       "<p>214 rows × 3 columns</p>\n",
       "</div>"
      ],
      "text/plain": [
       "                                  Country or area  Internet users  \\\n",
       "0                                           China      1010740000   \n",
       "1                                           India       833710000   \n",
       "2                                   United States       312320000   \n",
       "3                                       Indonesia       196000000   \n",
       "4                                          Brazil       160010801   \n",
       "..                                            ...             ...   \n",
       "209  Saint Helena, Ascension and Tristan da Cunha            2906   \n",
       "210                              Falkland Islands            2881   \n",
       "211                                    Montserrat            2833   \n",
       "212                             Wallis and Futuna            1383   \n",
       "213                                          Niue            1034   \n",
       "\n",
       "       Population  \n",
       "0    1.427648e+09  \n",
       "1    1.352642e+09  \n",
       "2    3.270963e+08  \n",
       "3    2.676705e+08  \n",
       "4    2.094693e+08  \n",
       "..            ...  \n",
       "209  6.035000e+03  \n",
       "210  3.234000e+03  \n",
       "211  4.993000e+03  \n",
       "212  1.166100e+04  \n",
       "213  1.620000e+03  \n",
       "\n",
       "[214 rows x 3 columns]"
      ]
     },
     "execution_count": 21,
     "metadata": {},
     "output_type": "execute_result"
    }
   ],
   "source": [
    "df_users = df_users[[\"Country or area\", \"Internet users\", \"Population\"]]\n",
    "df_users"
   ]
  },
  {
   "cell_type": "markdown",
   "id": "c4cfa766",
   "metadata": {},
   "source": [
    "Renaming the columns."
   ]
  },
  {
   "cell_type": "code",
   "execution_count": 22,
   "id": "2bff03d0",
   "metadata": {},
   "outputs": [
    {
     "data": {
      "text/html": [
       "<div>\n",
       "<style scoped>\n",
       "    .dataframe tbody tr th:only-of-type {\n",
       "        vertical-align: middle;\n",
       "    }\n",
       "\n",
       "    .dataframe tbody tr th {\n",
       "        vertical-align: top;\n",
       "    }\n",
       "\n",
       "    .dataframe thead th {\n",
       "        text-align: right;\n",
       "    }\n",
       "</style>\n",
       "<table border=\"1\" class=\"dataframe\">\n",
       "  <thead>\n",
       "    <tr style=\"text-align: right;\">\n",
       "      <th></th>\n",
       "      <th>Country Name</th>\n",
       "      <th>Internet users</th>\n",
       "      <th>Population</th>\n",
       "    </tr>\n",
       "  </thead>\n",
       "  <tbody>\n",
       "    <tr>\n",
       "      <th>0</th>\n",
       "      <td>China</td>\n",
       "      <td>1010740000</td>\n",
       "      <td>1.427648e+09</td>\n",
       "    </tr>\n",
       "    <tr>\n",
       "      <th>1</th>\n",
       "      <td>India</td>\n",
       "      <td>833710000</td>\n",
       "      <td>1.352642e+09</td>\n",
       "    </tr>\n",
       "    <tr>\n",
       "      <th>2</th>\n",
       "      <td>United States</td>\n",
       "      <td>312320000</td>\n",
       "      <td>3.270963e+08</td>\n",
       "    </tr>\n",
       "    <tr>\n",
       "      <th>3</th>\n",
       "      <td>Indonesia</td>\n",
       "      <td>196000000</td>\n",
       "      <td>2.676705e+08</td>\n",
       "    </tr>\n",
       "    <tr>\n",
       "      <th>4</th>\n",
       "      <td>Brazil</td>\n",
       "      <td>160010801</td>\n",
       "      <td>2.094693e+08</td>\n",
       "    </tr>\n",
       "    <tr>\n",
       "      <th>...</th>\n",
       "      <td>...</td>\n",
       "      <td>...</td>\n",
       "      <td>...</td>\n",
       "    </tr>\n",
       "    <tr>\n",
       "      <th>209</th>\n",
       "      <td>Saint Helena, Ascension and Tristan da Cunha</td>\n",
       "      <td>2906</td>\n",
       "      <td>6.035000e+03</td>\n",
       "    </tr>\n",
       "    <tr>\n",
       "      <th>210</th>\n",
       "      <td>Falkland Islands</td>\n",
       "      <td>2881</td>\n",
       "      <td>3.234000e+03</td>\n",
       "    </tr>\n",
       "    <tr>\n",
       "      <th>211</th>\n",
       "      <td>Montserrat</td>\n",
       "      <td>2833</td>\n",
       "      <td>4.993000e+03</td>\n",
       "    </tr>\n",
       "    <tr>\n",
       "      <th>212</th>\n",
       "      <td>Wallis and Futuna</td>\n",
       "      <td>1383</td>\n",
       "      <td>1.166100e+04</td>\n",
       "    </tr>\n",
       "    <tr>\n",
       "      <th>213</th>\n",
       "      <td>Niue</td>\n",
       "      <td>1034</td>\n",
       "      <td>1.620000e+03</td>\n",
       "    </tr>\n",
       "  </tbody>\n",
       "</table>\n",
       "<p>214 rows × 3 columns</p>\n",
       "</div>"
      ],
      "text/plain": [
       "                                     Country Name  Internet users  \\\n",
       "0                                           China      1010740000   \n",
       "1                                           India       833710000   \n",
       "2                                   United States       312320000   \n",
       "3                                       Indonesia       196000000   \n",
       "4                                          Brazil       160010801   \n",
       "..                                            ...             ...   \n",
       "209  Saint Helena, Ascension and Tristan da Cunha            2906   \n",
       "210                              Falkland Islands            2881   \n",
       "211                                    Montserrat            2833   \n",
       "212                             Wallis and Futuna            1383   \n",
       "213                                          Niue            1034   \n",
       "\n",
       "       Population  \n",
       "0    1.427648e+09  \n",
       "1    1.352642e+09  \n",
       "2    3.270963e+08  \n",
       "3    2.676705e+08  \n",
       "4    2.094693e+08  \n",
       "..            ...  \n",
       "209  6.035000e+03  \n",
       "210  3.234000e+03  \n",
       "211  4.993000e+03  \n",
       "212  1.166100e+04  \n",
       "213  1.620000e+03  \n",
       "\n",
       "[214 rows x 3 columns]"
      ]
     },
     "execution_count": 22,
     "metadata": {},
     "output_type": "execute_result"
    }
   ],
   "source": [
    "df_users = df_users.rename(columns={\n",
    "    \"Country or area\": \"Country Name\"\n",
    "})\n",
    "df_users"
   ]
  },
  {
   "cell_type": "markdown",
   "id": "4efb8cda",
   "metadata": {},
   "source": [
    "Cleaning the data."
   ]
  },
  {
   "cell_type": "code",
   "execution_count": 23,
   "id": "155d5d10",
   "metadata": {},
   "outputs": [
    {
     "name": "stdout",
     "output_type": "stream",
     "text": [
      "<class 'pandas.core.frame.DataFrame'>\n",
      "Int64Index: 212 entries, 0 to 213\n",
      "Data columns (total 3 columns):\n",
      " #   Column          Non-Null Count  Dtype  \n",
      "---  ------          --------------  -----  \n",
      " 0   Country Name    212 non-null    object \n",
      " 1   Internet users  212 non-null    int64  \n",
      " 2   Population      212 non-null    float64\n",
      "dtypes: float64(1), int64(1), object(1)\n",
      "memory usage: 6.6+ KB\n"
     ]
    }
   ],
   "source": [
    "df_users = df_users.loc[df_users[\"Population\"].notna()]\n",
    "df_users.info()"
   ]
  },
  {
   "cell_type": "markdown",
   "id": "0a18e149",
   "metadata": {},
   "source": [
    "# Dataset analysis\n",
    "Now that we have cleaned up and made consistent all the necessary datasets, we can begin to carry out the analyzes on them."
   ]
  },
  {
   "cell_type": "markdown",
   "id": "b71444b3",
   "metadata": {},
   "source": [
    "## Question 1: Is there a greater adoption of Internet in more developed countries?"
   ]
  },
  {
   "cell_type": "markdown",
   "id": "2647558f",
   "metadata": {},
   "source": [
    "In order to assess whether there is a relationship between the development of a nation and the Internet adoption of its population, we will use two indices:\n",
    "- **Human Development Index**, which is a statistic composite index of life expectancy, education, and per capita income indicators, which are used to rank countries's human and social development.\n",
    "- **GDP per capita**, which measures a country's economic output per person.\n",
    "\n",
    "The reason why it is not possible to use only one index is because there is no such generic index, and therefore the ideal compromise is to use two indices: one that tracks economic development (GDP per capita), the other that tracks social development (HDI) of each country."
   ]
  },
  {
   "cell_type": "code",
   "execution_count": 107,
   "id": "d3170824",
   "metadata": {},
   "outputs": [
    {
     "data": {
      "text/plain": [
       "<AxesSubplot:xlabel='Country Name'>"
      ]
     },
     "execution_count": 107,
     "metadata": {},
     "output_type": "execute_result"
    },
    {
     "data": {
      "image/png": "[encoded data removed]",
      "text/plain": [
       "<Figure size 1224x360 with 2 Axes>"
      ]
     },
     "metadata": {
      "needs_background": "light"
     },
     "output_type": "display_data"
    }
   ],
   "source": [
    "fig, axes = plt.subplots(figsize=(17, 5), nrows=1, ncols=2)\n",
    "\n",
    "df_gdp2020 = df_gdp2020.sort_values('GDP', ascending=False)\n",
    "df_gdp2020.head(30).plot.bar(ax=axes[0], x='Country Name', y='GDP')\n",
    "\n",
    "df_hdi2019 =  df_hdi2019.sort_values('HDI', ascending=False)\n",
    "df_hdi2019.head(30).plot.bar(ax=axes[1], x='Country Name', y='HDI')"
   ]
  },
  {
   "cell_type": "markdown",
   "id": "dc62358a",
   "metadata": {},
   "source": [
    "Only by viewing the data with a bar chart can we see that the HDI index is much more homogeneous in the distribution of values, however with this type of diagram it is not possible to have a clear overall view of the data, so it is better to visualize the data on a world map."
   ]
  },
  {
   "cell_type": "code",
   "execution_count": 15,
   "id": "7a2acf10",
   "metadata": {},
   "outputs": [
    {
     "data": {
      "application/vnd.plotly.v1+json": {
       "config": {
        "plotlyServerURL": "https://plot.ly"
       },
       "data": [
        {
         "coloraxis": "coloraxis",
         "geo": "geo",
         "hovertemplate": "Country Name=%{location}<br>GDP=%{z}<extra></extra>",
         "locationmode": "country names",
         "locations": [
          "Aruba",
          "Africa Eastern and Southern",
          "Afghanistan",
          "Africa Western and Central",
          "Angola",
          "Albania",
          "Andorra",
          "Arab World",
          "United Arab Emirates",
          "Argentina",
          "Armenia",
          "American Samoa",
          "Antigua and Barbuda",
          "Australia",
          "Austria",
          "Azerbaijan",
          "Burundi",
          "Belgium",
          "Benin",
          "Burkina Faso",
          "Bangladesh",
          "Bulgaria",
          "Bahrain",
          "Bahamas, The",
          "Bosnia and Herzegovina",
          "Belarus",
          "Belize",
          "Bermuda",
          "Bolivia",
          "Brazil",
          "Barbados",
          "Brunei Darussalam",
          "Bhutan",
          "Botswana",
          "Central African Republic",
          "Canada",
          "Central Europe and the Baltics",
          "Switzerland",
          "Chile",
          "China",
          "Cote d'Ivoire",
          "Cameroon",
          "Congo, Dem. Rep.",
          "Congo, Rep.",
          "Colombia",
          "Comoros",
          "Cabo Verde",
          "Costa Rica",
          "Caribbean small states",
          "Cuba",
          "Curacao",
          "Cayman Islands",
          "Cyprus",
          "Czech Republic",
          "Germany",
          "Djibouti",
          "Dominica",
          "Denmark",
          "Dominican Republic",
          "Algeria",
          "East Asia & Pacific (excluding high income)",
          "Early-demographic dividend",
          "East Asia & Pacific",
          "Europe & Central Asia (excluding high income)",
          "Europe & Central Asia",
          "Ecuador",
          "Egypt, Arab Rep.",
          "Euro area",
          "Spain",
          "Estonia",
          "Ethiopia",
          "European Union",
          "Fragile and conflict affected situations",
          "Finland",
          "Fiji",
          "France",
          "Faroe Islands",
          "Micronesia, Fed. Sts.",
          "Gabon",
          "United Kingdom",
          "Georgia",
          "Ghana",
          "Guinea",
          "Gambia, The",
          "Guinea-Bissau",
          "Equatorial Guinea",
          "Greece",
          "Grenada",
          "Greenland",
          "Guatemala",
          "Guam",
          "Guyana",
          "High income",
          "Hong Kong SAR, China",
          "Honduras",
          "Heavily indebted poor countries (HIPC)",
          "Croatia",
          "Haiti",
          "Hungary",
          "IBRD only",
          "IDA & IBRD total",
          "IDA total",
          "IDA blend",
          "Indonesia",
          "IDA only",
          "India",
          "Ireland",
          "Iran, Islamic Rep.",
          "Iraq",
          "Iceland",
          "Israel",
          "Italy",
          "Jamaica",
          "Jordan",
          "Japan",
          "Kazakhstan",
          "Kenya",
          "Kyrgyz Republic",
          "Cambodia",
          "Kiribati",
          "St. Kitts and Nevis",
          "Korea, Rep.",
          "Kuwait",
          "Latin America & Caribbean (excluding high income)",
          "Lao PDR",
          "Lebanon",
          "Liberia",
          "Libya",
          "St. Lucia",
          "Latin America & Caribbean",
          "Least developed countries: UN classification",
          "Low income",
          "Sri Lanka",
          "Lower middle income",
          "Low & middle income",
          "Lesotho",
          "Late-demographic dividend",
          "Lithuania",
          "Luxembourg",
          "Latvia",
          "Macao SAR, China",
          "Morocco",
          "Monaco",
          "Moldova",
          "Madagascar",
          "Maldives",
          "Middle East & North Africa",
          "Mexico",
          "Marshall Islands",
          "Middle income",
          "North Macedonia",
          "Mali",
          "Malta",
          "Myanmar",
          "Middle East & North Africa (excluding high income)",
          "Montenegro",
          "Mongolia",
          "Mozambique",
          "Mauritania",
          "Mauritius",
          "Malawi",
          "Malaysia",
          "North America",
          "Namibia",
          "New Caledonia",
          "Niger",
          "Nigeria",
          "Nicaragua",
          "Netherlands",
          "Norway",
          "Nepal",
          "Nauru",
          "New Zealand",
          "OECD members",
          "Oman",
          "Other small states",
          "Pakistan",
          "Panama",
          "Peru",
          "Philippines",
          "Palau",
          "Papua New Guinea",
          "Poland",
          "Pre-demographic dividend",
          "Puerto Rico",
          "Portugal",
          "Paraguay",
          "West Bank and Gaza",
          "Pacific island small states",
          "Post-demographic dividend",
          "French Polynesia",
          "Qatar",
          "Romania",
          "Russian Federation",
          "Rwanda",
          "South Asia",
          "Saudi Arabia",
          "Sudan",
          "Senegal",
          "Singapore",
          "Solomon Islands",
          "Sierra Leone",
          "El Salvador",
          "San Marino",
          "Somalia",
          "Serbia",
          "Sub-Saharan Africa (excluding high income)",
          "Sub-Saharan Africa",
          "Small states",
          "Sao Tome and Principe",
          "Suriname",
          "Slovak Republic",
          "Slovenia",
          "Sweden",
          "Eswatini",
          "Seychelles",
          "Turks and Caicos Islands",
          "Chad",
          "East Asia & Pacific (IDA & IBRD countries)",
          "Europe & Central Asia (IDA & IBRD countries)",
          "Togo",
          "Thailand",
          "Tajikistan",
          "Latin America & the Caribbean (IDA & IBRD countries)",
          "Timor-Leste",
          "Middle East & North Africa (IDA & IBRD countries)",
          "Tonga",
          "South Asia (IDA & IBRD)",
          "Sub-Saharan Africa (IDA & IBRD countries)",
          "Trinidad and Tobago",
          "Tunisia",
          "Turkiye",
          "Tuvalu",
          "Tanzania",
          "Uganda",
          "Ukraine",
          "Upper middle income",
          "Uruguay",
          "United States",
          "Uzbekistan",
          "St. Vincent and the Grenadines",
          "Virgin Islands (U.S.)",
          "Vietnam",
          "Vanuatu",
          "World",
          "Samoa",
          "Kosovo",
          "Yemen, Rep.",
          "South Africa",
          "Zambia",
          "Zimbabwe"
         ],
         "name": "",
         "type": "choropleth",
         "z": [
          23384.2987907455,
          1360.87864476883,
          516.747870807558,
          1709.76412923861,
          1631.43169087951,
          5332.16047456847,
          37416.6977203275,
          5724.28687023385,
          36284.5552429552,
          8585.69474249794,
          4266.01807420946,
          12844.9009909959,
          13992.7444804497,
          51680.3165229438,
          48588.6593847921,
          4229.91064904503,
          233.837510306669,
          45189.3669003126,
          1291.04097215441,
          857.932729650223,
          2270.34753479166,
          10079.2033812203,
          20406.5023256629,
          24665.0968345675,
          6082.36673041923,
          6555.42681826316,
          3987.79659612067,
          107706.039785266,
          3137.98961744018,
          6814.87563196772,
          16318.7481052701,
          27442.95382794,
          3000.77798595652,
          6348.83231765626,
          481.746296629034,
          43258.2638715601,
          16197.2993493424,
          87100.4148213751,
          13220.5707580419,
          10408.6697561349,
          2325.72370502247,
          1537.13021832773,
          543.950392515803,
          1899.77823742106,
          5312.19855554985,
          1407.40927043446,
          3064.27238842819,
          12201.9260332666,
          8857.87092186091,
          9477.85287326771,
          16109.8616665506,
          85346.7619526658,
          27681.56640625,
          22933.4995909236,
          46252.6893044892,
          3219.70112779347,
          7003.85902147233,
          61063.3164304238,
          7268.1969096591,
          3306.85820838104,
          8270.4551375631,
          3253.71345552774,
          11483.599313849,
          7435.16074761498,
          23981.0220068683,
          5627.77227986528,
          3569.20684121108,
          38012.6672881035,
          27056.4217512166,
          23054.3584905978,
          936.45075756247,
          34191.8282529314,
          1679.03109986942,
          49160.8371522596,
          5102.84392924983,
          39037.1226309074,
          66320.6791976778,
          3542.96978797168,
          6881.71422533521,
          41098.0786527828,
          4255.74299321254,
          2254.15388897604,
          1078.95000622281,
          757.413111611389,
          727.520171719562,
          7198.33588370688,
          17647.2326882744,
          9273.19929177393,
          54570.3750190141,
          4603.33964340645,
          34624.3401290414,
          6955.93921717789,
          43282.4234611717,
          46100.975872923,
          2405.73284775141,
          975.474261768968,
          14132.4865609499,
          1272.36799204205,
          16075.9732662505,
          6176.40377048976,
          4925.38124212598,
          1365.04784292945,
          1740.60380824477,
          3870.55761979249,
          1175.58660508453,
          1933.1010689481,
          85422.5428682266,
          2756.74997687567,
          4583.7474936713,
          59264.0340913145,
          44177.5712248445,
          31834.9726184046,
          4664.53024222133,
          4282.76582461621,
          39918.1675583443,
          9121.63713797145,
          1872.12402649219,
          1182.52170043018,
          1547.51138764424,
          1514.59105909467,
          18440.8536789158,
          31597.5046490718,
          24811.7697100231,
          6765.53277629677,
          2608.98283307549,
          3801.79274268223,
          601.063005802862,
          7614.32544908885,
          8804.56108865238,
          7270.70358438419,
          1099.20156053236,
          703.733845480583,
          3694.0409479198,
          2285.71110749434,
          4759.77608177317,
          1050.63163365737,
          9699.0893745314,
          20232.3020358588,
          116356.158037286,
          17703.9534432332,
          39403.1359073362,
          3058.69165039063,
          173688.189360292,
          4525.75965363511,
          477.613041384398,
          6924.10574465625,
          6688.08727950427,
          8431.66501744762,
          4129.850998412,
          5237.02247349621,
          5846.46589856854,
          862.453012011092,
          28946.4626770412,
          1450.66267347182,
          3190.32509710122,
          7694.6337585059,
          4060.95051770038,
          448.843891366822,
          1702.48695898248,
          8632.75285872458,
          636.286309590051,
          10412.3476677499,
          61000.8552589461,
          4157.01950619148,
          34694.5504017028,
          567.669892261611,
          2097.09247289022,
          1900.04359427589,
          52396.0322099525,
          67329.6777910967,
          1147.47197125836,
          10580.2681883905,
          41596.5055023403,
          38116.4222248183,
          14485.3861157973,
          11792.0664241862,
          1359.51452156874,
          12509.8352912602,
          6117.49357129272,
          3301.21860257673,
          14243.8646915764,
          2757.01101864579,
          15742.4537256368,
          1349.15316019379,
          31429.8661176558,
          22194.566114935,
          4967.68721171529,
          3233.56863835858,
          3785.50340580673,
          44330.3116982257,
          20182.5845029164,
          50124.3859361728,
          12956.5662477568,
          10161.982421875,
          786.301814784707,
          1875.44139149022,
          20203.6688777651,
          615.462097167969,
          1462.80816888438,
          60729.4503486794,
          2250.6011638607,
          509.376593987322,
          3798.63652082321,
          45515.7576957013,
          438.255165584868,
          7730.69174637698,
          1500.85264844909,
          1501.77942150021,
          10787.6687294932,
          2157.84044569668,
          4916.60566637918,
          19266.5135736247,
          25489.5002284083,
          52300.2061994993,
          3434.72179830295,
          12193.8868736001,
          23879.9266491038,
          652.349209585738,
          8361.93814697082,
          8406.89091077412,
          914.950792453214,
          7158.76668372256,
          852.830987774963,
          7062.47559044946,
          1442.73073825015,
          3189.79540382642,
          4624.82344882844,
          1875.44139149022,
          1501.77942150021,
          15285.9404867715,
          3597.21852540455,
          8536.43331960632,
          4668.81874310357,
          1076.4697265625,
          822.027681531666,
          3751.74072265625,
          9166.46085400957,
          15418.8153089096,
          63027.6795267153,
          1749.65581532206,
          7860.82135437107,
          39552.1685953523,
          3526.27457939624,
          2919.83679998348,
          10936.0574657438,
          4068.07886505264,
          4310.81118337317,
          631.681490044125,
          5655.86765390396,
          985.132436038869,
          1214.50982023534
         ]
        }
       ],
       "layout": {
        "coloraxis": {
         "colorbar": {
          "ticks": "outside",
          "title": {
           "text": "GDP per capita"
          }
         },
         "colorscale": [
          [
           0,
           "#fde725"
          ],
          [
           0.1111111111111111,
           "#b5de2b"
          ],
          [
           0.2222222222222222,
           "#6ece58"
          ],
          [
           0.3333333333333333,
           "#35b779"
          ],
          [
           0.4444444444444444,
           "#1f9e89"
          ],
          [
           0.5555555555555556,
           "#26828e"
          ],
          [
           0.6666666666666666,
           "#31688e"
          ],
          [
           0.7777777777777778,
           "#3e4989"
          ],
          [
           0.8888888888888888,
           "#482878"
          ],
          [
           1,
           "#440154"
          ]
         ]
        },
        "geo": {
         "center": {},
         "domain": {
          "x": [
           0,
           1
          ],
          "y": [
           0,
           1
          ]
         },
         "scope": "world"
        },
        "legend": {
         "tracegroupgap": 0
        },
        "margin": {
         "t": 60
        },
        "template": {
         "data": {
          "bar": [
           {
            "error_x": {
             "color": "#2a3f5f"
            },
            "error_y": {
             "color": "#2a3f5f"
            },
            "marker": {
             "line": {
              "color": "#E5ECF6",
              "width": 0.5
             },
             "pattern": {
              "fillmode": "overlay",
              "size": 10,
              "solidity": 0.2
             }
            },
            "type": "bar"
           }
          ],
          "barpolar": [
           {
            "marker": {
             "line": {
              "color": "#E5ECF6",
              "width": 0.5
             },
             "pattern": {
              "fillmode": "overlay",
              "size": 10,
              "solidity": 0.2
             }
            },
            "type": "barpolar"
           }
          ],
          "carpet": [
           {
            "aaxis": {
             "endlinecolor": "#2a3f5f",
             "gridcolor": "white",
             "linecolor": "white",
             "minorgridcolor": "white",
             "startlinecolor": "#2a3f5f"
            },
            "baxis": {
             "endlinecolor": "#2a3f5f",
             "gridcolor": "white",
             "linecolor": "white",
             "minorgridcolor": "white",
             "startlinecolor": "#2a3f5f"
            },
            "type": "carpet"
           }
          ],
          "choropleth": [
           {
            "colorbar": {
             "outlinewidth": 0,
             "ticks": ""
            },
            "type": "choropleth"
           }
          ],
          "contour": [
           {
            "colorbar": {
             "outlinewidth": 0,
             "ticks": ""
            },
            "colorscale": [
             [
              0,
              "#0d0887"
             ],
             [
              0.1111111111111111,
              "#46039f"
             ],
             [
              0.2222222222222222,
              "#7201a8"
             ],
             [
              0.3333333333333333,
              "#9c179e"
             ],
             [
              0.4444444444444444,
              "#bd3786"
             ],
             [
              0.5555555555555556,
              "#d8576b"
             ],
             [
              0.6666666666666666,
              "#ed7953"
             ],
             [
              0.7777777777777778,
              "#fb9f3a"
             ],
             [
              0.8888888888888888,
              "#fdca26"
             ],
             [
              1,
              "#f0f921"
             ]
            ],
            "type": "contour"
           }
          ],
          "contourcarpet": [
           {
            "colorbar": {
             "outlinewidth": 0,
             "ticks": ""
            },
            "type": "contourcarpet"
           }
          ],
          "heatmap": [
           {
            "colorbar": {
             "outlinewidth": 0,
             "ticks": ""
            },
            "colorscale": [
             [
              0,
              "#0d0887"
             ],
             [
              0.1111111111111111,
              "#46039f"
             ],
             [
              0.2222222222222222,
              "#7201a8"
             ],
             [
              0.3333333333333333,
              "#9c179e"
             ],
             [
              0.4444444444444444,
              "#bd3786"
             ],
             [
              0.5555555555555556,
              "#d8576b"
             ],
             [
              0.6666666666666666,
              "#ed7953"
             ],
             [
              0.7777777777777778,
              "#fb9f3a"
             ],
             [
              0.8888888888888888,
              "#fdca26"
             ],
             [
              1,
              "#f0f921"
             ]
            ],
            "type": "heatmap"
           }
          ],
          "heatmapgl": [
           {
            "colorbar": {
             "outlinewidth": 0,
             "ticks": ""
            },
            "colorscale": [
             [
              0,
              "#0d0887"
             ],
             [
              0.1111111111111111,
              "#46039f"
             ],
             [
              0.2222222222222222,
              "#7201a8"
             ],
             [
              0.3333333333333333,
              "#9c179e"
             ],
             [
              0.4444444444444444,
              "#bd3786"
             ],
             [
              0.5555555555555556,
              "#d8576b"
             ],
             [
              0.6666666666666666,
              "#ed7953"
             ],
             [
              0.7777777777777778,
              "#fb9f3a"
             ],
             [
              0.8888888888888888,
              "#fdca26"
             ],
             [
              1,
              "#f0f921"
             ]
            ],
            "type": "heatmapgl"
           }
          ],
          "histogram": [
           {
            "marker": {
             "pattern": {
              "fillmode": "overlay",
              "size": 10,
              "solidity": 0.2
             }
            },
            "type": "histogram"
           }
          ],
          "histogram2d": [
           {
            "colorbar": {
             "outlinewidth": 0,
             "ticks": ""
            },
            "colorscale": [
             [
              0,
              "#0d0887"
             ],
             [
              0.1111111111111111,
              "#46039f"
             ],
             [
              0.2222222222222222,
              "#7201a8"
             ],
             [
              0.3333333333333333,
              "#9c179e"
             ],
             [
              0.4444444444444444,
              "#bd3786"
             ],
             [
              0.5555555555555556,
              "#d8576b"
             ],
             [
              0.6666666666666666,
              "#ed7953"
             ],
             [
              0.7777777777777778,
              "#fb9f3a"
             ],
             [
              0.8888888888888888,
              "#fdca26"
             ],
             [
              1,
              "#f0f921"
             ]
            ],
            "type": "histogram2d"
           }
          ],
          "histogram2dcontour": [
           {
            "colorbar": {
             "outlinewidth": 0,
             "ticks": ""
            },
            "colorscale": [
             [
              0,
              "#0d0887"
             ],
             [
              0.1111111111111111,
              "#46039f"
             ],
             [
              0.2222222222222222,
              "#7201a8"
             ],
             [
              0.3333333333333333,
              "#9c179e"
             ],
             [
              0.4444444444444444,
              "#bd3786"
             ],
             [
              0.5555555555555556,
              "#d8576b"
             ],
             [
              0.6666666666666666,
              "#ed7953"
             ],
             [
              0.7777777777777778,
              "#fb9f3a"
             ],
             [
              0.8888888888888888,
              "#fdca26"
             ],
             [
              1,
              "#f0f921"
             ]
            ],
            "type": "histogram2dcontour"
           }
          ],
          "mesh3d": [
           {
            "colorbar": {
             "outlinewidth": 0,
             "ticks": ""
            },
            "type": "mesh3d"
           }
          ],
          "parcoords": [
           {
            "line": {
             "colorbar": {
              "outlinewidth": 0,
              "ticks": ""
             }
            },
            "type": "parcoords"
           }
          ],
          "pie": [
           {
            "automargin": true,
            "type": "pie"
           }
          ],
          "scatter": [
           {
            "fillpattern": {
             "fillmode": "overlay",
             "size": 10,
             "solidity": 0.2
            },
            "type": "scatter"
           }
          ],
          "scatter3d": [
           {
            "line": {
             "colorbar": {
              "outlinewidth": 0,
              "ticks": ""
             }
            },
            "marker": {
             "colorbar": {
              "outlinewidth": 0,
              "ticks": ""
             }
            },
            "type": "scatter3d"
           }
          ],
          "scattercarpet": [
           {
            "marker": {
             "colorbar": {
              "outlinewidth": 0,
              "ticks": ""
             }
            },
            "type": "scattercarpet"
           }
          ],
          "scattergeo": [
           {
            "marker": {
             "colorbar": {
              "outlinewidth": 0,
              "ticks": ""
             }
            },
            "type": "scattergeo"
           }
          ],
          "scattergl": [
           {
            "marker": {
             "colorbar": {
              "outlinewidth": 0,
              "ticks": ""
             }
            },
            "type": "scattergl"
           }
          ],
          "scattermapbox": [
           {
            "marker": {
             "colorbar": {
              "outlinewidth": 0,
              "ticks": ""
             }
            },
            "type": "scattermapbox"
           }
          ],
          "scatterpolar": [
           {
            "marker": {
             "colorbar": {
              "outlinewidth": 0,
              "ticks": ""
             }
            },
            "type": "scatterpolar"
           }
          ],
          "scatterpolargl": [
           {
            "marker": {
             "colorbar": {
              "outlinewidth": 0,
              "ticks": ""
             }
            },
            "type": "scatterpolargl"
           }
          ],
          "scatterternary": [
           {
            "marker": {
             "colorbar": {
              "outlinewidth": 0,
              "ticks": ""
             }
            },
            "type": "scatterternary"
           }
          ],
          "surface": [
           {
            "colorbar": {
             "outlinewidth": 0,
             "ticks": ""
            },
            "colorscale": [
             [
              0,
              "#0d0887"
             ],
             [
              0.1111111111111111,
              "#46039f"
             ],
             [
              0.2222222222222222,
              "#7201a8"
             ],
             [
              0.3333333333333333,
              "#9c179e"
             ],
             [
              0.4444444444444444,
              "#bd3786"
             ],
             [
              0.5555555555555556,
              "#d8576b"
             ],
             [
              0.6666666666666666,
              "#ed7953"
             ],
             [
              0.7777777777777778,
              "#fb9f3a"
             ],
             [
              0.8888888888888888,
              "#fdca26"
             ],
             [
              1,
              "#f0f921"
             ]
            ],
            "type": "surface"
           }
          ],
          "table": [
           {
            "cells": {
             "fill": {
              "color": "#EBF0F8"
             },
             "line": {
              "color": "white"
             }
            },
            "header": {
             "fill": {
              "color": "#C8D4E3"
             },
             "line": {
              "color": "white"
             }
            },
            "type": "table"
           }
          ]
         },
         "layout": {
          "annotationdefaults": {
           "arrowcolor": "#2a3f5f",
           "arrowhead": 0,
           "arrowwidth": 1
          },
          "autotypenumbers": "strict",
          "coloraxis": {
           "colorbar": {
            "outlinewidth": 0,
            "ticks": ""
           }
          },
          "colorscale": {
           "diverging": [
            [
             0,
             "#8e0152"
            ],
            [
             0.1,
             "#c51b7d"
            ],
            [
             0.2,
             "#de77ae"
            ],
            [
             0.3,
             "#f1b6da"
            ],
            [
             0.4,
             "#fde0ef"
            ],
            [
             0.5,
             "#f7f7f7"
            ],
            [
             0.6,
             "#e6f5d0"
            ],
            [
             0.7,
             "#b8e186"
            ],
            [
             0.8,
             "#7fbc41"
            ],
            [
             0.9,
             "#4d9221"
            ],
            [
             1,
             "#276419"
            ]
           ],
           "sequential": [
            [
             0,
             "#0d0887"
            ],
            [
             0.1111111111111111,
             "#46039f"
            ],
            [
             0.2222222222222222,
             "#7201a8"
            ],
            [
             0.3333333333333333,
             "#9c179e"
            ],
            [
             0.4444444444444444,
             "#bd3786"
            ],
            [
             0.5555555555555556,
             "#d8576b"
            ],
            [
             0.6666666666666666,
             "#ed7953"
            ],
            [
             0.7777777777777778,
             "#fb9f3a"
            ],
            [
             0.8888888888888888,
             "#fdca26"
            ],
            [
             1,
             "#f0f921"
            ]
           ],
           "sequentialminus": [
            [
             0,
             "#0d0887"
            ],
            [
             0.1111111111111111,
             "#46039f"
            ],
            [
             0.2222222222222222,
             "#7201a8"
            ],
            [
             0.3333333333333333,
             "#9c179e"
            ],
            [
             0.4444444444444444,
             "#bd3786"
            ],
            [
             0.5555555555555556,
             "#d8576b"
            ],
            [
             0.6666666666666666,
             "#ed7953"
            ],
            [
             0.7777777777777778,
             "#fb9f3a"
            ],
            [
             0.8888888888888888,
             "#fdca26"
            ],
            [
             1,
             "#f0f921"
            ]
           ]
          },
          "colorway": [
           "#636efa",
           "#EF553B",
           "#00cc96",
           "#ab63fa",
           "#FFA15A",
           "#19d3f3",
           "#FF6692",
           "#B6E880",
           "#FF97FF",
           "#FECB52"
          ],
          "font": {
           "color": "#2a3f5f"
          },
          "geo": {
           "bgcolor": "white",
           "lakecolor": "white",
           "landcolor": "#E5ECF6",
           "showlakes": true,
           "showland": true,
           "subunitcolor": "white"
          },
          "hoverlabel": {
           "align": "left"
          },
          "hovermode": "closest",
          "mapbox": {
           "style": "light"
          },
          "paper_bgcolor": "white",
          "plot_bgcolor": "#E5ECF6",
          "polar": {
           "angularaxis": {
            "gridcolor": "white",
            "linecolor": "white",
            "ticks": ""
           },
           "bgcolor": "#E5ECF6",
           "radialaxis": {
            "gridcolor": "white",
            "linecolor": "white",
            "ticks": ""
           }
          },
          "scene": {
           "xaxis": {
            "backgroundcolor": "#E5ECF6",
            "gridcolor": "white",
            "gridwidth": 2,
            "linecolor": "white",
            "showbackground": true,
            "ticks": "",
            "zerolinecolor": "white"
           },
           "yaxis": {
            "backgroundcolor": "#E5ECF6",
            "gridcolor": "white",
            "gridwidth": 2,
            "linecolor": "white",
            "showbackground": true,
            "ticks": "",
            "zerolinecolor": "white"
           },
           "zaxis": {
            "backgroundcolor": "#E5ECF6",
            "gridcolor": "white",
            "gridwidth": 2,
            "linecolor": "white",
            "showbackground": true,
            "ticks": "",
            "zerolinecolor": "white"
           }
          },
          "shapedefaults": {
           "line": {
            "color": "#2a3f5f"
           }
          },
          "ternary": {
           "aaxis": {
            "gridcolor": "white",
            "linecolor": "white",
            "ticks": ""
           },
           "baxis": {
            "gridcolor": "white",
            "linecolor": "white",
            "ticks": ""
           },
           "bgcolor": "#E5ECF6",
           "caxis": {
            "gridcolor": "white",
            "linecolor": "white",
            "ticks": ""
           }
          },
          "title": {
           "x": 0.05
          },
          "xaxis": {
           "automargin": true,
           "gridcolor": "white",
           "linecolor": "white",
           "ticks": "",
           "title": {
            "standoff": 15
           },
           "zerolinecolor": "white",
           "zerolinewidth": 2
          },
          "yaxis": {
           "automargin": true,
           "gridcolor": "white",
           "linecolor": "white",
           "ticks": "",
           "title": {
            "standoff": 15
           },
           "zerolinecolor": "white",
           "zerolinewidth": 2
          }
         }
        }
       }
      },
      "text/html": [
       "<div>                            <div id=\"c97d7271-af01-42a5-b3af-d1855188e883\" class=\"plotly-graph-div\" style=\"height:525px; width:100%;\"></div>            <script type=\"text/javascript\">                require([\"plotly\"], function(Plotly) {                    window.PLOTLYENV=window.PLOTLYENV || {};                                    if (document.getElementById(\"c97d7271-af01-42a5-b3af-d1855188e883\")) {                    Plotly.newPlot(                        \"c97d7271-af01-42a5-b3af-d1855188e883\",                        [{\"coloraxis\":\"coloraxis\",\"geo\":\"geo\",\"hovertemplate\":\"Country Name=%{location}<br>GDP=%{z}<extra></extra>\",\"locationmode\":\"country names\",\"locations\":[\"Aruba\",\"Africa Eastern and Southern\",\"Afghanistan\",\"Africa Western and Central\",\"Angola\",\"Albania\",\"Andorra\",\"Arab World\",\"United Arab Emirates\",\"Argentina\",\"Armenia\",\"American Samoa\",\"Antigua and Barbuda\",\"Australia\",\"Austria\",\"Azerbaijan\",\"Burundi\",\"Belgium\",\"Benin\",\"Burkina Faso\",\"Bangladesh\",\"Bulgaria\",\"Bahrain\",\"Bahamas, The\",\"Bosnia and Herzegovina\",\"Belarus\",\"Belize\",\"Bermuda\",\"Bolivia\",\"Brazil\",\"Barbados\",\"Brunei Darussalam\",\"Bhutan\",\"Botswana\",\"Central African Republic\",\"Canada\",\"Central Europe and the Baltics\",\"Switzerland\",\"Chile\",\"China\",\"Cote d'Ivoire\",\"Cameroon\",\"Congo, Dem. Rep.\",\"Congo, Rep.\",\"Colombia\",\"Comoros\",\"Cabo Verde\",\"Costa Rica\",\"Caribbean small states\",\"Cuba\",\"Curacao\",\"Cayman Islands\",\"Cyprus\",\"Czech Republic\",\"Germany\",\"Djibouti\",\"Dominica\",\"Denmark\",\"Dominican Republic\",\"Algeria\",\"East Asia & Pacific (excluding high income)\",\"Early-demographic dividend\",\"East Asia & Pacific\",\"Europe & Central Asia (excluding high income)\",\"Europe & Central Asia\",\"Ecuador\",\"Egypt, Arab Rep.\",\"Euro area\",\"Spain\",\"Estonia\",\"Ethiopia\",\"European Union\",\"Fragile and conflict affected situations\",\"Finland\",\"Fiji\",\"France\",\"Faroe Islands\",\"Micronesia, Fed. Sts.\",\"Gabon\",\"United Kingdom\",\"Georgia\",\"Ghana\",\"Guinea\",\"Gambia, The\",\"Guinea-Bissau\",\"Equatorial Guinea\",\"Greece\",\"Grenada\",\"Greenland\",\"Guatemala\",\"Guam\",\"Guyana\",\"High income\",\"Hong Kong SAR, China\",\"Honduras\",\"Heavily indebted poor countries (HIPC)\",\"Croatia\",\"Haiti\",\"Hungary\",\"IBRD only\",\"IDA & IBRD total\",\"IDA total\",\"IDA blend\",\"Indonesia\",\"IDA only\",\"India\",\"Ireland\",\"Iran, Islamic Rep.\",\"Iraq\",\"Iceland\",\"Israel\",\"Italy\",\"Jamaica\",\"Jordan\",\"Japan\",\"Kazakhstan\",\"Kenya\",\"Kyrgyz Republic\",\"Cambodia\",\"Kiribati\",\"St. Kitts and Nevis\",\"Korea, Rep.\",\"Kuwait\",\"Latin America & Caribbean (excluding high income)\",\"Lao PDR\",\"Lebanon\",\"Liberia\",\"Libya\",\"St. Lucia\",\"Latin America & Caribbean\",\"Least developed countries: UN classification\",\"Low income\",\"Sri Lanka\",\"Lower middle income\",\"Low & middle income\",\"Lesotho\",\"Late-demographic dividend\",\"Lithuania\",\"Luxembourg\",\"Latvia\",\"Macao SAR, China\",\"Morocco\",\"Monaco\",\"Moldova\",\"Madagascar\",\"Maldives\",\"Middle East & North Africa\",\"Mexico\",\"Marshall Islands\",\"Middle income\",\"North Macedonia\",\"Mali\",\"Malta\",\"Myanmar\",\"Middle East & North Africa (excluding high income)\",\"Montenegro\",\"Mongolia\",\"Mozambique\",\"Mauritania\",\"Mauritius\",\"Malawi\",\"Malaysia\",\"North America\",\"Namibia\",\"New Caledonia\",\"Niger\",\"Nigeria\",\"Nicaragua\",\"Netherlands\",\"Norway\",\"Nepal\",\"Nauru\",\"New Zealand\",\"OECD members\",\"Oman\",\"Other small states\",\"Pakistan\",\"Panama\",\"Peru\",\"Philippines\",\"Palau\",\"Papua New Guinea\",\"Poland\",\"Pre-demographic dividend\",\"Puerto Rico\",\"Portugal\",\"Paraguay\",\"West Bank and Gaza\",\"Pacific island small states\",\"Post-demographic dividend\",\"French Polynesia\",\"Qatar\",\"Romania\",\"Russian Federation\",\"Rwanda\",\"South Asia\",\"Saudi Arabia\",\"Sudan\",\"Senegal\",\"Singapore\",\"Solomon Islands\",\"Sierra Leone\",\"El Salvador\",\"San Marino\",\"Somalia\",\"Serbia\",\"Sub-Saharan Africa (excluding high income)\",\"Sub-Saharan Africa\",\"Small states\",\"Sao Tome and Principe\",\"Suriname\",\"Slovak Republic\",\"Slovenia\",\"Sweden\",\"Eswatini\",\"Seychelles\",\"Turks and Caicos Islands\",\"Chad\",\"East Asia & Pacific (IDA & IBRD countries)\",\"Europe & Central Asia (IDA & IBRD countries)\",\"Togo\",\"Thailand\",\"Tajikistan\",\"Latin America & the Caribbean (IDA & IBRD countries)\",\"Timor-Leste\",\"Middle East & North Africa (IDA & IBRD countries)\",\"Tonga\",\"South Asia (IDA & IBRD)\",\"Sub-Saharan Africa (IDA & IBRD countries)\",\"Trinidad and Tobago\",\"Tunisia\",\"Turkiye\",\"Tuvalu\",\"Tanzania\",\"Uganda\",\"Ukraine\",\"Upper middle income\",\"Uruguay\",\"United States\",\"Uzbekistan\",\"St. Vincent and the Grenadines\",\"Virgin Islands (U.S.)\",\"Vietnam\",\"Vanuatu\",\"World\",\"Samoa\",\"Kosovo\",\"Yemen, Rep.\",\"South Africa\",\"Zambia\",\"Zimbabwe\"],\"name\":\"\",\"z\":[23384.2987907455,1360.87864476883,516.747870807558,1709.76412923861,1631.43169087951,5332.16047456847,37416.6977203275,5724.28687023385,36284.5552429552,8585.69474249794,4266.01807420946,12844.9009909959,13992.7444804497,51680.3165229438,48588.6593847921,4229.91064904503,233.837510306669,45189.3669003126,1291.04097215441,857.932729650223,2270.34753479166,10079.2033812203,20406.5023256629,24665.0968345675,6082.36673041923,6555.42681826316,3987.79659612067,107706.039785266,3137.98961744018,6814.87563196772,16318.7481052701,27442.95382794,3000.77798595652,6348.83231765626,481.746296629034,43258.2638715601,16197.2993493424,87100.4148213751,13220.5707580419,10408.6697561349,2325.72370502247,1537.13021832773,543.950392515803,1899.77823742106,5312.19855554985,1407.40927043446,3064.27238842819,12201.9260332666,8857.87092186091,9477.85287326771,16109.8616665506,85346.7619526658,27681.56640625,22933.4995909236,46252.6893044892,3219.70112779347,7003.85902147233,61063.3164304238,7268.1969096591,3306.85820838104,8270.4551375631,3253.71345552774,11483.599313849,7435.16074761498,23981.0220068683,5627.77227986528,3569.20684121108,38012.6672881035,27056.4217512166,23054.3584905978,936.45075756247,34191.8282529314,1679.03109986942,49160.8371522596,5102.84392924983,39037.1226309074,66320.6791976778,3542.96978797168,6881.71422533521,41098.0786527828,4255.74299321254,2254.15388897604,1078.95000622281,757.413111611389,727.520171719562,7198.33588370688,17647.2326882744,9273.19929177393,54570.3750190141,4603.33964340645,34624.3401290414,6955.93921717789,43282.4234611717,46100.975872923,2405.73284775141,975.474261768968,14132.4865609499,1272.36799204205,16075.9732662505,6176.40377048976,4925.38124212598,1365.04784292945,1740.60380824477,3870.55761979249,1175.58660508453,1933.1010689481,85422.5428682266,2756.74997687567,4583.7474936713,59264.0340913145,44177.5712248445,31834.9726184046,4664.53024222133,4282.76582461621,39918.1675583443,9121.63713797145,1872.12402649219,1182.52170043018,1547.51138764424,1514.59105909467,18440.8536789158,31597.5046490718,24811.7697100231,6765.53277629677,2608.98283307549,3801.79274268223,601.063005802862,7614.32544908885,8804.56108865238,7270.70358438419,1099.20156053236,703.733845480583,3694.0409479198,2285.71110749434,4759.77608177317,1050.63163365737,9699.0893745314,20232.3020358588,116356.158037286,17703.9534432332,39403.1359073362,3058.69165039063,173688.189360292,4525.75965363511,477.613041384398,6924.10574465625,6688.08727950427,8431.66501744762,4129.850998412,5237.02247349621,5846.46589856854,862.453012011092,28946.4626770412,1450.66267347182,3190.32509710122,7694.6337585059,4060.95051770038,448.843891366822,1702.48695898248,8632.75285872458,636.286309590051,10412.3476677499,61000.8552589461,4157.01950619148,34694.5504017028,567.669892261611,2097.09247289022,1900.04359427589,52396.0322099525,67329.6777910967,1147.47197125836,10580.2681883905,41596.5055023403,38116.4222248183,14485.3861157973,11792.0664241862,1359.51452156874,12509.8352912602,6117.49357129272,3301.21860257673,14243.8646915764,2757.01101864579,15742.4537256368,1349.15316019379,31429.8661176558,22194.566114935,4967.68721171529,3233.56863835858,3785.50340580673,44330.3116982257,20182.5845029164,50124.3859361728,12956.5662477568,10161.982421875,786.301814784707,1875.44139149022,20203.6688777651,615.462097167969,1462.80816888438,60729.4503486794,2250.6011638607,509.376593987322,3798.63652082321,45515.7576957013,438.255165584868,7730.69174637698,1500.85264844909,1501.77942150021,10787.6687294932,2157.84044569668,4916.60566637918,19266.5135736247,25489.5002284083,52300.2061994993,3434.72179830295,12193.8868736001,23879.9266491038,652.349209585738,8361.93814697082,8406.89091077412,914.950792453214,7158.76668372256,852.830987774963,7062.47559044946,1442.73073825015,3189.79540382642,4624.82344882844,1875.44139149022,1501.77942150021,15285.9404867715,3597.21852540455,8536.43331960632,4668.81874310357,1076.4697265625,822.027681531666,3751.74072265625,9166.46085400957,15418.8153089096,63027.6795267153,1749.65581532206,7860.82135437107,39552.1685953523,3526.27457939624,2919.83679998348,10936.0574657438,4068.07886505264,4310.81118337317,631.681490044125,5655.86765390396,985.132436038869,1214.50982023534],\"type\":\"choropleth\"}],                        {\"template\":{\"data\":{\"histogram2dcontour\":[{\"type\":\"histogram2dcontour\",\"colorbar\":{\"outlinewidth\":0,\"ticks\":\"\"},\"colorscale\":[[0.0,\"#0d0887\"],[0.1111111111111111,\"#46039f\"],[0.2222222222222222,\"#7201a8\"],[0.3333333333333333,\"#9c179e\"],[0.4444444444444444,\"#bd3786\"],[0.5555555555555556,\"#d8576b\"],[0.6666666666666666,\"#ed7953\"],[0.7777777777777778,\"#fb9f3a\"],[0.8888888888888888,\"#fdca26\"],[1.0,\"#f0f921\"]]}],\"choropleth\":[{\"type\":\"choropleth\",\"colorbar\":{\"outlinewidth\":0,\"ticks\":\"\"}}],\"histogram2d\":[{\"type\":\"histogram2d\",\"colorbar\":{\"outlinewidth\":0,\"ticks\":\"\"},\"colorscale\":[[0.0,\"#0d0887\"],[0.1111111111111111,\"#46039f\"],[0.2222222222222222,\"#7201a8\"],[0.3333333333333333,\"#9c179e\"],[0.4444444444444444,\"#bd3786\"],[0.5555555555555556,\"#d8576b\"],[0.6666666666666666,\"#ed7953\"],[0.7777777777777778,\"#fb9f3a\"],[0.8888888888888888,\"#fdca26\"],[1.0,\"#f0f921\"]]}],\"heatmap\":[{\"type\":\"heatmap\",\"colorbar\":{\"outlinewidth\":0,\"ticks\":\"\"},\"colorscale\":[[0.0,\"#0d0887\"],[0.1111111111111111,\"#46039f\"],[0.2222222222222222,\"#7201a8\"],[0.3333333333333333,\"#9c179e\"],[0.4444444444444444,\"#bd3786\"],[0.5555555555555556,\"#d8576b\"],[0.6666666666666666,\"#ed7953\"],[0.7777777777777778,\"#fb9f3a\"],[0.8888888888888888,\"#fdca26\"],[1.0,\"#f0f921\"]]}],\"heatmapgl\":[{\"type\":\"heatmapgl\",\"colorbar\":{\"outlinewidth\":0,\"ticks\":\"\"},\"colorscale\":[[0.0,\"#0d0887\"],[0.1111111111111111,\"#46039f\"],[0.2222222222222222,\"#7201a8\"],[0.3333333333333333,\"#9c179e\"],[0.4444444444444444,\"#bd3786\"],[0.5555555555555556,\"#d8576b\"],[0.6666666666666666,\"#ed7953\"],[0.7777777777777778,\"#fb9f3a\"],[0.8888888888888888,\"#fdca26\"],[1.0,\"#f0f921\"]]}],\"contourcarpet\":[{\"type\":\"contourcarpet\",\"colorbar\":{\"outlinewidth\":0,\"ticks\":\"\"}}],\"contour\":[{\"type\":\"contour\",\"colorbar\":{\"outlinewidth\":0,\"ticks\":\"\"},\"colorscale\":[[0.0,\"#0d0887\"],[0.1111111111111111,\"#46039f\"],[0.2222222222222222,\"#7201a8\"],[0.3333333333333333,\"#9c179e\"],[0.4444444444444444,\"#bd3786\"],[0.5555555555555556,\"#d8576b\"],[0.6666666666666666,\"#ed7953\"],[0.7777777777777778,\"#fb9f3a\"],[0.8888888888888888,\"#fdca26\"],[1.0,\"#f0f921\"]]}],\"surface\":[{\"type\":\"surface\",\"colorbar\":{\"outlinewidth\":0,\"ticks\":\"\"},\"colorscale\":[[0.0,\"#0d0887\"],[0.1111111111111111,\"#46039f\"],[0.2222222222222222,\"#7201a8\"],[0.3333333333333333,\"#9c179e\"],[0.4444444444444444,\"#bd3786\"],[0.5555555555555556,\"#d8576b\"],[0.6666666666666666,\"#ed7953\"],[0.7777777777777778,\"#fb9f3a\"],[0.8888888888888888,\"#fdca26\"],[1.0,\"#f0f921\"]]}],\"mesh3d\":[{\"type\":\"mesh3d\",\"colorbar\":{\"outlinewidth\":0,\"ticks\":\"\"}}],\"scatter\":[{\"fillpattern\":{\"fillmode\":\"overlay\",\"size\":10,\"solidity\":0.2},\"type\":\"scatter\"}],\"parcoords\":[{\"type\":\"parcoords\",\"line\":{\"colorbar\":{\"outlinewidth\":0,\"ticks\":\"\"}}}],\"scatterpolargl\":[{\"type\":\"scatterpolargl\",\"marker\":{\"colorbar\":{\"outlinewidth\":0,\"ticks\":\"\"}}}],\"bar\":[{\"error_x\":{\"color\":\"#2a3f5f\"},\"error_y\":{\"color\":\"#2a3f5f\"},\"marker\":{\"line\":{\"color\":\"#E5ECF6\",\"width\":0.5},\"pattern\":{\"fillmode\":\"overlay\",\"size\":10,\"solidity\":0.2}},\"type\":\"bar\"}],\"scattergeo\":[{\"type\":\"scattergeo\",\"marker\":{\"colorbar\":{\"outlinewidth\":0,\"ticks\":\"\"}}}],\"scatterpolar\":[{\"type\":\"scatterpolar\",\"marker\":{\"colorbar\":{\"outlinewidth\":0,\"ticks\":\"\"}}}],\"histogram\":[{\"marker\":{\"pattern\":{\"fillmode\":\"overlay\",\"size\":10,\"solidity\":0.2}},\"type\":\"histogram\"}],\"scattergl\":[{\"type\":\"scattergl\",\"marker\":{\"colorbar\":{\"outlinewidth\":0,\"ticks\":\"\"}}}],\"scatter3d\":[{\"type\":\"scatter3d\",\"line\":{\"colorbar\":{\"outlinewidth\":0,\"ticks\":\"\"}},\"marker\":{\"colorbar\":{\"outlinewidth\":0,\"ticks\":\"\"}}}],\"scattermapbox\":[{\"type\":\"scattermapbox\",\"marker\":{\"colorbar\":{\"outlinewidth\":0,\"ticks\":\"\"}}}],\"scatterternary\":[{\"type\":\"scatterternary\",\"marker\":{\"colorbar\":{\"outlinewidth\":0,\"ticks\":\"\"}}}],\"scattercarpet\":[{\"type\":\"scattercarpet\",\"marker\":{\"colorbar\":{\"outlinewidth\":0,\"ticks\":\"\"}}}],\"carpet\":[{\"aaxis\":{\"endlinecolor\":\"#2a3f5f\",\"gridcolor\":\"white\",\"linecolor\":\"white\",\"minorgridcolor\":\"white\",\"startlinecolor\":\"#2a3f5f\"},\"baxis\":{\"endlinecolor\":\"#2a3f5f\",\"gridcolor\":\"white\",\"linecolor\":\"white\",\"minorgridcolor\":\"white\",\"startlinecolor\":\"#2a3f5f\"},\"type\":\"carpet\"}],\"table\":[{\"cells\":{\"fill\":{\"color\":\"#EBF0F8\"},\"line\":{\"color\":\"white\"}},\"header\":{\"fill\":{\"color\":\"#C8D4E3\"},\"line\":{\"color\":\"white\"}},\"type\":\"table\"}],\"barpolar\":[{\"marker\":{\"line\":{\"color\":\"#E5ECF6\",\"width\":0.5},\"pattern\":{\"fillmode\":\"overlay\",\"size\":10,\"solidity\":0.2}},\"type\":\"barpolar\"}],\"pie\":[{\"automargin\":true,\"type\":\"pie\"}]},\"layout\":{\"autotypenumbers\":\"strict\",\"colorway\":[\"#636efa\",\"#EF553B\",\"#00cc96\",\"#ab63fa\",\"#FFA15A\",\"#19d3f3\",\"#FF6692\",\"#B6E880\",\"#FF97FF\",\"#FECB52\"],\"font\":{\"color\":\"#2a3f5f\"},\"hovermode\":\"closest\",\"hoverlabel\":{\"align\":\"left\"},\"paper_bgcolor\":\"white\",\"plot_bgcolor\":\"#E5ECF6\",\"polar\":{\"bgcolor\":\"#E5ECF6\",\"angularaxis\":{\"gridcolor\":\"white\",\"linecolor\":\"white\",\"ticks\":\"\"},\"radialaxis\":{\"gridcolor\":\"white\",\"linecolor\":\"white\",\"ticks\":\"\"}},\"ternary\":{\"bgcolor\":\"#E5ECF6\",\"aaxis\":{\"gridcolor\":\"white\",\"linecolor\":\"white\",\"ticks\":\"\"},\"baxis\":{\"gridcolor\":\"white\",\"linecolor\":\"white\",\"ticks\":\"\"},\"caxis\":{\"gridcolor\":\"white\",\"linecolor\":\"white\",\"ticks\":\"\"}},\"coloraxis\":{\"colorbar\":{\"outlinewidth\":0,\"ticks\":\"\"}},\"colorscale\":{\"sequential\":[[0.0,\"#0d0887\"],[0.1111111111111111,\"#46039f\"],[0.2222222222222222,\"#7201a8\"],[0.3333333333333333,\"#9c179e\"],[0.4444444444444444,\"#bd3786\"],[0.5555555555555556,\"#d8576b\"],[0.6666666666666666,\"#ed7953\"],[0.7777777777777778,\"#fb9f3a\"],[0.8888888888888888,\"#fdca26\"],[1.0,\"#f0f921\"]],\"sequentialminus\":[[0.0,\"#0d0887\"],[0.1111111111111111,\"#46039f\"],[0.2222222222222222,\"#7201a8\"],[0.3333333333333333,\"#9c179e\"],[0.4444444444444444,\"#bd3786\"],[0.5555555555555556,\"#d8576b\"],[0.6666666666666666,\"#ed7953\"],[0.7777777777777778,\"#fb9f3a\"],[0.8888888888888888,\"#fdca26\"],[1.0,\"#f0f921\"]],\"diverging\":[[0,\"#8e0152\"],[0.1,\"#c51b7d\"],[0.2,\"#de77ae\"],[0.3,\"#f1b6da\"],[0.4,\"#fde0ef\"],[0.5,\"#f7f7f7\"],[0.6,\"#e6f5d0\"],[0.7,\"#b8e186\"],[0.8,\"#7fbc41\"],[0.9,\"#4d9221\"],[1,\"#276419\"]]},\"xaxis\":{\"gridcolor\":\"white\",\"linecolor\":\"white\",\"ticks\":\"\",\"title\":{\"standoff\":15},\"zerolinecolor\":\"white\",\"automargin\":true,\"zerolinewidth\":2},\"yaxis\":{\"gridcolor\":\"white\",\"linecolor\":\"white\",\"ticks\":\"\",\"title\":{\"standoff\":15},\"zerolinecolor\":\"white\",\"automargin\":true,\"zerolinewidth\":2},\"scene\":{\"xaxis\":{\"backgroundcolor\":\"#E5ECF6\",\"gridcolor\":\"white\",\"linecolor\":\"white\",\"showbackground\":true,\"ticks\":\"\",\"zerolinecolor\":\"white\",\"gridwidth\":2},\"yaxis\":{\"backgroundcolor\":\"#E5ECF6\",\"gridcolor\":\"white\",\"linecolor\":\"white\",\"showbackground\":true,\"ticks\":\"\",\"zerolinecolor\":\"white\",\"gridwidth\":2},\"zaxis\":{\"backgroundcolor\":\"#E5ECF6\",\"gridcolor\":\"white\",\"linecolor\":\"white\",\"showbackground\":true,\"ticks\":\"\",\"zerolinecolor\":\"white\",\"gridwidth\":2}},\"shapedefaults\":{\"line\":{\"color\":\"#2a3f5f\"}},\"annotationdefaults\":{\"arrowcolor\":\"#2a3f5f\",\"arrowhead\":0,\"arrowwidth\":1},\"geo\":{\"bgcolor\":\"white\",\"landcolor\":\"#E5ECF6\",\"subunitcolor\":\"white\",\"showland\":true,\"showlakes\":true,\"lakecolor\":\"white\"},\"title\":{\"x\":0.05},\"mapbox\":{\"style\":\"light\"}}},\"geo\":{\"domain\":{\"x\":[0.0,1.0],\"y\":[0.0,1.0]},\"center\":{},\"scope\":\"world\"},\"coloraxis\":{\"colorbar\":{\"title\":{\"text\":\"GDP per capita\"},\"ticks\":\"outside\"},\"colorscale\":[[0.0,\"#fde725\"],[0.1111111111111111,\"#b5de2b\"],[0.2222222222222222,\"#6ece58\"],[0.3333333333333333,\"#35b779\"],[0.4444444444444444,\"#1f9e89\"],[0.5555555555555556,\"#26828e\"],[0.6666666666666666,\"#31688e\"],[0.7777777777777778,\"#3e4989\"],[0.8888888888888888,\"#482878\"],[1.0,\"#440154\"]]},\"legend\":{\"tracegroupgap\":0},\"margin\":{\"t\":60}},                        {\"responsive\": true}                    ).then(function(){\n",
       "                            \n",
       "var gd = document.getElementById('c97d7271-af01-42a5-b3af-d1855188e883');\n",
       "var x = new MutationObserver(function (mutations, observer) {{\n",
       "        var display = window.getComputedStyle(gd).display;\n",
       "        if (!display || display === 'none') {{\n",
       "            console.log([gd, 'removed!']);\n",
       "            Plotly.purge(gd);\n",
       "            observer.disconnect();\n",
       "        }}\n",
       "}});\n",
       "\n",
       "// Listen for the removal of the full notebook cells\n",
       "var notebookContainer = gd.closest('#notebook-container');\n",
       "if (notebookContainer) {{\n",
       "    x.observe(notebookContainer, {childList: true});\n",
       "}}\n",
       "\n",
       "// Listen for the clearing of the current output cell\n",
       "var outputEl = gd.closest('.output');\n",
       "if (outputEl) {{\n",
       "    x.observe(outputEl, {childList: true});\n",
       "}}\n",
       "\n",
       "                        })                };                });            </script>        </div>"
      ]
     },
     "metadata": {},
     "output_type": "display_data"
    },
    {
     "data": {
      "application/vnd.plotly.v1+json": {
       "config": {
        "plotlyServerURL": "https://plot.ly"
       },
       "data": [
        {
         "coloraxis": "coloraxis",
         "geo": "geo",
         "hovertemplate": "Country Name=%{location}<br>HDI=%{z}<extra></extra>",
         "locationmode": "country names",
         "locations": [
          "Afghanistan",
          "Angola",
          "Albania",
          "Andorra",
          "United Arab Emirates",
          "Argentina",
          "Armenia",
          "Antigua and Barbuda",
          "Australia",
          "Austria",
          "Azerbaijan",
          "Burundi",
          "Belgium",
          "Benin",
          "Burkina Faso",
          "Bangladesh",
          "Bulgaria",
          "Bahrain",
          "Bahamas",
          "Bosnia and Herzegovina",
          "Belarus",
          "Belize",
          "Bolivia (Plurinational State of)",
          "Brazil",
          "Barbados",
          "Brunei Darussalam",
          "Bhutan",
          "Botswana",
          "Central African Republic",
          "Canada",
          "Switzerland",
          "Chile",
          "China",
          "Côte d'Ivoire",
          "Cameroon",
          "Congo (Democratic Republic of the)",
          "Congo",
          "Colombia",
          "Comoros",
          "Cabo Verde",
          "Costa Rica",
          "Cuba",
          "Cyprus",
          "Czechia",
          "Germany",
          "Djibouti",
          "Dominica",
          "Denmark",
          "Dominican Republic",
          "Algeria",
          "Ecuador",
          "Egypt",
          "Eritrea",
          "Spain",
          "Estonia",
          "Ethiopia",
          "Finland",
          "Fiji",
          "France",
          "Micronesia (Federated States of)",
          "Gabon",
          "United Kingdom",
          "Georgia",
          "Ghana",
          "Guinea",
          "Gambia",
          "Guinea-Bissau",
          "Equatorial Guinea",
          "Greece",
          "Grenada",
          "Guatemala",
          "Guyana",
          "Hong Kong, China (SAR)",
          "Honduras",
          "Croatia",
          "Haiti",
          "Hungary",
          "Indonesia",
          "India",
          "Ireland",
          "Iran (Islamic Republic of)",
          "Iraq",
          "Iceland",
          "Israel",
          "Italy",
          "Jamaica",
          "Jordan",
          "Japan",
          "Kazakhstan",
          "Kenya",
          "Kyrgyzstan",
          "Cambodia",
          "Kiribati",
          "Saint Kitts and Nevis",
          "Korea (Republic of)",
          "Kuwait",
          "Lao People's Democratic Republic",
          "Lebanon",
          "Liberia",
          "Libya",
          "Saint Lucia",
          "Liechtenstein",
          "Sri Lanka",
          "Lesotho",
          "Lithuania",
          "Luxembourg",
          "Latvia",
          "Morocco",
          "Moldova (Republic of)",
          "Madagascar",
          "Maldives",
          "Mexico",
          "Marshall Islands",
          "North Macedonia",
          "Mali",
          "Malta",
          "Myanmar",
          "Montenegro",
          "Mongolia",
          "Mozambique",
          "Mauritania",
          "Mauritius",
          "Malawi",
          "Malaysia",
          "Namibia",
          "Niger",
          "Nigeria",
          "Nicaragua",
          "Netherlands",
          "Norway",
          "Nepal",
          "New Zealand",
          "Oman",
          "Pakistan",
          "Panama",
          "Peru",
          "Philippines",
          "Palau",
          "Papua New Guinea",
          "Poland",
          "Portugal",
          "Paraguay",
          "Palestine, State of",
          "Qatar",
          "Romania",
          "Russian Federation",
          "Rwanda",
          "Saudi Arabia",
          "Sudan",
          "Senegal",
          "Singapore",
          "Solomon Islands",
          "Sierra Leone",
          "El Salvador",
          "Serbia",
          "South Sudan",
          "Sao Tome and Principe",
          "Suriname",
          "Slovakia",
          "Slovenia",
          "Sweden",
          "Eswatini (Kingdom of)",
          "Seychelles",
          "Syrian Arab Republic",
          "Chad",
          "Togo",
          "Thailand",
          "Tajikistan",
          "Turkmenistan",
          "Timor-Leste",
          "Tonga",
          "Trinidad and Tobago",
          "Tunisia",
          "Turkey",
          "Tanzania (United Republic of)",
          "Uganda",
          "Ukraine",
          "Uruguay",
          "United States",
          "Uzbekistan",
          "Saint Vincent and the Grenadines",
          "Venezuela (Bolivarian Republic of)",
          "Viet Nam",
          "Vanuatu",
          "Samoa",
          "Yemen",
          "South Africa",
          "Zambia",
          "Zimbabwe"
         ],
         "name": "",
         "type": "choropleth",
         "z": [
          0.511,
          0.581,
          0.795,
          0.868,
          0.89,
          0.845,
          0.776,
          0.778,
          0.944,
          0.922,
          0.756,
          0.433,
          0.931,
          0.545,
          0.452,
          0.632,
          0.816,
          0.852,
          0.814,
          0.78,
          0.823,
          0.716,
          0.718,
          0.765,
          0.814,
          0.838,
          0.654,
          0.735,
          0.397,
          0.929,
          0.955,
          0.851,
          0.761,
          0.538,
          0.563,
          0.48,
          0.574,
          0.767,
          0.554,
          0.665,
          0.81,
          0.783,
          0.887,
          0.9,
          0.947,
          0.524,
          0.742,
          0.94,
          0.756,
          0.748,
          0.759,
          0.707,
          0.459,
          0.904,
          0.892,
          0.485,
          0.938,
          0.743,
          0.901,
          0.62,
          0.703,
          0.932,
          0.812,
          0.611,
          0.477,
          0.496,
          0.48,
          0.592,
          0.888,
          0.779,
          0.663,
          0.682,
          0.949,
          0.634,
          0.851,
          0.51,
          0.854,
          0.718,
          0.645,
          0.955,
          0.783,
          0.674,
          0.949,
          0.919,
          0.892,
          0.734,
          0.729,
          0.919,
          0.825,
          0.601,
          0.697,
          0.594,
          0.63,
          0.779,
          0.916,
          0.806,
          0.613,
          0.744,
          0.48,
          0.724,
          0.759,
          0.919,
          0.782,
          0.527,
          0.882,
          0.916,
          0.866,
          0.686,
          0.75,
          0.528,
          0.74,
          0.779,
          0.704,
          0.774,
          0.434,
          0.895,
          0.583,
          0.829,
          0.737,
          0.456,
          0.546,
          0.804,
          0.483,
          0.81,
          0.646,
          0.394,
          0.539,
          0.66,
          0.944,
          0.957,
          0.602,
          0.931,
          0.813,
          0.557,
          0.815,
          0.777,
          0.718,
          0.826,
          0.555,
          0.88,
          0.864,
          0.728,
          0.708,
          0.848,
          0.828,
          0.824,
          0.543,
          0.854,
          0.51,
          0.512,
          0.938,
          0.567,
          0.452,
          0.673,
          0.806,
          0.433,
          0.625,
          0.738,
          0.86,
          0.917,
          0.945,
          0.611,
          0.796,
          0.567,
          0.398,
          0.515,
          0.777,
          0.668,
          0.715,
          0.606,
          0.725,
          0.796,
          0.74,
          0.82,
          0.529,
          0.544,
          0.779,
          0.817,
          0.926,
          0.72,
          0.738,
          0.711,
          0.704,
          0.609,
          0.715,
          0.47,
          0.709,
          0.584,
          0.571
         ]
        }
       ],
       "layout": {
        "coloraxis": {
         "colorbar": {
          "title": {
           "text": "HDI"
          }
         },
         "colorscale": [
          [
           0,
           "rgb(51, 19, 23)"
          ],
          [
           0.09090909090909091,
           "rgb(79, 28, 33)"
          ],
          [
           0.18181818181818182,
           "rgb(108, 36, 36)"
          ],
          [
           0.2727272727272727,
           "rgb(135, 47, 32)"
          ],
          [
           0.36363636363636365,
           "rgb(157, 66, 25)"
          ],
          [
           0.45454545454545453,
           "rgb(174, 88, 20)"
          ],
          [
           0.5454545454545454,
           "rgb(188, 111, 19)"
          ],
          [
           0.6363636363636364,
           "rgb(199, 137, 22)"
          ],
          [
           0.7272727272727273,
           "rgb(209, 164, 32)"
          ],
          [
           0.8181818181818182,
           "rgb(217, 192, 44)"
          ],
          [
           0.9090909090909091,
           "rgb(222, 222, 59)"
          ],
          [
           1,
           "rgb(224, 253, 74)"
          ]
         ]
        },
        "geo": {
         "center": {},
         "domain": {
          "x": [
           0,
           1
          ],
          "y": [
           0,
           1
          ]
         },
         "scope": "world"
        },
        "legend": {
         "tracegroupgap": 0
        },
        "margin": {
         "t": 60
        },
        "template": {
         "data": {
          "bar": [
           {
            "error_x": {
             "color": "#2a3f5f"
            },
            "error_y": {
             "color": "#2a3f5f"
            },
            "marker": {
             "line": {
              "color": "#E5ECF6",
              "width": 0.5
             },
             "pattern": {
              "fillmode": "overlay",
              "size": 10,
              "solidity": 0.2
             }
            },
            "type": "bar"
           }
          ],
          "barpolar": [
           {
            "marker": {
             "line": {
              "color": "#E5ECF6",
              "width": 0.5
             },
             "pattern": {
              "fillmode": "overlay",
              "size": 10,
              "solidity": 0.2
             }
            },
            "type": "barpolar"
           }
          ],
          "carpet": [
           {
            "aaxis": {
             "endlinecolor": "#2a3f5f",
             "gridcolor": "white",
             "linecolor": "white",
             "minorgridcolor": "white",
             "startlinecolor": "#2a3f5f"
            },
            "baxis": {
             "endlinecolor": "#2a3f5f",
             "gridcolor": "white",
             "linecolor": "white",
             "minorgridcolor": "white",
             "startlinecolor": "#2a3f5f"
            },
            "type": "carpet"
           }
          ],
          "choropleth": [
           {
            "colorbar": {
             "outlinewidth": 0,
             "ticks": ""
            },
            "type": "choropleth"
           }
          ],
          "contour": [
           {
            "colorbar": {
             "outlinewidth": 0,
             "ticks": ""
            },
            "colorscale": [
             [
              0,
              "#0d0887"
             ],
             [
              0.1111111111111111,
              "#46039f"
             ],
             [
              0.2222222222222222,
              "#7201a8"
             ],
             [
              0.3333333333333333,
              "#9c179e"
             ],
             [
              0.4444444444444444,
              "#bd3786"
             ],
             [
              0.5555555555555556,
              "#d8576b"
             ],
             [
              0.6666666666666666,
              "#ed7953"
             ],
             [
              0.7777777777777778,
              "#fb9f3a"
             ],
             [
              0.8888888888888888,
              "#fdca26"
             ],
             [
              1,
              "#f0f921"
             ]
            ],
            "type": "contour"
           }
          ],
          "contourcarpet": [
           {
            "colorbar": {
             "outlinewidth": 0,
             "ticks": ""
            },
            "type": "contourcarpet"
           }
          ],
          "heatmap": [
           {
            "colorbar": {
             "outlinewidth": 0,
             "ticks": ""
            },
            "colorscale": [
             [
              0,
              "#0d0887"
             ],
             [
              0.1111111111111111,
              "#46039f"
             ],
             [
              0.2222222222222222,
              "#7201a8"
             ],
             [
              0.3333333333333333,
              "#9c179e"
             ],
             [
              0.4444444444444444,
              "#bd3786"
             ],
             [
              0.5555555555555556,
              "#d8576b"
             ],
             [
              0.6666666666666666,
              "#ed7953"
             ],
             [
              0.7777777777777778,
              "#fb9f3a"
             ],
             [
              0.8888888888888888,
              "#fdca26"
             ],
             [
              1,
              "#f0f921"
             ]
            ],
            "type": "heatmap"
           }
          ],
          "heatmapgl": [
           {
            "colorbar": {
             "outlinewidth": 0,
             "ticks": ""
            },
            "colorscale": [
             [
              0,
              "#0d0887"
             ],
             [
              0.1111111111111111,
              "#46039f"
             ],
             [
              0.2222222222222222,
              "#7201a8"
             ],
             [
              0.3333333333333333,
              "#9c179e"
             ],
             [
              0.4444444444444444,
              "#bd3786"
             ],
             [
              0.5555555555555556,
              "#d8576b"
             ],
             [
              0.6666666666666666,
              "#ed7953"
             ],
             [
              0.7777777777777778,
              "#fb9f3a"
             ],
             [
              0.8888888888888888,
              "#fdca26"
             ],
             [
              1,
              "#f0f921"
             ]
            ],
            "type": "heatmapgl"
           }
          ],
          "histogram": [
           {
            "marker": {
             "pattern": {
              "fillmode": "overlay",
              "size": 10,
              "solidity": 0.2
             }
            },
            "type": "histogram"
           }
          ],
          "histogram2d": [
           {
            "colorbar": {
             "outlinewidth": 0,
             "ticks": ""
            },
            "colorscale": [
             [
              0,
              "#0d0887"
             ],
             [
              0.1111111111111111,
              "#46039f"
             ],
             [
              0.2222222222222222,
              "#7201a8"
             ],
             [
              0.3333333333333333,
              "#9c179e"
             ],
             [
              0.4444444444444444,
              "#bd3786"
             ],
             [
              0.5555555555555556,
              "#d8576b"
             ],
             [
              0.6666666666666666,
              "#ed7953"
             ],
             [
              0.7777777777777778,
              "#fb9f3a"
             ],
             [
              0.8888888888888888,
              "#fdca26"
             ],
             [
              1,
              "#f0f921"
             ]
            ],
            "type": "histogram2d"
           }
          ],
          "histogram2dcontour": [
           {
            "colorbar": {
             "outlinewidth": 0,
             "ticks": ""
            },
            "colorscale": [
             [
              0,
              "#0d0887"
             ],
             [
              0.1111111111111111,
              "#46039f"
             ],
             [
              0.2222222222222222,
              "#7201a8"
             ],
             [
              0.3333333333333333,
              "#9c179e"
             ],
             [
              0.4444444444444444,
              "#bd3786"
             ],
             [
              0.5555555555555556,
              "#d8576b"
             ],
             [
              0.6666666666666666,
              "#ed7953"
             ],
             [
              0.7777777777777778,
              "#fb9f3a"
             ],
             [
              0.8888888888888888,
              "#fdca26"
             ],
             [
              1,
              "#f0f921"
             ]
            ],
            "type": "histogram2dcontour"
           }
          ],
          "mesh3d": [
           {
            "colorbar": {
             "outlinewidth": 0,
             "ticks": ""
            },
            "type": "mesh3d"
           }
          ],
          "parcoords": [
           {
            "line": {
             "colorbar": {
              "outlinewidth": 0,
              "ticks": ""
             }
            },
            "type": "parcoords"
           }
          ],
          "pie": [
           {
            "automargin": true,
            "type": "pie"
           }
          ],
          "scatter": [
           {
            "fillpattern": {
             "fillmode": "overlay",
             "size": 10,
             "solidity": 0.2
            },
            "type": "scatter"
           }
          ],
          "scatter3d": [
           {
            "line": {
             "colorbar": {
              "outlinewidth": 0,
              "ticks": ""
             }
            },
            "marker": {
             "colorbar": {
              "outlinewidth": 0,
              "ticks": ""
             }
            },
            "type": "scatter3d"
           }
          ],
          "scattercarpet": [
           {
            "marker": {
             "colorbar": {
              "outlinewidth": 0,
              "ticks": ""
             }
            },
            "type": "scattercarpet"
           }
          ],
          "scattergeo": [
           {
            "marker": {
             "colorbar": {
              "outlinewidth": 0,
              "ticks": ""
             }
            },
            "type": "scattergeo"
           }
          ],
          "scattergl": [
           {
            "marker": {
             "colorbar": {
              "outlinewidth": 0,
              "ticks": ""
             }
            },
            "type": "scattergl"
           }
          ],
          "scattermapbox": [
           {
            "marker": {
             "colorbar": {
              "outlinewidth": 0,
              "ticks": ""
             }
            },
            "type": "scattermapbox"
           }
          ],
          "scatterpolar": [
           {
            "marker": {
             "colorbar": {
              "outlinewidth": 0,
              "ticks": ""
             }
            },
            "type": "scatterpolar"
           }
          ],
          "scatterpolargl": [
           {
            "marker": {
             "colorbar": {
              "outlinewidth": 0,
              "ticks": ""
             }
            },
            "type": "scatterpolargl"
           }
          ],
          "scatterternary": [
           {
            "marker": {
             "colorbar": {
              "outlinewidth": 0,
              "ticks": ""
             }
            },
            "type": "scatterternary"
           }
          ],
          "surface": [
           {
            "colorbar": {
             "outlinewidth": 0,
             "ticks": ""
            },
            "colorscale": [
             [
              0,
              "#0d0887"
             ],
             [
              0.1111111111111111,
              "#46039f"
             ],
             [
              0.2222222222222222,
              "#7201a8"
             ],
             [
              0.3333333333333333,
              "#9c179e"
             ],
             [
              0.4444444444444444,
              "#bd3786"
             ],
             [
              0.5555555555555556,
              "#d8576b"
             ],
             [
              0.6666666666666666,
              "#ed7953"
             ],
             [
              0.7777777777777778,
              "#fb9f3a"
             ],
             [
              0.8888888888888888,
              "#fdca26"
             ],
             [
              1,
              "#f0f921"
             ]
            ],
            "type": "surface"
           }
          ],
          "table": [
           {
            "cells": {
             "fill": {
              "color": "#EBF0F8"
             },
             "line": {
              "color": "white"
             }
            },
            "header": {
             "fill": {
              "color": "#C8D4E3"
             },
             "line": {
              "color": "white"
             }
            },
            "type": "table"
           }
          ]
         },
         "layout": {
          "annotationdefaults": {
           "arrowcolor": "#2a3f5f",
           "arrowhead": 0,
           "arrowwidth": 1
          },
          "autotypenumbers": "strict",
          "coloraxis": {
           "colorbar": {
            "outlinewidth": 0,
            "ticks": ""
           }
          },
          "colorscale": {
           "diverging": [
            [
             0,
             "#8e0152"
            ],
            [
             0.1,
             "#c51b7d"
            ],
            [
             0.2,
             "#de77ae"
            ],
            [
             0.3,
             "#f1b6da"
            ],
            [
             0.4,
             "#fde0ef"
            ],
            [
             0.5,
             "#f7f7f7"
            ],
            [
             0.6,
             "#e6f5d0"
            ],
            [
             0.7,
             "#b8e186"
            ],
            [
             0.8,
             "#7fbc41"
            ],
            [
             0.9,
             "#4d9221"
            ],
            [
             1,
             "#276419"
            ]
           ],
           "sequential": [
            [
             0,
             "#0d0887"
            ],
            [
             0.1111111111111111,
             "#46039f"
            ],
            [
             0.2222222222222222,
             "#7201a8"
            ],
            [
             0.3333333333333333,
             "#9c179e"
            ],
            [
             0.4444444444444444,
             "#bd3786"
            ],
            [
             0.5555555555555556,
             "#d8576b"
            ],
            [
             0.6666666666666666,
             "#ed7953"
            ],
            [
             0.7777777777777778,
             "#fb9f3a"
            ],
            [
             0.8888888888888888,
             "#fdca26"
            ],
            [
             1,
             "#f0f921"
            ]
           ],
           "sequentialminus": [
            [
             0,
             "#0d0887"
            ],
            [
             0.1111111111111111,
             "#46039f"
            ],
            [
             0.2222222222222222,
             "#7201a8"
            ],
            [
             0.3333333333333333,
             "#9c179e"
            ],
            [
             0.4444444444444444,
             "#bd3786"
            ],
            [
             0.5555555555555556,
             "#d8576b"
            ],
            [
             0.6666666666666666,
             "#ed7953"
            ],
            [
             0.7777777777777778,
             "#fb9f3a"
            ],
            [
             0.8888888888888888,
             "#fdca26"
            ],
            [
             1,
             "#f0f921"
            ]
           ]
          },
          "colorway": [
           "#636efa",
           "#EF553B",
           "#00cc96",
           "#ab63fa",
           "#FFA15A",
           "#19d3f3",
           "#FF6692",
           "#B6E880",
           "#FF97FF",
           "#FECB52"
          ],
          "font": {
           "color": "#2a3f5f"
          },
          "geo": {
           "bgcolor": "white",
           "lakecolor": "white",
           "landcolor": "#E5ECF6",
           "showlakes": true,
           "showland": true,
           "subunitcolor": "white"
          },
          "hoverlabel": {
           "align": "left"
          },
          "hovermode": "closest",
          "mapbox": {
           "style": "light"
          },
          "paper_bgcolor": "white",
          "plot_bgcolor": "#E5ECF6",
          "polar": {
           "angularaxis": {
            "gridcolor": "white",
            "linecolor": "white",
            "ticks": ""
           },
           "bgcolor": "#E5ECF6",
           "radialaxis": {
            "gridcolor": "white",
            "linecolor": "white",
            "ticks": ""
           }
          },
          "scene": {
           "xaxis": {
            "backgroundcolor": "#E5ECF6",
            "gridcolor": "white",
            "gridwidth": 2,
            "linecolor": "white",
            "showbackground": true,
            "ticks": "",
            "zerolinecolor": "white"
           },
           "yaxis": {
            "backgroundcolor": "#E5ECF6",
            "gridcolor": "white",
            "gridwidth": 2,
            "linecolor": "white",
            "showbackground": true,
            "ticks": "",
            "zerolinecolor": "white"
           },
           "zaxis": {
            "backgroundcolor": "#E5ECF6",
            "gridcolor": "white",
            "gridwidth": 2,
            "linecolor": "white",
            "showbackground": true,
            "ticks": "",
            "zerolinecolor": "white"
           }
          },
          "shapedefaults": {
           "line": {
            "color": "#2a3f5f"
           }
          },
          "ternary": {
           "aaxis": {
            "gridcolor": "white",
            "linecolor": "white",
            "ticks": ""
           },
           "baxis": {
            "gridcolor": "white",
            "linecolor": "white",
            "ticks": ""
           },
           "bgcolor": "#E5ECF6",
           "caxis": {
            "gridcolor": "white",
            "linecolor": "white",
            "ticks": ""
           }
          },
          "title": {
           "x": 0.05
          },
          "xaxis": {
           "automargin": true,
           "gridcolor": "white",
           "linecolor": "white",
           "ticks": "",
           "title": {
            "standoff": 15
           },
           "zerolinecolor": "white",
           "zerolinewidth": 2
          },
          "yaxis": {
           "automargin": true,
           "gridcolor": "white",
           "linecolor": "white",
           "ticks": "",
           "title": {
            "standoff": 15
           },
           "zerolinecolor": "white",
           "zerolinewidth": 2
          }
         }
        }
       }
      },
      "text/html": [
       "<div>                            <div id=\"04839803-826a-4c48-b341-486260fb1583\" class=\"plotly-graph-div\" style=\"height:525px; width:100%;\"></div>            <script type=\"text/javascript\">                require([\"plotly\"], function(Plotly) {                    window.PLOTLYENV=window.PLOTLYENV || {};                                    if (document.getElementById(\"04839803-826a-4c48-b341-486260fb1583\")) {                    Plotly.newPlot(                        \"04839803-826a-4c48-b341-486260fb1583\",                        [{\"coloraxis\":\"coloraxis\",\"geo\":\"geo\",\"hovertemplate\":\"Country Name=%{location}<br>HDI=%{z}<extra></extra>\",\"locationmode\":\"country names\",\"locations\":[\"Afghanistan\",\"Angola\",\"Albania\",\"Andorra\",\"United Arab Emirates\",\"Argentina\",\"Armenia\",\"Antigua and Barbuda\",\"Australia\",\"Austria\",\"Azerbaijan\",\"Burundi\",\"Belgium\",\"Benin\",\"Burkina Faso\",\"Bangladesh\",\"Bulgaria\",\"Bahrain\",\"Bahamas\",\"Bosnia and Herzegovina\",\"Belarus\",\"Belize\",\"Bolivia (Plurinational State of)\",\"Brazil\",\"Barbados\",\"Brunei Darussalam\",\"Bhutan\",\"Botswana\",\"Central African Republic\",\"Canada\",\"Switzerland\",\"Chile\",\"China\",\"C\\u00f4te d'Ivoire\",\"Cameroon\",\"Congo (Democratic Republic of the)\",\"Congo\",\"Colombia\",\"Comoros\",\"Cabo Verde\",\"Costa Rica\",\"Cuba\",\"Cyprus\",\"Czechia\",\"Germany\",\"Djibouti\",\"Dominica\",\"Denmark\",\"Dominican Republic\",\"Algeria\",\"Ecuador\",\"Egypt\",\"Eritrea\",\"Spain\",\"Estonia\",\"Ethiopia\",\"Finland\",\"Fiji\",\"France\",\"Micronesia (Federated States of)\",\"Gabon\",\"United Kingdom\",\"Georgia\",\"Ghana\",\"Guinea\",\"Gambia\",\"Guinea-Bissau\",\"Equatorial Guinea\",\"Greece\",\"Grenada\",\"Guatemala\",\"Guyana\",\"Hong Kong, China (SAR)\",\"Honduras\",\"Croatia\",\"Haiti\",\"Hungary\",\"Indonesia\",\"India\",\"Ireland\",\"Iran (Islamic Republic of)\",\"Iraq\",\"Iceland\",\"Israel\",\"Italy\",\"Jamaica\",\"Jordan\",\"Japan\",\"Kazakhstan\",\"Kenya\",\"Kyrgyzstan\",\"Cambodia\",\"Kiribati\",\"Saint Kitts and Nevis\",\"Korea (Republic of)\",\"Kuwait\",\"Lao People's Democratic Republic\",\"Lebanon\",\"Liberia\",\"Libya\",\"Saint Lucia\",\"Liechtenstein\",\"Sri Lanka\",\"Lesotho\",\"Lithuania\",\"Luxembourg\",\"Latvia\",\"Morocco\",\"Moldova (Republic of)\",\"Madagascar\",\"Maldives\",\"Mexico\",\"Marshall Islands\",\"North Macedonia\",\"Mali\",\"Malta\",\"Myanmar\",\"Montenegro\",\"Mongolia\",\"Mozambique\",\"Mauritania\",\"Mauritius\",\"Malawi\",\"Malaysia\",\"Namibia\",\"Niger\",\"Nigeria\",\"Nicaragua\",\"Netherlands\",\"Norway\",\"Nepal\",\"New Zealand\",\"Oman\",\"Pakistan\",\"Panama\",\"Peru\",\"Philippines\",\"Palau\",\"Papua New Guinea\",\"Poland\",\"Portugal\",\"Paraguay\",\"Palestine, State of\",\"Qatar\",\"Romania\",\"Russian Federation\",\"Rwanda\",\"Saudi Arabia\",\"Sudan\",\"Senegal\",\"Singapore\",\"Solomon Islands\",\"Sierra Leone\",\"El Salvador\",\"Serbia\",\"South Sudan\",\"Sao Tome and Principe\",\"Suriname\",\"Slovakia\",\"Slovenia\",\"Sweden\",\"Eswatini (Kingdom of)\",\"Seychelles\",\"Syrian Arab Republic\",\"Chad\",\"Togo\",\"Thailand\",\"Tajikistan\",\"Turkmenistan\",\"Timor-Leste\",\"Tonga\",\"Trinidad and Tobago\",\"Tunisia\",\"Turkey\",\"Tanzania (United Republic of)\",\"Uganda\",\"Ukraine\",\"Uruguay\",\"United States\",\"Uzbekistan\",\"Saint Vincent and the Grenadines\",\"Venezuela (Bolivarian Republic of)\",\"Viet Nam\",\"Vanuatu\",\"Samoa\",\"Yemen\",\"South Africa\",\"Zambia\",\"Zimbabwe\"],\"name\":\"\",\"z\":[0.511,0.581,0.795,0.868,0.89,0.845,0.776,0.778,0.944,0.922,0.756,0.433,0.931,0.545,0.452,0.632,0.816,0.852,0.814,0.78,0.823,0.716,0.718,0.765,0.814,0.838,0.654,0.735,0.397,0.929,0.955,0.851,0.761,0.538,0.563,0.48,0.574,0.767,0.554,0.665,0.81,0.783,0.887,0.9,0.947,0.524,0.742,0.94,0.756,0.748,0.759,0.707,0.459,0.904,0.892,0.485,0.938,0.743,0.901,0.62,0.703,0.932,0.812,0.611,0.477,0.496,0.48,0.592,0.888,0.779,0.663,0.682,0.949,0.634,0.851,0.51,0.854,0.718,0.645,0.955,0.783,0.674,0.949,0.919,0.892,0.734,0.729,0.919,0.825,0.601,0.697,0.594,0.63,0.779,0.916,0.806,0.613,0.744,0.48,0.724,0.759,0.919,0.782,0.527,0.882,0.916,0.866,0.686,0.75,0.528,0.74,0.779,0.704,0.774,0.434,0.895,0.583,0.829,0.737,0.456,0.546,0.804,0.483,0.81,0.646,0.394,0.539,0.66,0.944,0.957,0.602,0.931,0.813,0.557,0.815,0.777,0.718,0.826,0.555,0.88,0.864,0.728,0.708,0.848,0.828,0.824,0.543,0.854,0.51,0.512,0.938,0.567,0.452,0.673,0.806,0.433,0.625,0.738,0.86,0.917,0.945,0.611,0.796,0.567,0.398,0.515,0.777,0.668,0.715,0.606,0.725,0.796,0.74,0.82,0.529,0.544,0.779,0.817,0.926,0.72,0.738,0.711,0.704,0.609,0.715,0.47,0.709,0.584,0.571],\"type\":\"choropleth\"}],                        {\"template\":{\"data\":{\"histogram2dcontour\":[{\"type\":\"histogram2dcontour\",\"colorbar\":{\"outlinewidth\":0,\"ticks\":\"\"},\"colorscale\":[[0.0,\"#0d0887\"],[0.1111111111111111,\"#46039f\"],[0.2222222222222222,\"#7201a8\"],[0.3333333333333333,\"#9c179e\"],[0.4444444444444444,\"#bd3786\"],[0.5555555555555556,\"#d8576b\"],[0.6666666666666666,\"#ed7953\"],[0.7777777777777778,\"#fb9f3a\"],[0.8888888888888888,\"#fdca26\"],[1.0,\"#f0f921\"]]}],\"choropleth\":[{\"type\":\"choropleth\",\"colorbar\":{\"outlinewidth\":0,\"ticks\":\"\"}}],\"histogram2d\":[{\"type\":\"histogram2d\",\"colorbar\":{\"outlinewidth\":0,\"ticks\":\"\"},\"colorscale\":[[0.0,\"#0d0887\"],[0.1111111111111111,\"#46039f\"],[0.2222222222222222,\"#7201a8\"],[0.3333333333333333,\"#9c179e\"],[0.4444444444444444,\"#bd3786\"],[0.5555555555555556,\"#d8576b\"],[0.6666666666666666,\"#ed7953\"],[0.7777777777777778,\"#fb9f3a\"],[0.8888888888888888,\"#fdca26\"],[1.0,\"#f0f921\"]]}],\"heatmap\":[{\"type\":\"heatmap\",\"colorbar\":{\"outlinewidth\":0,\"ticks\":\"\"},\"colorscale\":[[0.0,\"#0d0887\"],[0.1111111111111111,\"#46039f\"],[0.2222222222222222,\"#7201a8\"],[0.3333333333333333,\"#9c179e\"],[0.4444444444444444,\"#bd3786\"],[0.5555555555555556,\"#d8576b\"],[0.6666666666666666,\"#ed7953\"],[0.7777777777777778,\"#fb9f3a\"],[0.8888888888888888,\"#fdca26\"],[1.0,\"#f0f921\"]]}],\"heatmapgl\":[{\"type\":\"heatmapgl\",\"colorbar\":{\"outlinewidth\":0,\"ticks\":\"\"},\"colorscale\":[[0.0,\"#0d0887\"],[0.1111111111111111,\"#46039f\"],[0.2222222222222222,\"#7201a8\"],[0.3333333333333333,\"#9c179e\"],[0.4444444444444444,\"#bd3786\"],[0.5555555555555556,\"#d8576b\"],[0.6666666666666666,\"#ed7953\"],[0.7777777777777778,\"#fb9f3a\"],[0.8888888888888888,\"#fdca26\"],[1.0,\"#f0f921\"]]}],\"contourcarpet\":[{\"type\":\"contourcarpet\",\"colorbar\":{\"outlinewidth\":0,\"ticks\":\"\"}}],\"contour\":[{\"type\":\"contour\",\"colorbar\":{\"outlinewidth\":0,\"ticks\":\"\"},\"colorscale\":[[0.0,\"#0d0887\"],[0.1111111111111111,\"#46039f\"],[0.2222222222222222,\"#7201a8\"],[0.3333333333333333,\"#9c179e\"],[0.4444444444444444,\"#bd3786\"],[0.5555555555555556,\"#d8576b\"],[0.6666666666666666,\"#ed7953\"],[0.7777777777777778,\"#fb9f3a\"],[0.8888888888888888,\"#fdca26\"],[1.0,\"#f0f921\"]]}],\"surface\":[{\"type\":\"surface\",\"colorbar\":{\"outlinewidth\":0,\"ticks\":\"\"},\"colorscale\":[[0.0,\"#0d0887\"],[0.1111111111111111,\"#46039f\"],[0.2222222222222222,\"#7201a8\"],[0.3333333333333333,\"#9c179e\"],[0.4444444444444444,\"#bd3786\"],[0.5555555555555556,\"#d8576b\"],[0.6666666666666666,\"#ed7953\"],[0.7777777777777778,\"#fb9f3a\"],[0.8888888888888888,\"#fdca26\"],[1.0,\"#f0f921\"]]}],\"mesh3d\":[{\"type\":\"mesh3d\",\"colorbar\":{\"outlinewidth\":0,\"ticks\":\"\"}}],\"scatter\":[{\"fillpattern\":{\"fillmode\":\"overlay\",\"size\":10,\"solidity\":0.2},\"type\":\"scatter\"}],\"parcoords\":[{\"type\":\"parcoords\",\"line\":{\"colorbar\":{\"outlinewidth\":0,\"ticks\":\"\"}}}],\"scatterpolargl\":[{\"type\":\"scatterpolargl\",\"marker\":{\"colorbar\":{\"outlinewidth\":0,\"ticks\":\"\"}}}],\"bar\":[{\"error_x\":{\"color\":\"#2a3f5f\"},\"error_y\":{\"color\":\"#2a3f5f\"},\"marker\":{\"line\":{\"color\":\"#E5ECF6\",\"width\":0.5},\"pattern\":{\"fillmode\":\"overlay\",\"size\":10,\"solidity\":0.2}},\"type\":\"bar\"}],\"scattergeo\":[{\"type\":\"scattergeo\",\"marker\":{\"colorbar\":{\"outlinewidth\":0,\"ticks\":\"\"}}}],\"scatterpolar\":[{\"type\":\"scatterpolar\",\"marker\":{\"colorbar\":{\"outlinewidth\":0,\"ticks\":\"\"}}}],\"histogram\":[{\"marker\":{\"pattern\":{\"fillmode\":\"overlay\",\"size\":10,\"solidity\":0.2}},\"type\":\"histogram\"}],\"scattergl\":[{\"type\":\"scattergl\",\"marker\":{\"colorbar\":{\"outlinewidth\":0,\"ticks\":\"\"}}}],\"scatter3d\":[{\"type\":\"scatter3d\",\"line\":{\"colorbar\":{\"outlinewidth\":0,\"ticks\":\"\"}},\"marker\":{\"colorbar\":{\"outlinewidth\":0,\"ticks\":\"\"}}}],\"scattermapbox\":[{\"type\":\"scattermapbox\",\"marker\":{\"colorbar\":{\"outlinewidth\":0,\"ticks\":\"\"}}}],\"scatterternary\":[{\"type\":\"scatterternary\",\"marker\":{\"colorbar\":{\"outlinewidth\":0,\"ticks\":\"\"}}}],\"scattercarpet\":[{\"type\":\"scattercarpet\",\"marker\":{\"colorbar\":{\"outlinewidth\":0,\"ticks\":\"\"}}}],\"carpet\":[{\"aaxis\":{\"endlinecolor\":\"#2a3f5f\",\"gridcolor\":\"white\",\"linecolor\":\"white\",\"minorgridcolor\":\"white\",\"startlinecolor\":\"#2a3f5f\"},\"baxis\":{\"endlinecolor\":\"#2a3f5f\",\"gridcolor\":\"white\",\"linecolor\":\"white\",\"minorgridcolor\":\"white\",\"startlinecolor\":\"#2a3f5f\"},\"type\":\"carpet\"}],\"table\":[{\"cells\":{\"fill\":{\"color\":\"#EBF0F8\"},\"line\":{\"color\":\"white\"}},\"header\":{\"fill\":{\"color\":\"#C8D4E3\"},\"line\":{\"color\":\"white\"}},\"type\":\"table\"}],\"barpolar\":[{\"marker\":{\"line\":{\"color\":\"#E5ECF6\",\"width\":0.5},\"pattern\":{\"fillmode\":\"overlay\",\"size\":10,\"solidity\":0.2}},\"type\":\"barpolar\"}],\"pie\":[{\"automargin\":true,\"type\":\"pie\"}]},\"layout\":{\"autotypenumbers\":\"strict\",\"colorway\":[\"#636efa\",\"#EF553B\",\"#00cc96\",\"#ab63fa\",\"#FFA15A\",\"#19d3f3\",\"#FF6692\",\"#B6E880\",\"#FF97FF\",\"#FECB52\"],\"font\":{\"color\":\"#2a3f5f\"},\"hovermode\":\"closest\",\"hoverlabel\":{\"align\":\"left\"},\"paper_bgcolor\":\"white\",\"plot_bgcolor\":\"#E5ECF6\",\"polar\":{\"bgcolor\":\"#E5ECF6\",\"angularaxis\":{\"gridcolor\":\"white\",\"linecolor\":\"white\",\"ticks\":\"\"},\"radialaxis\":{\"gridcolor\":\"white\",\"linecolor\":\"white\",\"ticks\":\"\"}},\"ternary\":{\"bgcolor\":\"#E5ECF6\",\"aaxis\":{\"gridcolor\":\"white\",\"linecolor\":\"white\",\"ticks\":\"\"},\"baxis\":{\"gridcolor\":\"white\",\"linecolor\":\"white\",\"ticks\":\"\"},\"caxis\":{\"gridcolor\":\"white\",\"linecolor\":\"white\",\"ticks\":\"\"}},\"coloraxis\":{\"colorbar\":{\"outlinewidth\":0,\"ticks\":\"\"}},\"colorscale\":{\"sequential\":[[0.0,\"#0d0887\"],[0.1111111111111111,\"#46039f\"],[0.2222222222222222,\"#7201a8\"],[0.3333333333333333,\"#9c179e\"],[0.4444444444444444,\"#bd3786\"],[0.5555555555555556,\"#d8576b\"],[0.6666666666666666,\"#ed7953\"],[0.7777777777777778,\"#fb9f3a\"],[0.8888888888888888,\"#fdca26\"],[1.0,\"#f0f921\"]],\"sequentialminus\":[[0.0,\"#0d0887\"],[0.1111111111111111,\"#46039f\"],[0.2222222222222222,\"#7201a8\"],[0.3333333333333333,\"#9c179e\"],[0.4444444444444444,\"#bd3786\"],[0.5555555555555556,\"#d8576b\"],[0.6666666666666666,\"#ed7953\"],[0.7777777777777778,\"#fb9f3a\"],[0.8888888888888888,\"#fdca26\"],[1.0,\"#f0f921\"]],\"diverging\":[[0,\"#8e0152\"],[0.1,\"#c51b7d\"],[0.2,\"#de77ae\"],[0.3,\"#f1b6da\"],[0.4,\"#fde0ef\"],[0.5,\"#f7f7f7\"],[0.6,\"#e6f5d0\"],[0.7,\"#b8e186\"],[0.8,\"#7fbc41\"],[0.9,\"#4d9221\"],[1,\"#276419\"]]},\"xaxis\":{\"gridcolor\":\"white\",\"linecolor\":\"white\",\"ticks\":\"\",\"title\":{\"standoff\":15},\"zerolinecolor\":\"white\",\"automargin\":true,\"zerolinewidth\":2},\"yaxis\":{\"gridcolor\":\"white\",\"linecolor\":\"white\",\"ticks\":\"\",\"title\":{\"standoff\":15},\"zerolinecolor\":\"white\",\"automargin\":true,\"zerolinewidth\":2},\"scene\":{\"xaxis\":{\"backgroundcolor\":\"#E5ECF6\",\"gridcolor\":\"white\",\"linecolor\":\"white\",\"showbackground\":true,\"ticks\":\"\",\"zerolinecolor\":\"white\",\"gridwidth\":2},\"yaxis\":{\"backgroundcolor\":\"#E5ECF6\",\"gridcolor\":\"white\",\"linecolor\":\"white\",\"showbackground\":true,\"ticks\":\"\",\"zerolinecolor\":\"white\",\"gridwidth\":2},\"zaxis\":{\"backgroundcolor\":\"#E5ECF6\",\"gridcolor\":\"white\",\"linecolor\":\"white\",\"showbackground\":true,\"ticks\":\"\",\"zerolinecolor\":\"white\",\"gridwidth\":2}},\"shapedefaults\":{\"line\":{\"color\":\"#2a3f5f\"}},\"annotationdefaults\":{\"arrowcolor\":\"#2a3f5f\",\"arrowhead\":0,\"arrowwidth\":1},\"geo\":{\"bgcolor\":\"white\",\"landcolor\":\"#E5ECF6\",\"subunitcolor\":\"white\",\"showland\":true,\"showlakes\":true,\"lakecolor\":\"white\"},\"title\":{\"x\":0.05},\"mapbox\":{\"style\":\"light\"}}},\"geo\":{\"domain\":{\"x\":[0.0,1.0],\"y\":[0.0,1.0]},\"center\":{},\"scope\":\"world\"},\"coloraxis\":{\"colorbar\":{\"title\":{\"text\":\"HDI\"}},\"colorscale\":[[0.0,\"rgb(51, 19, 23)\"],[0.09090909090909091,\"rgb(79, 28, 33)\"],[0.18181818181818182,\"rgb(108, 36, 36)\"],[0.2727272727272727,\"rgb(135, 47, 32)\"],[0.36363636363636365,\"rgb(157, 66, 25)\"],[0.45454545454545453,\"rgb(174, 88, 20)\"],[0.5454545454545454,\"rgb(188, 111, 19)\"],[0.6363636363636364,\"rgb(199, 137, 22)\"],[0.7272727272727273,\"rgb(209, 164, 32)\"],[0.8181818181818182,\"rgb(217, 192, 44)\"],[0.9090909090909091,\"rgb(222, 222, 59)\"],[1.0,\"rgb(224, 253, 74)\"]]},\"legend\":{\"tracegroupgap\":0},\"margin\":{\"t\":60}},                        {\"responsive\": true}                    ).then(function(){\n",
       "                            \n",
       "var gd = document.getElementById('04839803-826a-4c48-b341-486260fb1583');\n",
       "var x = new MutationObserver(function (mutations, observer) {{\n",
       "        var display = window.getComputedStyle(gd).display;\n",
       "        if (!display || display === 'none') {{\n",
       "            console.log([gd, 'removed!']);\n",
       "            Plotly.purge(gd);\n",
       "            observer.disconnect();\n",
       "        }}\n",
       "}});\n",
       "\n",
       "// Listen for the removal of the full notebook cells\n",
       "var notebookContainer = gd.closest('#notebook-container');\n",
       "if (notebookContainer) {{\n",
       "    x.observe(notebookContainer, {childList: true});\n",
       "}}\n",
       "\n",
       "// Listen for the clearing of the current output cell\n",
       "var outputEl = gd.closest('.output');\n",
       "if (outputEl) {{\n",
       "    x.observe(outputEl, {childList: true});\n",
       "}}\n",
       "\n",
       "                        })                };                });            </script>        </div>"
      ]
     },
     "metadata": {},
     "output_type": "display_data"
    }
   ],
   "source": [
    "fig_gdp = px.choropleth(\n",
    "    df_gdp2020, \n",
    "    locations='Country Name', \n",
    "    locationmode='country names', \n",
    "    scope='world', \n",
    "    color='GDP',\n",
    "    color_continuous_scale='Viridis_r'\n",
    ")\n",
    "\n",
    "fig_gdp.update_layout(coloraxis_colorbar=dict(\n",
    "    title = 'GDP per capita',\n",
    "    ticks = 'outside',\n",
    "))\n",
    "\n",
    "fig_hdi = px.choropleth(\n",
    "    df_hdi2019, \n",
    "    locations='Country Name', \n",
    "    locationmode='country names', \n",
    "    scope='world', \n",
    "    color='HDI',\n",
    "    color_continuous_scale='solar'\n",
    ")\n",
    "\n",
    "fig_gdp.show()\n",
    "fig_hdi.show()\n",
    "\n",
    "# Uncomment these lines if you need to display the choropleths in static files\n",
    "#import plotly.offline as pyo\n",
    "#pyo.plot(fig_gdp)\n",
    "#pyo.plot(fig_hdi)"
   ]
  },
  {
   "cell_type": "markdown",
   "id": "8103f2ed",
   "metadata": {},
   "source": [
    "## Queston 2: Is there a relationship between the average price of navigation and the speed of it?"
   ]
  },
  {
   "cell_type": "markdown",
   "id": "b963054c",
   "metadata": {},
   "source": [
    "## Question 3: How does the high competition and variety of plans affect the price and number of users?"
   ]
  },
  {
   "cell_type": "markdown",
   "id": "cff15211",
   "metadata": {},
   "source": [
    "## Question 4: Is a country's low social and economic development the cause of slower internet speeds?"
   ]
  },
  {
   "cell_type": "markdown",
   "id": "241426da",
   "metadata": {},
   "source": [
    "## Question 5: Which are the countries with the best ratio between Internet cost and speed? What level of development do they have? Does this convenience involve more users?"
   ]
  }
 ],
 "metadata": {
  "kernelspec": {
   "display_name": "Python 3 (ipykernel)",
   "language": "python",
   "name": "python3"
  },
  "language_info": {
   "codemirror_mode": {
    "name": "ipython",
    "version": 3
   },
   "file_extension": ".py",
   "mimetype": "text/x-python",
   "name": "python",
   "nbconvert_exporter": "python",
   "pygments_lexer": "ipython3",
   "version": "3.7.4"
  },
  "vscode": {
   "interpreter": {
    "hash": "c8a61fd572652bbcf5c24024664fb9d0d0e48cd037a924b64aa304815d8d561a"
   }
  }
 },
 "nbformat": 4,
 "nbformat_minor": 5
}
