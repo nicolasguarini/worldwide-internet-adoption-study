{
 "cells": [
  {
   "cell_type": "markdown",
   "id": "4f2893c3",
   "metadata": {},
   "source": [
    "# Internet adoption around the world\n",
    "Lorem ipsum dolor sit amet, consectetur adipiscing elit. Nunc tempus, augue eget sollicitudin lobortis, dui metus congue odio, eget ornare dolor velit ac orci. Suspendisse interdum quis ante vel laoreet. Praesent mattis sed tellus at venenatis. Nullam mollis euismod faucibus. Suspendisse ut congue felis, eu rhoncus mauris. Vestibulum justo augue, vehicula id vulputate ut, posuere eleifend velit. Ut ullamcorper tristique ligula, quis sodales lorem ornare non. Curabitur eleifend aliquet ante, in finibus elit accumsan ut. Mauris eu laoreet sem. Nunc semper urna nunc, at feugiat arcu vestibulum et. Donec venenatis aliquam est quis cursus. Proin sit amet dapibus quam."
   ]
  },
  {
   "cell_type": "markdown",
   "id": "5d5bd473",
   "metadata": {},
   "source": [
    "## Importing the libraries\n",
    "The first thing to do is importing the modules and making sure that they are installed correctly into our envirorment."
   ]
  },
  {
   "cell_type": "code",
   "execution_count": 41,
   "id": "93a69e91",
   "metadata": {},
   "outputs": [],
   "source": [
    "#Uncomment the lines below if the following modules are not installed on your machine\n",
    "#!pip install matplotlib\n",
    "#!pip install pandas\n",
    "#!pip install plotly\n",
    "#!pip install seaborn\n",
    "\n",
    "import os\n",
    "import pandas as pd\n",
    "import plotly.express as px"
   ]
  },
  {
   "cell_type": "markdown",
   "id": "8573cd72",
   "metadata": {},
   "source": [
    "## Project structure\n"
   ]
  },
  {
   "cell_type": "markdown",
   "id": "d156054c",
   "metadata": {},
   "source": [
    "The `datasets/` folder contains the following files."
   ]
  },
  {
   "cell_type": "code",
   "execution_count": 40,
   "id": "4c472bd9",
   "metadata": {
    "scrolled": false
   },
   "outputs": [
    {
     "data": {
      "text/plain": [
       "['GDP2021.csv',\n",
       " 'HDR2020.csv',\n",
       " 'worldwide internet prices in 2022 - IN 2022.csv',\n",
       " 'worldwide internet speed in 2022 - avg speed.csv',\n",
       " 'worldwide internet users - users.csv']"
      ]
     },
     "execution_count": 40,
     "metadata": {},
     "output_type": "execute_result"
    }
   ],
   "source": [
    "os.listdir(\"datasets/\")"
   ]
  },
  {
   "cell_type": "markdown",
   "id": "1e666bc1",
   "metadata": {},
   "source": [
    "Datasets used for this projects:\n",
    "- `worldwide internet prices in 2022 - IN 2022.csv`: Contains informations about the price, plans available, and the price of most expensive and cheapest 1 GB for every country\n",
    "- `worldwide internet speed in 2022 - avg speed.csv`: Contains the average speed in Mbit per second for every country\n",
    "- `worldwide internet users - users.csv`: Contains the number of internet users and the total population for every country\n",
    "- `GDP2021.csv`: Contains the GDP (Gross Domestic Product) per capita for every country. This index measures a country's economic output per person and is calculated by dividing the GDP of a country by its population.\n",
    "- `HDR2020.csv`: Contains the HDI (Human Development Index) for every country. This index is a summary measure of average achievement in key dimensions of human development."
   ]
  },
  {
   "attachments": {},
   "cell_type": "markdown",
   "id": "03081ab4",
   "metadata": {},
   "source": [
    "Sources:\n",
    "- Worldwide internet data in 2022: https://www.kaggle.com/datasets/ramjasmaurya/1-gb-internet-price\n",
    "- HDI (Human Development Index) 2019: https://hdr.undp.org/data-center/documentation-and-downloads\n",
    "- GDP per capita (in USD): https://data.worldbank.org/indicator/NY.GDP.PCAP.CD\n"
   ]
  }
 ],
 "metadata": {
  "kernelspec": {
   "display_name": "Python 3 (ipykernel)",
   "language": "python",
   "name": "python3"
  },
  "language_info": {
   "codemirror_mode": {
    "name": "ipython",
    "version": 3
   },
   "file_extension": ".py",
   "mimetype": "text/x-python",
   "name": "python",
   "nbconvert_exporter": "python",
   "pygments_lexer": "ipython3",
   "version": "3.7.4"
  }
 },
 "nbformat": 4,
 "nbformat_minor": 5
}
